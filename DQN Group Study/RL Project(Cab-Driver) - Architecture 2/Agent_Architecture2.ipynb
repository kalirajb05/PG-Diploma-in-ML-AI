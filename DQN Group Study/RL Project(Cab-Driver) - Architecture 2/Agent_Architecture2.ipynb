{
 "cells": [
  {
   "cell_type": "markdown",
   "metadata": {
    "colab_type": "text",
    "id": "wiN3XS_Ym8aJ"
   },
   "source": [
    "# Cab-Driver Agent"
   ]
  },
  {
   "cell_type": "markdown",
   "metadata": {
    "colab_type": "text",
    "id": "qu5jnYwQywLL"
   },
   "source": [
    "## Imports"
   ]
  },
  {
   "cell_type": "markdown",
   "metadata": {
    "colab_type": "text",
    "id": "9EblFUaey5rk"
   },
   "source": [
    "### Import and mount google drive (Required on google colab)"
   ]
  },
  {
   "cell_type": "code",
   "execution_count": 1,
   "metadata": {
    "colab": {
     "base_uri": "https://localhost:8080/",
     "height": 51
    },
    "colab_type": "code",
    "executionInfo": {
     "elapsed": 1348,
     "status": "ok",
     "timestamp": 1566207070551,
     "user": {
      "displayName": "Saman Tamkeen",
      "photoUrl": "https://lh3.googleusercontent.com/-ZbIcHpA6axU/AAAAAAAAAAI/AAAAAAAABfo/UEO6yap-1W0/s64/photo.jpg",
      "userId": "04283162121766014139"
     },
     "user_tz": -330
    },
    "id": "LQva1UbqnGmE",
    "outputId": "b5e9c459-c1fd-4c37-d2be-c2808bae6d35"
   },
   "outputs": [],
   "source": [
    "# from google.colab import drive\n",
    "# drive.mount('/gdrive')\n",
    "# %cd /gdrive"
   ]
  },
  {
   "cell_type": "markdown",
   "metadata": {
    "colab_type": "text",
    "id": "rQjEKq7QzPxu"
   },
   "source": [
    "### Import libraries\n",
    "**Note: Please use keras version 2.2.4 since the model was saved using the new version, it won't load with older version**"
   ]
  },
  {
   "cell_type": "code",
   "execution_count": 2,
   "metadata": {
    "colab": {},
    "colab_type": "code",
    "id": "u3jQ5Ixem8aL"
   },
   "outputs": [],
   "source": [
    "import numpy as np\n",
    "import random\n",
    "import math\n",
    "import datetime\n",
    "import itertools\n",
    "import collections\n",
    "import pickle\n",
    "import pandas as pd\n",
    "from collections import deque\n",
    "\n",
    "# for building DQN model\n",
    "from keras import layers\n",
    "from keras import Sequential\n",
    "from keras.layers import Dense, Activation, Flatten\n",
    "from keras.optimizers import adam_v2\n",
    "from keras.models import load_model\n",
    "\n",
    "from scipy.stats import zscore\n",
    "\n",
    "# for plotting graphs\n",
    "import matplotlib.pyplot as plt\n",
    "import seaborn as sns\n",
    "from IPython.display import display\n",
    "\n",
    "from Env import CabDriver"
   ]
  },
  {
   "cell_type": "markdown",
   "metadata": {
    "colab_type": "text",
    "id": "6SzpjVh9m8aQ"
   },
   "source": [
    "## Time Matrix"
   ]
  },
  {
   "cell_type": "code",
   "execution_count": 3,
   "metadata": {
    "colab": {
     "base_uri": "https://localhost:8080/",
     "height": 51
    },
    "colab_type": "code",
    "executionInfo": {
     "elapsed": 1210,
     "status": "ok",
     "timestamp": 1566190417174,
     "user": {
      "displayName": "Saman Tamkeen",
      "photoUrl": "https://lh3.googleusercontent.com/-ZbIcHpA6axU/AAAAAAAAAAI/AAAAAAAABfo/UEO6yap-1W0/s64/photo.jpg",
      "userId": "04283162121766014139"
     },
     "user_tz": -330
    },
    "id": "KzsZxfPqm8aQ",
    "outputId": "58ab778a-2f21-4cff-ceb0-a5fbbf77a862"
   },
   "outputs": [
    {
     "name": "stdout",
     "output_type": "stream",
     "text": [
      "Time matrix shape:  (5, 5, 24, 7)\n",
      "Time taken in hours from location 1 to location 0 on 11 am on 05th day of week:  5.0\n"
     ]
    }
   ],
   "source": [
    "# Loading the time matrix provided\n",
    "Time_matrix = np.load(\"TM.npy\")\n",
    "print('Time matrix shape: ', Time_matrix.shape)\n",
    "print('Time taken in hours from location 1 to location 0 on 11 am on 05th day of week: ', Time_matrix[1][0][11][5])"
   ]
  },
  {
   "cell_type": "code",
   "execution_count": 4,
   "metadata": {
    "colab": {
     "base_uri": "https://localhost:8080/",
     "height": 71
    },
    "colab_type": "code",
    "executionInfo": {
     "elapsed": 1060,
     "status": "ok",
     "timestamp": 1566190419795,
     "user": {
      "displayName": "Saman Tamkeen",
      "photoUrl": "https://lh3.googleusercontent.com/-ZbIcHpA6axU/AAAAAAAAAAI/AAAAAAAABfo/UEO6yap-1W0/s64/photo.jpg",
      "userId": "04283162121766014139"
     },
     "user_tz": -330
    },
    "id": "97tmh86a1t-Q",
    "outputId": "d8ed3810-d097-4ca5-a3cc-8ff01cacaa49"
   },
   "outputs": [
    {
     "name": "stdout",
     "output_type": "stream",
     "text": [
      "Number of actions with 0 time taken:  10\n",
      "[((3, 0, 5), (2, 1)), ((1, 16, 6), (5, 3)), ((1, 20, 4), (5, 3)), ((1, 18, 0), (1, 4)), ((4, 23, 3), (2, 5)), ((1, 15, 3), (5, 1)), ((1, 6, 4), (1, 5)), ((5, 22, 6), (2, 4)), ((5, 14, 3), (1, 5)), ((5, 12, 6), (4, 1))]\n"
     ]
    }
   ],
   "source": [
    "zero_vals_state_action = []\n",
    "for p in range(Time_matrix.shape[0]):\n",
    "  for q in range(Time_matrix.shape[1]):\n",
    "    for hour in range(Time_matrix.shape[2]):\n",
    "      for day in range(Time_matrix.shape[3]):\n",
    "        if Time_matrix[p][q][hour][day] == 0 and p != q:\n",
    "          for z in range(1,Time_matrix.shape[0]+1):\n",
    "            zero_vals_state_action.append(((z,hour,day),(p+1,q+1)))\n",
    "print('Number of actions with 0 time taken: ', len(zero_vals_state_action[0:10]))\n",
    "print(random.sample(zero_vals_state_action,10))"
   ]
  },
  {
   "cell_type": "markdown",
   "metadata": {
    "colab_type": "text",
    "id": "gAiYIC2Ym8aP"
   },
   "source": [
    "## Test Rig for Environment "
   ]
  },
  {
   "cell_type": "code",
   "execution_count": 5,
   "metadata": {
    "colab": {
     "base_uri": "https://localhost:8080/",
     "height": 54
    },
    "colab_type": "code",
    "executionInfo": {
     "elapsed": 856,
     "status": "ok",
     "timestamp": 1566190422545,
     "user": {
      "displayName": "Saman Tamkeen",
      "photoUrl": "https://lh3.googleusercontent.com/-ZbIcHpA6axU/AAAAAAAAAAI/AAAAAAAABfo/UEO6yap-1W0/s64/photo.jpg",
      "userId": "04283162121766014139"
     },
     "user_tz": -330
    },
    "id": "NflnCKygm8aV",
    "outputId": "bf0bebab-f352-47e4-ccbe-bc4bb56fdf67"
   },
   "outputs": [
    {
     "name": "stdout",
     "output_type": "stream",
     "text": [
      "CabDriver initialized with following config {'action_space': [(1, 2), (1, 3), (1, 4), (1, 5), (2, 1), (2, 3), (2, 4), (2, 5), (3, 1), (3, 2), (3, 4), (3, 5), (4, 1), (4, 2), (4, 3), (4, 5), (5, 1), (5, 2), (5, 3), (5, 4), (0, 0)], 'state_space_length': 840, 'state_size': 36, 'total_reward': 0, 'total_time_consumed': 0, 'total_time_steps': 0, 'state_init': (2, 22, 0)}\n"
     ]
    }
   ],
   "source": [
    "driver_env = CabDriver(debug=True)"
   ]
  },
  {
   "cell_type": "code",
   "execution_count": 6,
   "metadata": {
    "colab": {
     "base_uri": "https://localhost:8080/",
     "height": 935
    },
    "colab_type": "code",
    "executionInfo": {
     "elapsed": 968,
     "status": "ok",
     "timestamp": 1566190424847,
     "user": {
      "displayName": "Saman Tamkeen",
      "photoUrl": "https://lh3.googleusercontent.com/-ZbIcHpA6axU/AAAAAAAAAAI/AAAAAAAABfo/UEO6yap-1W0/s64/photo.jpg",
      "userId": "04283162121766014139"
     },
     "user_tz": -330
    },
    "id": "KEMIE2uBm8aY",
    "outputId": "def8c65f-0494-4fb5-cdfd-0dd2ed5a0cd8"
   },
   "outputs": [
    {
     "name": "stdout",
     "output_type": "stream",
     "text": [
      "possible actions:  (2, 22, 0)  ->  [(2, 3), (1, 5), (1, 2), (3, 2), (2, 1), (5, 2), (3, 5), (2, 4), (4, 1), (4, 5), (3, 4), (4, 3), (5, 3), (1, 3), (5, 1), (0, 0)]\n",
      "Random Action Selected :  (3, 2)\n",
      "\n",
      "step:  {'state': (2, 22, 0), 'action': (3, 2), 'time_spent_for_pickup': 5, 'pickup_hour': 3, 'pickup_day': 1, 'time_spent_for_ride': 6}\n",
      "Reward Value :  -1\n",
      "Next State Value :  (2, 9, 0)\n",
      "Is terminal :  False\n",
      "Tracking info:  (-1, 11, 1)\n",
      "\n",
      "step:  {'state': (2, 22, 0), 'action': (0, 0), 'time_spent_for_pickup': 4, 'pickup_hour': 2, 'pickup_day': 1, 'time_spent_for_ride': 0}\n",
      "Reward Value :  -5\n",
      "Next State Value :  (2, 23, 0)\n",
      "Is terminal :  False\n",
      "Tracking info:  (-6, 15, 2)\n",
      "\n",
      "encode_state_v1:  (2, 22, 0)  ->  [0. 1. 0. 0. 0. 0. 0. 0. 0. 0. 0. 0. 0. 0. 0. 0. 0. 0. 0. 0. 0. 0. 0. 0.\n",
      " 0. 0. 0. 1. 0. 1. 0. 0. 0. 0. 0. 0.]\n",
      "encode_state_v1:  (36,)\n",
      "encode_state_v2:  (2, 22, 0)  ->  [0. 0. 0. 0. 0. 0. 0. 0. 0. 0. 0. 0. 0. 0. 0. 0. 0. 0. 0. 0. 0. 0. 0. 0.\n",
      " 0. 0. 0. 0. 0. 0. 0. 0. 0. 0. 0. 0. 0. 0. 0. 0. 0. 0. 0. 0. 0. 0. 0. 0.\n",
      " 0. 0. 0. 0. 0. 0. 0. 0. 0. 0. 0. 0. 0. 0. 0. 0. 0. 0. 0. 0. 0. 0. 0. 0.\n",
      " 0. 0. 0. 0. 0. 0. 0. 0. 0. 0. 0. 0. 0. 0. 0. 0. 0. 0. 0. 0. 0. 0. 0. 0.\n",
      " 0. 0. 0. 0. 0. 0. 0. 0. 0. 0. 0. 0. 0. 0. 0. 0. 0. 0. 0. 0. 0. 0. 0. 0.\n",
      " 0. 0. 0. 0. 0. 0. 0. 0. 0. 0. 0. 0. 0. 0. 0. 0. 0. 0. 0. 0. 0. 0. 0. 0.\n",
      " 0. 0. 0. 0. 0. 0. 0. 0. 0. 0. 0. 0. 0. 0. 0. 0. 0. 0. 0. 0. 0. 0. 0. 0.\n",
      " 0. 0. 0. 0. 0. 0. 0. 0. 0. 0. 0. 0. 0. 0. 0. 0. 0. 0. 0. 0. 0. 0. 0. 0.\n",
      " 0. 0. 0. 0. 0. 0. 0. 0. 0. 0. 0. 0. 0. 0. 0. 0. 0. 0. 0. 0. 0. 0. 0. 0.\n",
      " 0. 0. 0. 0. 0. 0. 0. 0. 0. 0. 0. 0. 0. 0. 0. 0. 0. 0. 0. 0. 0. 0. 0. 0.\n",
      " 0. 0. 0. 0. 0. 0. 0. 0. 0. 0. 0. 0. 0. 0. 0. 0. 0. 0. 0. 0. 0. 0. 0. 0.\n",
      " 0. 0. 0. 0. 0. 0. 0. 0. 0. 0. 0. 0. 0. 0. 0. 0. 0. 0. 0. 0. 0. 0. 0. 0.\n",
      " 0. 0. 0. 0. 0. 0. 0. 0. 0. 0. 0. 0. 0. 0. 0. 0. 0. 0. 0. 0. 0. 0. 0. 0.\n",
      " 0. 0. 0. 0. 0. 0. 0. 0. 0. 0. 1. 0. 0. 0. 0. 0. 0. 0. 0. 0. 0. 0. 0. 0.\n",
      " 0. 0. 0. 0. 0. 0. 0. 0. 0. 0. 0. 0. 0. 0. 0. 0. 0. 0. 0. 0. 0. 0. 0. 0.\n",
      " 0. 0. 0. 0. 0. 0. 0. 0. 0. 0. 0. 0. 0. 0. 0. 0. 0. 0. 0. 0. 0. 0. 0. 0.\n",
      " 0. 0. 0. 0. 0. 0. 0. 0. 0. 0. 0. 0. 0. 0. 0. 0. 0. 0. 0. 0. 0. 0. 0. 0.\n",
      " 0. 0. 0. 0. 0. 0. 0. 0. 0. 0. 0. 0. 0. 0. 0. 0. 0. 0. 0. 0. 0. 0. 0. 0.\n",
      " 0. 0. 0. 0. 0. 0. 0. 0. 0. 0. 0. 0. 0. 0. 0. 0. 0. 0. 0. 0. 0. 0. 0. 0.\n",
      " 0. 0. 0. 0. 0. 0. 0. 0. 0. 0. 0. 0. 0. 0. 0. 0. 0. 0. 0. 0. 0. 0. 0. 0.\n",
      " 0. 0. 0. 0. 0. 0. 0. 0. 0. 0. 0. 0. 0. 0. 0. 0. 0. 0. 0. 0. 0. 0. 0. 0.\n",
      " 0. 0. 0. 0. 0. 0. 0. 0. 0. 0. 0. 0. 0. 0. 0. 0. 0. 0. 0. 0. 0. 0. 0. 0.\n",
      " 0. 0. 0. 0. 0. 0. 0. 0. 0. 0. 0. 0. 0. 0. 0. 0. 0. 0. 0. 0. 0. 0. 0. 0.\n",
      " 0. 0. 0. 0. 0. 0. 0. 0. 0. 0. 0. 0. 0. 0. 0. 0. 0. 0. 0. 0. 0. 0. 0. 0.\n",
      " 0. 0. 0. 0. 0. 0. 0. 0. 0. 0. 0. 0. 0. 0. 0. 0. 0. 0. 0. 0. 0. 0. 0. 0.\n",
      " 0. 0. 0. 0. 0. 0. 0. 0. 0. 0. 0. 0. 0. 0. 0. 0. 0. 0. 0. 0. 0. 0. 0. 0.\n",
      " 0. 0. 0. 0. 0. 0. 0. 0. 0. 0. 0. 0. 0. 0. 0. 0. 0. 0. 0. 0. 0. 0. 0. 0.\n",
      " 0. 0. 0. 0. 0. 0. 0. 0. 0. 0. 0. 0. 0. 0. 0. 0. 0. 0. 0. 0. 0. 0. 0. 0.\n",
      " 0. 0. 0. 0. 0. 0. 0. 0. 0. 0. 0. 0. 0. 0. 0. 0. 0. 0. 0. 0. 0. 0. 0. 0.\n",
      " 0. 0. 0. 0. 0. 0. 0. 0. 0. 0. 0. 0. 0. 0. 0. 0. 0. 0. 0. 0. 0. 0. 0. 0.\n",
      " 0. 0. 0. 0. 0. 0. 0. 0. 0. 0. 0. 0. 0. 0. 0. 0. 0. 0. 0. 0. 0. 0. 0. 0.\n",
      " 0. 0. 0. 0. 0. 0. 0. 0. 0. 0. 0. 0. 0. 0. 0. 0. 0. 0. 0. 0. 0. 0. 0. 0.\n",
      " 0. 0. 0. 0. 0. 0. 0. 0. 0. 0. 0. 0. 0. 0. 0. 0. 0. 0. 0. 0. 0. 0. 0. 0.\n",
      " 0. 0. 0. 0. 0. 0. 0. 0. 0. 0. 0. 0. 0. 0. 0. 0. 0. 0. 0. 0. 0. 0. 0. 0.\n",
      " 0. 0. 0. 0. 0. 0. 0. 0. 0. 0. 0. 0. 0. 0. 0. 0. 0. 0. 0. 0. 0. 0. 0. 0.]\n",
      "encode_state_v2:  (840,)\n"
     ]
    }
   ],
   "source": [
    "# Check Requests\n",
    "actions = driver_env.requests(driver_env.state_init)\n",
    "\n",
    "# select random action\n",
    "action = random.choice(actions)\n",
    "print('Random Action Selected : ', action)\n",
    "print()\n",
    "\n",
    "# Check Rewards Earned and Next state for random Action\n",
    "next_state, reward, is_terminal = driver_env.step(driver_env.state_init, action)\n",
    "\n",
    "print('Reward Value : ',reward)\n",
    "print('Next State Value : ',next_state)\n",
    "print('Is terminal : ',is_terminal)\n",
    "print('Tracking info: ', driver_env.tracking_info())\n",
    "print()\n",
    "\n",
    "# Check Rewards Earned and Next state for Action - (0,0) - Driver didn't take any request.\n",
    "next_state, reward, is_terminal = driver_env.step(driver_env.state_init,(0,0))\n",
    "print('Reward Value : ',reward)\n",
    "print('Next State Value : ',next_state)\n",
    "print('Is terminal : ',is_terminal)\n",
    "print('Tracking info: ', driver_env.tracking_info())\n",
    "print()\n",
    "\n",
    "state_encode_v1 = driver_env.encode_state_v1(driver_env.state_init)\n",
    "print('encode_state_v1: ', state_encode_v1.shape)\n",
    "\n",
    "state_encode_v2 = driver_env.encode_state_v2(driver_env.state_init)\n",
    "print('encode_state_v2: ', state_encode_v2.shape)"
   ]
  },
  {
   "cell_type": "code",
   "execution_count": 7,
   "metadata": {
    "colab": {},
    "colab_type": "code",
    "id": "2NRLoA8Ym8aa"
   },
   "outputs": [],
   "source": [
    "episode_num = []\n",
    "accu_rewards = []\n",
    "total_time = []\n",
    "total_steps = []\n",
    "episodes_max = 100\n",
    "\n",
    "driver_env=CabDriver()\n",
    "\n",
    "for i in range(1,episodes_max+1):\n",
    "    driver_env.reset()\n",
    "    state = driver_env.state_init\n",
    "    is_terminal = False\n",
    "    while not is_terminal:\n",
    "        # random action selection\n",
    "        actions = driver_env.requests(state)\n",
    "        action = random.choice(actions)\n",
    "        \n",
    "        next_state, reward, is_terminal = driver_env.step(state, action)\n",
    "        state = next_state\n",
    "    \n",
    "    tot_rewards, tot_time, steps = driver_env.tracking_info()\n",
    "    episode_num.append(i)\n",
    "    accu_rewards.append(tot_rewards)\n",
    "    total_time.append(tot_time)\n",
    "    total_steps.append(steps)\n",
    "    \n",
    "episodes_vs_rewards=pd.DataFrame(data={'Episode_Number':episode_num,\n",
    "                                       'Accumulated_Rewards':accu_rewards,\n",
    "                                       'Total_Time':total_time,\n",
    "                                       'Total_Steps':total_steps})"
   ]
  },
  {
   "cell_type": "code",
   "execution_count": 8,
   "metadata": {
    "colab": {
     "base_uri": "https://localhost:8080/",
     "height": 297
    },
    "colab_type": "code",
    "executionInfo": {
     "elapsed": 987,
     "status": "ok",
     "timestamp": 1566190438998,
     "user": {
      "displayName": "Saman Tamkeen",
      "photoUrl": "https://lh3.googleusercontent.com/-ZbIcHpA6axU/AAAAAAAAAAI/AAAAAAAABfo/UEO6yap-1W0/s64/photo.jpg",
      "userId": "04283162121766014139"
     },
     "user_tz": -330
    },
    "id": "lQPSdvRZm8ad",
    "outputId": "65c73e0e-7f3f-49c6-de50-fd3b828e25fc"
   },
   "outputs": [
    {
     "data": {
      "text/html": [
       "<div>\n",
       "<style scoped>\n",
       "    .dataframe tbody tr th:only-of-type {\n",
       "        vertical-align: middle;\n",
       "    }\n",
       "\n",
       "    .dataframe tbody tr th {\n",
       "        vertical-align: top;\n",
       "    }\n",
       "\n",
       "    .dataframe thead th {\n",
       "        text-align: right;\n",
       "    }\n",
       "</style>\n",
       "<table border=\"1\" class=\"dataframe\">\n",
       "  <thead>\n",
       "    <tr style=\"text-align: right;\">\n",
       "      <th></th>\n",
       "      <th>Episode_Number</th>\n",
       "      <th>Accumulated_Rewards</th>\n",
       "      <th>Total_Time</th>\n",
       "      <th>Total_Steps</th>\n",
       "    </tr>\n",
       "  </thead>\n",
       "  <tbody>\n",
       "    <tr>\n",
       "      <th>count</th>\n",
       "      <td>100.000000</td>\n",
       "      <td>100.00000</td>\n",
       "      <td>100.00000</td>\n",
       "      <td>100.00000</td>\n",
       "    </tr>\n",
       "    <tr>\n",
       "      <th>mean</th>\n",
       "      <td>50.500000</td>\n",
       "      <td>-118.63000</td>\n",
       "      <td>724.54000</td>\n",
       "      <td>127.06000</td>\n",
       "    </tr>\n",
       "    <tr>\n",
       "      <th>std</th>\n",
       "      <td>29.011492</td>\n",
       "      <td>179.25399</td>\n",
       "      <td>3.97065</td>\n",
       "      <td>8.63259</td>\n",
       "    </tr>\n",
       "    <tr>\n",
       "      <th>min</th>\n",
       "      <td>1.000000</td>\n",
       "      <td>-719.00000</td>\n",
       "      <td>720.00000</td>\n",
       "      <td>108.00000</td>\n",
       "    </tr>\n",
       "    <tr>\n",
       "      <th>25%</th>\n",
       "      <td>25.750000</td>\n",
       "      <td>-225.25000</td>\n",
       "      <td>721.00000</td>\n",
       "      <td>121.00000</td>\n",
       "    </tr>\n",
       "    <tr>\n",
       "      <th>50%</th>\n",
       "      <td>50.500000</td>\n",
       "      <td>-129.50000</td>\n",
       "      <td>724.00000</td>\n",
       "      <td>126.50000</td>\n",
       "    </tr>\n",
       "    <tr>\n",
       "      <th>75%</th>\n",
       "      <td>75.250000</td>\n",
       "      <td>-20.50000</td>\n",
       "      <td>727.00000</td>\n",
       "      <td>133.25000</td>\n",
       "    </tr>\n",
       "    <tr>\n",
       "      <th>max</th>\n",
       "      <td>100.000000</td>\n",
       "      <td>333.00000</td>\n",
       "      <td>735.00000</td>\n",
       "      <td>149.00000</td>\n",
       "    </tr>\n",
       "  </tbody>\n",
       "</table>\n",
       "</div>"
      ],
      "text/plain": [
       "       Episode_Number  Accumulated_Rewards  Total_Time  Total_Steps\n",
       "count      100.000000            100.00000   100.00000    100.00000\n",
       "mean        50.500000           -118.63000   724.54000    127.06000\n",
       "std         29.011492            179.25399     3.97065      8.63259\n",
       "min          1.000000           -719.00000   720.00000    108.00000\n",
       "25%         25.750000           -225.25000   721.00000    121.00000\n",
       "50%         50.500000           -129.50000   724.00000    126.50000\n",
       "75%         75.250000            -20.50000   727.00000    133.25000\n",
       "max        100.000000            333.00000   735.00000    149.00000"
      ]
     },
     "execution_count": 8,
     "metadata": {},
     "output_type": "execute_result"
    }
   ],
   "source": [
    "episodes_vs_rewards.describe()"
   ]
  },
  {
   "cell_type": "code",
   "execution_count": 9,
   "metadata": {
    "colab": {
     "base_uri": "https://localhost:8080/",
     "height": 835
    },
    "colab_type": "code",
    "executionInfo": {
     "elapsed": 1991,
     "status": "ok",
     "timestamp": 1566190448676,
     "user": {
      "displayName": "Saman Tamkeen",
      "photoUrl": "https://lh3.googleusercontent.com/-ZbIcHpA6axU/AAAAAAAAAAI/AAAAAAAABfo/UEO6yap-1W0/s64/photo.jpg",
      "userId": "04283162121766014139"
     },
     "user_tz": -330
    },
    "id": "1LPmkNkmm8ag",
    "outputId": "742ddb26-e6dc-4b3b-af4e-051d587cce91"
   },
   "outputs": [
    {
     "data": {
      "text/plain": [
       "<AxesSubplot:xlabel='Episode_Number'>"
      ]
     },
     "execution_count": 9,
     "metadata": {},
     "output_type": "execute_result"
    },
    {
     "data": {
      "image/png": "[encoded data removed]",
      "text/plain": [
       "<Figure size 432x288 with 1 Axes>"
      ]
     },
     "metadata": {
      "needs_background": "light"
     },
     "output_type": "display_data"
    },
    {
     "data": {
      "image/png": "[encoded data removed]",
      "text/plain": [
       "<Figure size 432x288 with 1 Axes>"
      ]
     },
     "metadata": {
      "needs_background": "light"
     },
     "output_type": "display_data"
    },
    {
     "data": {
      "image/png": "[encoded data removed]",
      "text/plain": [
       "<Figure size 432x288 with 1 Axes>"
      ]
     },
     "metadata": {
      "needs_background": "light"
     },
     "output_type": "display_data"
    }
   ],
   "source": [
    "# Plot rewards vs Episodes\n",
    "episodes_vs_rewards.plot(x='Episode_Number',y='Accumulated_Rewards')\n",
    "episodes_vs_rewards.plot(x='Episode_Number',y='Total_Time')\n",
    "episodes_vs_rewards.plot(x='Episode_Number',y='Total_Steps')"
   ]
  },
  {
   "cell_type": "markdown",
   "metadata": {
    "colab_type": "text",
    "id": "DH42RzqCm8ai"
   },
   "source": [
    "## Agent Class\n",
    "\n",
    "If you are using this framework, you need to fill the following to complete the following code block:\n",
    "1. State and Action Size\n",
    "2. Hyperparameters\n",
    "3. Create a neural-network model in function 'build_model()'\n",
    "4. Define epsilon-greedy strategy in function 'get_action()'\n",
    "5. Complete the function 'append_sample()'. This function appends the recent experience tuple <state, action, reward, new-state> to the memory\n",
    "6. Complete the 'train_model()' function with following logic:\n",
    "   - If the memory size is greater than mini-batch size, you randomly sample experiences from memory as per the mini-batch size and do the following:\n",
    "      - Initialise your input and output batch for training the model\n",
    "      - Calculate the target Q value for each sample: reward + gamma*max(Q(s'a,))\n",
    "      - Get Q(s', a) values from the last trained model\n",
    "      - Update the input batch as your encoded state and output batch as your Q-values\n",
    "      - Then fit your DQN model using the updated input and output batch."
   ]
  },
  {
   "cell_type": "code",
   "execution_count": 10,
   "metadata": {
    "colab": {},
    "colab_type": "code",
    "id": "v7-1vOkxm8ai"
   },
   "outputs": [],
   "source": [
    "class DQNAgent:\n",
    "    def __init__(self, state_size=None, action_size=None, discount_factor=0.95, learning_rate=0.01, \n",
    "                 epsilon_min=0., epsilon_max=1., epsilon_decay=-0.0001, batch_size=32, experience_buffer_size=2000,\n",
    "                 debug=False, env=CabDriver(), state_encoding='v1'):\n",
    "        # Define size of state and action\n",
    "        \n",
    "        if state_size is not None:\n",
    "            self.state_size = state_size\n",
    "        else:\n",
    "            if state_encoding == 'v1':\n",
    "                self.state_size = env.state_size\n",
    "            elif state_encoding == 'v2':\n",
    "                self.state_size = len(env.state_space)\n",
    "            else:\n",
    "                self.state_size = env.state_size\n",
    "\n",
    "\n",
    "        if action_size is not None:\n",
    "            self.action_size = action_size\n",
    "        else:\n",
    "            self.action_size = len(env.action_space)\n",
    "\n",
    "        self.state_encoding = state_encoding\n",
    "        self.discount_factor = discount_factor\n",
    "        self.learning_rate = learning_rate \n",
    "        self.epsilon_min = epsilon_min\n",
    "        self.epsilon_max = epsilon_max\n",
    "        self.epsilon = epsilon_max\n",
    "        self.epsilon_decay = epsilon_decay\n",
    "        self.timestep = 0\n",
    "        \n",
    "        self.batch_size = batch_size        \n",
    "        # create replay memory using deque\n",
    "        self.memory = deque(maxlen=experience_buffer_size)\n",
    "        \n",
    "        self.debug = debug\n",
    "        self.env = env\n",
    "        \n",
    "        if self.debug:\n",
    "            print('DQNAgent initialized with following params: ', {\n",
    "                'state_size':self.state_size,\n",
    "                'action_size':self.action_size,\n",
    "                'state_encoding':self.state_encoding,\n",
    "                'discount_factor':self.discount_factor,\n",
    "                'learning_rate':self.learning_rate,\n",
    "                'episodes_min':self.epsilon_min,\n",
    "                'epsilon_max':self.epsilon_max,\n",
    "                'epsilon':self.epsilon,\n",
    "                'epsilon_decay':self.epsilon_decay,\n",
    "                'batch_size':self.batch_size\n",
    "            })\n",
    "\n",
    "        # create main model and target model\n",
    "        self.model = self.build_model()\n",
    "        self.target_model = self.build_model()\n",
    "        \n",
    "        # initialize target model\n",
    "        self.update_target_model()\n",
    "\n",
    "    # approximate Q function using Neural Network\n",
    "    def build_model(self):\n",
    "\n",
    "        model = Sequential()\n",
    "\n",
    "        # hidden layers\n",
    "        model.add(Dense(32, input_dim=self.state_size, activation='relu', kernel_initializer='he_uniform'))\n",
    "        model.add(Dense(32, activation='relu', kernel_initializer='he_uniform'))\n",
    "        model.add(Dense(self.action_size, activation='relu', kernel_initializer='he_uniform'))\n",
    "\n",
    "        if self.debug:\n",
    "            model.summary()\n",
    "\n",
    "        model.compile(loss='mse', optimizer=adam_v2.Adam(lr=self.learning_rate))\n",
    "\n",
    "        return model\n",
    "\n",
    "    # after some time interval update the target model to be same with model\n",
    "    def update_target_model(self):\n",
    "        self.target_model.set_weights(self.model.get_weights())\n",
    "\n",
    "    def get_action(self, state):\n",
    "        \"\"\"\n",
    "        get action in a state according to an epsilon-greedy approach\n",
    "        \"\"\"\n",
    "        if np.random.rand() <= self.epsilon:\n",
    "            # random action selection\n",
    "            actions = self.env.requests(state)\n",
    "            action = random.choice(actions)\n",
    "            if self.debug:\n",
    "                print('Random action chosen: ', action)\n",
    "        else:\n",
    "            # choose the action with the highest q(s, a)\n",
    "            if self.state_encoding == 'v1':\n",
    "                encoded_state = self.env.encode_state_v1(state)\n",
    "            else:\n",
    "                encoded_state = self.env.encode_state_v2(state)\n",
    "            # the first index corresponds to the batch size, so reshape state to (1, state_size) so that the first index corresponds to the batch size\n",
    "            encoded_state = encoded_state.reshape(1, self.state_size)\n",
    "            q_value = self.model.predict(encoded_state)\n",
    "            action = self.env.action_space[np.argmax(q_value[0])]\n",
    "            if self.debug:\n",
    "                print('Predicted action chosen: ', action)\n",
    "\n",
    "        return action\n",
    "      \n",
    "    def get_q_value(self, state, action):\n",
    "        if self.state_encoding == 'v1':\n",
    "            encoded_state = self.env.encode_state_v1(state)\n",
    "        else:\n",
    "            encoded_state = self.env.encode_state_v2(state)\n",
    "        encoded_state = encoded_state.reshape(1, self.state_size)\n",
    "        q_value = self.model.predict(encoded_state)\n",
    "        action_index = self.env.action_space.index(action)\n",
    "        return q_value[0][action_index]\n",
    "\n",
    "    def append_sample(self, state, action, reward, next_state, is_terminal):\n",
    "        self.memory.append((state, action, reward, next_state, is_terminal))\n",
    "        \n",
    "    def decay_epsilon(self):\n",
    "        # Decay in ε after we generate each sample from the environment       \n",
    "        self.timestep = self.timestep + 1\n",
    "        self.epsilon = self.epsilon_min + (self.epsilon_max - self.epsilon_min) * np.exp(self.epsilon_decay * self.timestep)\n",
    "        if self.debug:\n",
    "            print('new epsilon value: ', self.epsilon)\n",
    "   \n",
    "    # pick samples randomly from replay memory (with batch_size) and train the network\n",
    "    def train_model(self):\n",
    "        \"\"\"\n",
    "        train the neural network on a minibatch. Input to the network is the states,\n",
    "        output is the target q-value corresponding to each action.\n",
    "        \"\"\"\n",
    "        if len(self.memory) >= self.batch_size:\n",
    "            # Sample batch from the memory\n",
    "            mini_batch = random.sample(self.memory, self.batch_size)\n",
    "            \n",
    "            update_input = np.zeros((self.batch_size, self.state_size))\n",
    "            update_target = np.zeros((self.batch_size, self.state_size))\n",
    "            action, reward, is_terminal = [], [], []\n",
    "            \n",
    "            for i in range(self.batch_size):\n",
    "                if self.state_encoding == 'v1':\n",
    "                    update_input[i] = self.env.encode_state_v1(mini_batch[i][0])\n",
    "                    update_target[i] = self.env.encode_state_v1(mini_batch[i][3])\n",
    "                else:\n",
    "                    update_input[i] = self.env.encode_state_v2(mini_batch[i][0])\n",
    "                    update_target[i] = self.env.encode_state_v2(mini_batch[i][3])\n",
    "                action.append(mini_batch[i][1])\n",
    "                reward.append(mini_batch[i][2])\n",
    "                is_terminal.append(mini_batch[i][4])\n",
    " \n",
    "            # predict the target q-values from states s\n",
    "            target = self.model.predict(update_input)\n",
    "\n",
    "            # target for q-network\n",
    "            target_qval = self.target_model.predict(update_target)\n",
    "\n",
    "            # update the target values\n",
    "            for i in range(self.batch_size):\n",
    "                action_index = self.env.action_space.index(action[i])\n",
    "                if is_terminal[i]:\n",
    "                    target[i][action_index] = reward[i]\n",
    "                else:\n",
    "                    target[i][action_index] = reward[i] + self.discount_factor * (np.amax(target_qval[i]))\n",
    "\n",
    "            # model fit\n",
    "            self.model.fit(update_input, target, batch_size=self.batch_size, epochs=1, verbose=0)\n",
    "\n",
    "    def save(self, name):\n",
    "        self.model.save(name)"
   ]
  },
  {
   "cell_type": "markdown",
   "metadata": {
    "colab_type": "text",
    "id": "zXx7xiDJm8am"
   },
   "source": [
    "## DQN block"
   ]
  },
  {
   "cell_type": "code",
   "execution_count": 11,
   "metadata": {
    "colab": {},
    "colab_type": "code",
    "id": "HM8wV5o3m8am",
    "scrolled": false
   },
   "outputs": [],
   "source": [
    "scores, timesteps, episodes = [], [], []\n",
    "state_action_sample = {}\n",
    "\n",
    "def train_agent(episodes_to_run=1000, model_name='model.hd5', debug=False, state_encoding='v1',\n",
    "                episode_info_frequency=50, model_save_frequency=50, **agent_args):\n",
    "    env = CabDriver(debug=debug)\n",
    "    agent = DQNAgent(debug=debug, state_encoding=state_encoding, **agent_args)\n",
    "    \n",
    "    # randomly sample 0.1% of state-action pairs for tracking convergence\n",
    "    state_action_to_sample = random.sample([(state,action) for state,action in itertools.product(env.state_space, env.action_space)], math.ceil(0.001*len(env.state_space)*len(env.action_space)))\n",
    "    for state,action in state_action_to_sample:\n",
    "        state_action_sample.update({(state,action):[]})\n",
    "\n",
    "    for episode in range(episodes_to_run):    \n",
    "        is_terminal = False\n",
    "        score = 0\n",
    "        state = env.reset()\n",
    "        rewards = []\n",
    "\n",
    "        while not is_terminal:\n",
    "            # Write your code here\n",
    "            # 1. Pick epsilon-greedy action from possible actions for the current state\n",
    "            # 2. Evaluate your reward and next state\n",
    "            # 3. Append the experience to the memory\n",
    "            # 4. Train the model by calling function agent.train_model\n",
    "            # 5. Keep a track of rewards, Q-values, loss\n",
    "\n",
    "            # get action for the current state and go one step in environment\n",
    "            action = agent.get_action(state)\n",
    "            next_state, reward, is_terminal = env.step(state, action)\n",
    "            rewards.append(reward)\n",
    "            agent.append_sample(state, action, reward, next_state, is_terminal)\n",
    "            agent.decay_epsilon()\n",
    "            if agent.timestep % 25 == 0:\n",
    "                agent.train_model()\n",
    "            \n",
    "            if (state,action) in state_action_to_sample:\n",
    "                q_value = agent.get_q_value(state, action)\n",
    "                state_action_sample[(state,action)].append(q_value)\n",
    "\n",
    "            state = next_state\n",
    "\n",
    "        agent.update_target_model()\n",
    "        total_rewards, episode_length, total_timesteps = env.tracking_info()\n",
    "        scores.append(total_rewards)\n",
    "        timesteps.append(total_timesteps)\n",
    "        episodes.append(episode)\n",
    "\n",
    "        if episode % episode_info_frequency == 0:\n",
    "            print(\"episode:\", episode, \"  score:\", total_rewards, \"  requests:\", total_timesteps, \"  memory length:\", len(agent.memory), \"  timesteps:\", agent.timestep, \"  epsilon:\", agent.epsilon, \"  last 200 std dev:\", np.std(scores[-200:]))\n",
    "\n",
    "        if episode % model_save_frequency == 0:\n",
    "            agent.save(model_name)\n",
    "\n",
    "    print(\"episode:\", episode, \"  score:\", total_rewards, \"  requests:\", total_timesteps, \"  memory length:\", len(agent.memory), \"  timesteps:\", agent.timestep, \"  epsilon:\", agent.epsilon, \"  last 200 std dev:\", np.std(scores[-200:]))\n",
    "    agent.save(model_name)"
   ]
  },
  {
   "cell_type": "markdown",
   "metadata": {
    "colab_type": "text",
    "id": "9zRlIfUT5g0J"
   },
   "source": [
    "### Test dqn training block for 1 episode"
   ]
  },
  {
   "cell_type": "code",
   "execution_count": 12,
   "metadata": {
    "colab": {
     "base_uri": "https://localhost:8080/",
     "height": 1000
    },
    "colab_type": "code",
    "executionInfo": {
     "elapsed": 3344,
     "status": "ok",
     "timestamp": 1566190628318,
     "user": {
      "displayName": "Saman Tamkeen",
      "photoUrl": "https://lh3.googleusercontent.com/-ZbIcHpA6axU/AAAAAAAAAAI/AAAAAAAABfo/UEO6yap-1W0/s64/photo.jpg",
      "userId": "04283162121766014139"
     },
     "user_tz": -330
    },
    "id": "_nMZVb0vm8ao",
    "outputId": "d1189a2d-2f53-4adc-ea71-2d05557075cd",
    "scrolled": true
   },
   "outputs": [
    {
     "name": "stdout",
     "output_type": "stream",
     "text": [
      "CabDriver initialized with following config {'action_space': [(1, 2), (1, 3), (1, 4), (1, 5), (2, 1), (2, 3), (2, 4), (2, 5), (3, 1), (3, 2), (3, 4), (3, 5), (4, 1), (4, 2), (4, 3), (4, 5), (5, 1), (5, 2), (5, 3), (5, 4), (0, 0)], 'state_space_length': 840, 'state_size': 36, 'total_reward': 0, 'total_time_consumed': 0, 'total_time_steps': 0, 'state_init': (2, 12, 6)}\n",
      "DQNAgent initialized with following params:  {'state_size': 36, 'action_size': 21, 'state_encoding': 'v1', 'discount_factor': 0.95, 'learning_rate': 0.01, 'episodes_min': 0.0, 'epsilon_max': 1.0, 'epsilon': 1.0, 'epsilon_decay': -5e-05, 'batch_size': 32}\n",
      "Model: \"sequential\"\n",
      "_________________________________________________________________\n",
      "Layer (type)                 Output Shape              Param #   \n",
      "=================================================================\n",
      "dense (Dense)                (None, 32)                1184      \n",
      "_________________________________________________________________\n",
      "dense_1 (Dense)              (None, 32)                1056      \n",
      "_________________________________________________________________\n",
      "dense_2 (Dense)              (None, 21)                693       \n",
      "=================================================================\n",
      "Total params: 2,933\n",
      "Trainable params: 2,933\n",
      "Non-trainable params: 0\n",
      "_________________________________________________________________\n",
      "Model: \"sequential_1\"\n",
      "_________________________________________________________________\n",
      "Layer (type)                 Output Shape              Param #   \n",
      "=================================================================\n",
      "dense_3 (Dense)              (None, 32)                1184      \n",
      "_________________________________________________________________\n",
      "dense_4 (Dense)              (None, 32)                1056      \n",
      "_________________________________________________________________\n",
      "dense_5 (Dense)              (None, 21)                693       \n",
      "=================================================================\n",
      "Total params: 2,933\n",
      "Trainable params: 2,933\n",
      "Non-trainable params: 0\n",
      "_________________________________________________________________\n",
      "Random action chosen:  (1, 4)\n",
      "step:  {'state': (4, 1, 4), 'action': (1, 4), 'time_spent_for_pickup': 7, 'pickup_hour': 8, 'pickup_day': 4, 'time_spent_for_ride': 1}\n",
      "new epsilon value:  0.9999500012499791\n",
      "Random action chosen:  (1, 2)\n",
      "step:  {'state': (4, 9, 4), 'action': (1, 2), 'time_spent_for_pickup': 1, 'pickup_hour': 10, 'pickup_day': 4, 'time_spent_for_ride': 8}\n",
      "new epsilon value:  0.9999000049998333\n",
      "Random action chosen:  (1, 5)\n",
      "step:  {'state': (2, 18, 4), 'action': (1, 5), 'time_spent_for_pickup': 7, 'pickup_hour': 1, 'pickup_day': 5, 'time_spent_for_ride': 1}\n",
      "new epsilon value:  0.9998500112494375\n",
      "Random action chosen:  (5, 3)\n",
      "step:  {'state': (5, 2, 4), 'action': (5, 3), 'time_spent_for_pickup': 0, 'pickup_hour': 2, 'pickup_day': 4, 'time_spent_for_ride': 1}\n",
      "new epsilon value:  0.9998000199986667\n",
      "Random action chosen:  (1, 5)\n",
      "step:  {'state': (3, 3, 4), 'action': (1, 5), 'time_spent_for_pickup': 3, 'pickup_hour': 6, 'pickup_day': 4, 'time_spent_for_ride': 0}\n",
      "new epsilon value:  0.999750031247396\n",
      "Random action chosen:  (1, 4)\n",
      "step:  {'state': (5, 6, 4), 'action': (1, 4), 'time_spent_for_pickup': 0, 'pickup_hour': 6, 'pickup_day': 4, 'time_spent_for_ride': 1}\n",
      "new epsilon value:  0.9997000449955004\n",
      "Random action chosen:  (1, 3)\n",
      "step:  {'state': (4, 7, 4), 'action': (1, 3), 'time_spent_for_pickup': 1, 'pickup_hour': 8, 'pickup_day': 4, 'time_spent_for_ride': 5}\n",
      "new epsilon value:  0.9996500612428548\n",
      "Random action chosen:  (0, 0)\n",
      "step:  {'state': (3, 13, 4), 'action': (0, 0), 'time_spent_for_pickup': 2, 'pickup_hour': 15, 'pickup_day': 4, 'time_spent_for_ride': 0}\n",
      "new epsilon value:  0.9996000799893344\n",
      "Random action chosen:  (5, 1)\n",
      "step:  {'state': (3, 14, 4), 'action': (5, 1), 'time_spent_for_pickup': 2, 'pickup_hour': 16, 'pickup_day': 4, 'time_spent_for_ride': 4}\n",
      "new epsilon value:  0.9995501012348142\n",
      "Random action chosen:  (0, 0)\n",
      "step:  {'state': (1, 20, 4), 'action': (0, 0), 'time_spent_for_pickup': 3, 'pickup_hour': 23, 'pickup_day': 4, 'time_spent_for_ride': 0}\n",
      "new epsilon value:  0.9995001249791693\n",
      "Random action chosen:  (0, 0)\n",
      "step:  {'state': (1, 21, 4), 'action': (0, 0), 'time_spent_for_pickup': 3, 'pickup_hour': 0, 'pickup_day': 5, 'time_spent_for_ride': 0}\n",
      "new epsilon value:  0.9994501512222747\n",
      "Random action chosen:  (1, 4)\n",
      "step:  {'state': (1, 22, 4), 'action': (1, 4), 'time_spent_for_pickup': 0, 'pickup_hour': 22, 'pickup_day': 4, 'time_spent_for_ride': 1}\n",
      "new epsilon value:  0.9994001799640054\n",
      "Random action chosen:  (5, 3)\n",
      "step:  {'state': (4, 23, 4), 'action': (5, 3), 'time_spent_for_pickup': 4, 'pickup_hour': 3, 'pickup_day': 5, 'time_spent_for_ride': 0}\n",
      "new epsilon value:  0.9993502112042366\n",
      "Random action chosen:  (0, 0)\n",
      "step:  {'state': (3, 3, 4), 'action': (0, 0), 'time_spent_for_pickup': 1, 'pickup_hour': 4, 'pickup_day': 4, 'time_spent_for_ride': 0}\n",
      "new epsilon value:  0.9993002449428433\n",
      "Random action chosen:  (2, 4)\n",
      "step:  {'state': (3, 4, 4), 'action': (2, 4), 'time_spent_for_pickup': 7, 'pickup_hour': 11, 'pickup_day': 4, 'time_spent_for_ride': 3}\n",
      "new epsilon value:  0.9992502811797007\n",
      "Random action chosen:  (2, 5)\n",
      "step:  {'state': (4, 14, 4), 'action': (2, 5), 'time_spent_for_pickup': 1, 'pickup_hour': 15, 'pickup_day': 4, 'time_spent_for_ride': 2}\n",
      "new epsilon value:  0.9992003199146837\n",
      "Random action chosen:  (5, 1)\n",
      "step:  {'state': (5, 17, 4), 'action': (5, 1), 'time_spent_for_pickup': 0, 'pickup_hour': 17, 'pickup_day': 4, 'time_spent_for_ride': 4}\n",
      "new epsilon value:  0.9991503611476675\n",
      "Random action chosen:  (4, 2)\n",
      "step:  {'state': (1, 21, 4), 'action': (4, 2), 'time_spent_for_pickup': 1, 'pickup_hour': 22, 'pickup_day': 4, 'time_spent_for_ride': 3}\n",
      "new epsilon value:  0.9991004048785274\n",
      "Random action chosen:  (3, 5)\n",
      "step:  {'state': (2, 1, 5), 'action': (3, 5), 'time_spent_for_pickup': 9, 'pickup_hour': 10, 'pickup_day': 5, 'time_spent_for_ride': 8}\n",
      "new epsilon value:  0.9990504511071381\n",
      "Random action chosen:  (2, 1)\n",
      "step:  {'state': (5, 18, 5), 'action': (2, 1), 'time_spent_for_pickup': 2, 'pickup_hour': 20, 'pickup_day': 5, 'time_spent_for_ride': 4}\n",
      "new epsilon value:  0.999000499833375\n",
      "Random action chosen:  (4, 2)\n",
      "step:  {'state': (1, 0, 6), 'action': (4, 2), 'time_spent_for_pickup': 6, 'pickup_hour': 6, 'pickup_day': 6, 'time_spent_for_ride': 4}\n",
      "new epsilon value:  0.9989505510571132\n",
      "Random action chosen:  (3, 5)\n",
      "step:  {'state': (2, 10, 6), 'action': (3, 5), 'time_spent_for_pickup': 4, 'pickup_hour': 14, 'pickup_day': 6, 'time_spent_for_ride': 0}\n",
      "new epsilon value:  0.9989006047782276\n",
      "Random action chosen:  (0, 0)\n",
      "step:  {'state': (5, 14, 6), 'action': (0, 0), 'time_spent_for_pickup': 0, 'pickup_hour': 14, 'pickup_day': 6, 'time_spent_for_ride': 0}\n",
      "new epsilon value:  0.9988506609965937\n",
      "Random action chosen:  (5, 3)\n",
      "step:  {'state': (5, 15, 6), 'action': (5, 3), 'time_spent_for_pickup': 0, 'pickup_hour': 15, 'pickup_day': 6, 'time_spent_for_ride': 0}\n",
      "new epsilon value:  0.9988007197120864\n",
      "Random action chosen:  (0, 0)\n",
      "step:  {'state': (3, 15, 6), 'action': (0, 0), 'time_spent_for_pickup': 0, 'pickup_hour': 15, 'pickup_day': 6, 'time_spent_for_ride': 0}\n",
      "new epsilon value:  0.9987507809245809\n",
      "Random action chosen:  (3, 4)\n",
      "step:  {'state': (3, 16, 6), 'action': (3, 4), 'time_spent_for_pickup': 0, 'pickup_hour': 16, 'pickup_day': 6, 'time_spent_for_ride': 8}\n",
      "new epsilon value:  0.9987008446339523\n",
      "Random action chosen:  (5, 3)\n",
      "step:  {'state': (4, 0, 0), 'action': (5, 3), 'time_spent_for_pickup': 2, 'pickup_hour': 2, 'pickup_day': 0, 'time_spent_for_ride': 1}\n",
      "new epsilon value:  0.9986509108400758\n",
      "Random action chosen:  (0, 0)\n",
      "step:  {'state': (3, 3, 0), 'action': (0, 0), 'time_spent_for_pickup': 1, 'pickup_hour': 4, 'pickup_day': 0, 'time_spent_for_ride': 0}\n",
      "new epsilon value:  0.9986009795428267\n",
      "Random action chosen:  (2, 1)\n",
      "step:  {'state': (3, 4, 0), 'action': (2, 1), 'time_spent_for_pickup': 5, 'pickup_hour': 9, 'pickup_day': 0, 'time_spent_for_ride': 9}\n",
      "new epsilon value:  0.99855105074208\n",
      "Random action chosen:  (0, 0)\n",
      "step:  {'state': (1, 18, 0), 'action': (0, 0), 'time_spent_for_pickup': 6, 'pickup_hour': 0, 'pickup_day': 1, 'time_spent_for_ride': 0}\n",
      "new epsilon value:  0.9985011244377109\n",
      "Random action chosen:  (4, 3)\n",
      "step:  {'state': (1, 19, 0), 'action': (4, 3), 'time_spent_for_pickup': 0, 'pickup_hour': 19, 'pickup_day': 0, 'time_spent_for_ride': 3}\n",
      "new epsilon value:  0.9984512006295946\n",
      "Random action chosen:  (5, 1)\n",
      "step:  {'state': (3, 22, 0), 'action': (5, 1), 'time_spent_for_pickup': 0, 'pickup_hour': 22, 'pickup_day': 0, 'time_spent_for_ride': 6}\n",
      "new epsilon value:  0.9984012793176064\n",
      "Random action chosen:  (3, 5)\n",
      "step:  {'state': (1, 4, 1), 'action': (3, 5), 'time_spent_for_pickup': 6, 'pickup_hour': 10, 'pickup_day': 1, 'time_spent_for_ride': 5}\n",
      "new epsilon value:  0.9983513605016212\n",
      "Random action chosen:  (0, 0)\n",
      "step:  {'state': (5, 15, 1), 'action': (0, 0), 'time_spent_for_pickup': 0, 'pickup_hour': 15, 'pickup_day': 1, 'time_spent_for_ride': 0}\n",
      "new epsilon value:  0.9983014441815146\n",
      "Random action chosen:  (4, 3)\n",
      "step:  {'state': (5, 16, 1), 'action': (4, 3), 'time_spent_for_pickup': 6, 'pickup_hour': 22, 'pickup_day': 1, 'time_spent_for_ride': 4}\n",
      "new epsilon value:  0.9982515303571615\n",
      "Random action chosen:  (3, 1)\n",
      "step:  {'state': (3, 2, 2), 'action': (3, 1), 'time_spent_for_pickup': 0, 'pickup_hour': 2, 'pickup_day': 2, 'time_spent_for_ride': 5}\n",
      "new epsilon value:  0.9982016190284373\n",
      "Random action chosen:  (3, 1)\n",
      "step:  {'state': (1, 7, 2), 'action': (3, 1), 'time_spent_for_pickup': 6, 'pickup_hour': 13, 'pickup_day': 2, 'time_spent_for_ride': 1}\n",
      "new epsilon value:  0.9981517101952171\n",
      "Random action chosen:  (4, 5)\n",
      "step:  {'state': (1, 14, 2), 'action': (4, 5), 'time_spent_for_pickup': 2, 'pickup_hour': 16, 'pickup_day': 2, 'time_spent_for_ride': 6}\n",
      "new epsilon value:  0.9981018038573761\n",
      "Random action chosen:  (1, 3)\n",
      "step:  {'state': (5, 22, 2), 'action': (1, 3), 'time_spent_for_pickup': 7, 'pickup_hour': 5, 'pickup_day': 3, 'time_spent_for_ride': 3}\n",
      "new epsilon value:  0.9980519000147897\n",
      "Random action chosen:  (2, 4)\n",
      "step:  {'state': (3, 8, 2), 'action': (2, 4), 'time_spent_for_pickup': 4, 'pickup_hour': 12, 'pickup_day': 2, 'time_spent_for_ride': 1}\n",
      "new epsilon value:  0.9980019986673331\n",
      "Random action chosen:  (0, 0)\n",
      "step:  {'state': (4, 13, 2), 'action': (0, 0), 'time_spent_for_pickup': 6, 'pickup_hour': 19, 'pickup_day': 2, 'time_spent_for_ride': 0}\n",
      "new epsilon value:  0.9979520998148814\n",
      "Random action chosen:  (3, 4)\n",
      "step:  {'state': (4, 14, 2), 'action': (3, 4), 'time_spent_for_pickup': 4, 'pickup_hour': 18, 'pickup_day': 2, 'time_spent_for_ride': 4}\n",
      "new epsilon value:  0.99790220345731\n",
      "Random action chosen:  (4, 3)\n",
      "step:  {'state': (4, 22, 2), 'action': (4, 3), 'time_spent_for_pickup': 0, 'pickup_hour': 22, 'pickup_day': 2, 'time_spent_for_ride': 4}\n",
      "new epsilon value:  0.9978523095944941\n",
      "Random action chosen:  (2, 1)\n",
      "step:  {'state': (3, 2, 3), 'action': (2, 1), 'time_spent_for_pickup': 7, 'pickup_hour': 9, 'pickup_day': 3, 'time_spent_for_ride': 7}\n",
      "new epsilon value:  0.997802418226309\n",
      "Random action chosen:  (0, 0)\n",
      "step:  {'state': (1, 16, 3), 'action': (0, 0), 'time_spent_for_pickup': 0, 'pickup_hour': 16, 'pickup_day': 3, 'time_spent_for_ride': 0}\n",
      "new epsilon value:  0.9977525293526299\n",
      "Random action chosen:  (5, 1)\n",
      "step:  {'state': (1, 17, 3), 'action': (5, 1), 'time_spent_for_pickup': 0, 'pickup_hour': 17, 'pickup_day': 3, 'time_spent_for_ride': 0}\n",
      "new epsilon value:  0.9977026429733321\n",
      "Random action chosen:  (2, 4)\n",
      "step:  {'state': (1, 17, 3), 'action': (2, 4), 'time_spent_for_pickup': 4, 'pickup_hour': 21, 'pickup_day': 3, 'time_spent_for_ride': 1}\n",
      "new epsilon value:  0.997652759088291\n",
      "Random action chosen:  (2, 1)\n",
      "step:  {'state': (4, 22, 3), 'action': (2, 1), 'time_spent_for_pickup': 1, 'pickup_hour': 23, 'pickup_day': 3, 'time_spent_for_ride': 2}\n",
      "new epsilon value:  0.9976028776973818\n",
      "Random action chosen:  (2, 5)\n",
      "step:  {'state': (1, 1, 4), 'action': (2, 5), 'time_spent_for_pickup': 7, 'pickup_hour': 8, 'pickup_day': 4, 'time_spent_for_ride': 6}\n",
      "new epsilon value:  0.9975529988004797\n",
      "Random action chosen:  (3, 1)\n",
      "step:  {'state': (5, 14, 4), 'action': (3, 1), 'time_spent_for_pickup': 2, 'pickup_hour': 16, 'pickup_day': 4, 'time_spent_for_ride': 3}\n",
      "new epsilon value:  0.9975031223974601\n"
     ]
    },
    {
     "name": "stderr",
     "output_type": "stream",
     "text": [
      "/usr/local/lib/python3.9/site-packages/keras/optimizer_v2/optimizer_v2.py:357: UserWarning: The `lr` argument is deprecated, use `learning_rate` instead.\n",
      "  warnings.warn(\n"
     ]
    },
    {
     "name": "stdout",
     "output_type": "stream",
     "text": [
      "Random action chosen:  (3, 1)\n",
      "step:  {'state': (1, 19, 4), 'action': (3, 1), 'time_spent_for_pickup': 4, 'pickup_hour': 23, 'pickup_day': 4, 'time_spent_for_ride': 4}\n",
      "new epsilon value:  0.9974532484881984\n",
      "Random action chosen:  (3, 2)\n",
      "step:  {'state': (1, 3, 5), 'action': (3, 2), 'time_spent_for_pickup': 7, 'pickup_hour': 10, 'pickup_day': 5, 'time_spent_for_ride': 11}\n",
      "new epsilon value:  0.9974033770725698\n",
      "Random action chosen:  (3, 2)\n",
      "step:  {'state': (2, 21, 5), 'action': (3, 2), 'time_spent_for_pickup': 6, 'pickup_hour': 3, 'pickup_day': 6, 'time_spent_for_ride': 7}\n",
      "new epsilon value:  0.9973535081504495\n",
      "Random action chosen:  (1, 3)\n",
      "step:  {'state': (2, 10, 5), 'action': (1, 3), 'time_spent_for_pickup': 5, 'pickup_hour': 15, 'pickup_day': 5, 'time_spent_for_ride': 4}\n",
      "new epsilon value:  0.9973036417217132\n",
      "Random action chosen:  (2, 4)\n",
      "step:  {'state': (3, 19, 5), 'action': (2, 4), 'time_spent_for_pickup': 6, 'pickup_hour': 1, 'pickup_day': 6, 'time_spent_for_ride': 4}\n",
      "new epsilon value:  0.9972537777862358\n",
      "Random action chosen:  (1, 5)\n",
      "step:  {'state': (4, 5, 5), 'action': (1, 5), 'time_spent_for_pickup': 4, 'pickup_hour': 9, 'pickup_day': 5, 'time_spent_for_ride': 0}\n",
      "new epsilon value:  0.9972039163438929\n",
      "Random action chosen:  (4, 2)\n",
      "step:  {'state': (5, 9, 5), 'action': (4, 2), 'time_spent_for_pickup': 4, 'pickup_hour': 13, 'pickup_day': 5, 'time_spent_for_ride': 2}\n",
      "new epsilon value:  0.9971540573945599\n",
      "Random action chosen:  (3, 2)\n",
      "step:  {'state': (2, 15, 5), 'action': (3, 2), 'time_spent_for_pickup': 2, 'pickup_hour': 17, 'pickup_day': 5, 'time_spent_for_ride': 2}\n",
      "new epsilon value:  0.9971042009381119\n",
      "Random action chosen:  (1, 3)\n",
      "step:  {'state': (2, 19, 5), 'action': (1, 3), 'time_spent_for_pickup': 4, 'pickup_hour': 23, 'pickup_day': 5, 'time_spent_for_ride': 5}\n",
      "new epsilon value:  0.9970543469744245\n",
      "Random action chosen:  (4, 5)\n",
      "step:  {'state': (3, 4, 6), 'action': (4, 5), 'time_spent_for_pickup': 9, 'pickup_hour': 13, 'pickup_day': 6, 'time_spent_for_ride': 3}\n",
      "new epsilon value:  0.997004495503373\n",
      "Random action chosen:  (2, 1)\n",
      "step:  {'state': (5, 16, 6), 'action': (2, 1), 'time_spent_for_pickup': 2, 'pickup_hour': 18, 'pickup_day': 6, 'time_spent_for_ride': 2}\n",
      "new epsilon value:  0.9969546465248327\n",
      "Random action chosen:  (0, 0)\n",
      "step:  {'state': (1, 20, 6), 'action': (0, 0), 'time_spent_for_pickup': 8, 'pickup_hour': 4, 'pickup_day': 0, 'time_spent_for_ride': 0}\n",
      "new epsilon value:  0.996904800038679\n",
      "Random action chosen:  (0, 0)\n",
      "step:  {'state': (1, 21, 6), 'action': (0, 0), 'time_spent_for_pickup': 8, 'pickup_hour': 5, 'pickup_day': 0, 'time_spent_for_ride': 0}\n",
      "new epsilon value:  0.9968549560447872\n",
      "Random action chosen:  (5, 2)\n",
      "step:  {'state': (1, 22, 6), 'action': (5, 2), 'time_spent_for_pickup': 8, 'pickup_hour': 6, 'pickup_day': 0, 'time_spent_for_ride': 3}\n",
      "new epsilon value:  0.9968051145430329\n",
      "Random action chosen:  (2, 4)\n",
      "step:  {'state': (2, 9, 6), 'action': (2, 4), 'time_spent_for_pickup': 0, 'pickup_hour': 9, 'pickup_day': 6, 'time_spent_for_ride': 4}\n",
      "new epsilon value:  0.9967552755332915\n",
      "Random action chosen:  (0, 0)\n",
      "step:  {'state': (4, 13, 6), 'action': (0, 0), 'time_spent_for_pickup': 3, 'pickup_hour': 16, 'pickup_day': 6, 'time_spent_for_ride': 0}\n",
      "new epsilon value:  0.9967054390154381\n",
      "Random action chosen:  (3, 2)\n",
      "step:  {'state': (4, 14, 6), 'action': (3, 2), 'time_spent_for_pickup': 8, 'pickup_hour': 22, 'pickup_day': 6, 'time_spent_for_ride': 8}\n",
      "new epsilon value:  0.9966556049893484\n",
      "Random action chosen:  (5, 4)\n",
      "step:  {'state': (2, 6, 0), 'action': (5, 4), 'time_spent_for_pickup': 3, 'pickup_hour': 9, 'pickup_day': 0, 'time_spent_for_ride': 7}\n",
      "new epsilon value:  0.9966057734548976\n",
      "Random action chosen:  (2, 3)\n",
      "step:  {'state': (4, 16, 0), 'action': (2, 3), 'time_spent_for_pickup': 1, 'pickup_hour': 17, 'pickup_day': 0, 'time_spent_for_ride': 1}\n",
      "new epsilon value:  0.9965559444119613\n",
      "Random action chosen:  (5, 1)\n",
      "step:  {'state': (3, 18, 0), 'action': (5, 1), 'time_spent_for_pickup': 0, 'pickup_hour': 18, 'pickup_day': 0, 'time_spent_for_ride': 6}\n",
      "new epsilon value:  0.9965061178604149\n",
      "Random action chosen:  (0, 0)\n",
      "step:  {'state': (1, 0, 1), 'action': (0, 0), 'time_spent_for_pickup': 1, 'pickup_hour': 1, 'pickup_day': 1, 'time_spent_for_ride': 0}\n",
      "new epsilon value:  0.9964562938001338\n",
      "Random action chosen:  (2, 4)\n",
      "step:  {'state': (1, 1, 1), 'action': (2, 4), 'time_spent_for_pickup': 3, 'pickup_hour': 4, 'pickup_day': 1, 'time_spent_for_ride': 6}\n",
      "new epsilon value:  0.9964064722309933\n",
      "Random action chosen:  (2, 1)\n",
      "step:  {'state': (4, 10, 1), 'action': (2, 1), 'time_spent_for_pickup': 2, 'pickup_hour': 12, 'pickup_day': 1, 'time_spent_for_ride': 7}\n",
      "new epsilon value:  0.9963566531528691\n",
      "Random action chosen:  (3, 2)\n",
      "step:  {'state': (1, 19, 1), 'action': (3, 2), 'time_spent_for_pickup': 2, 'pickup_hour': 21, 'pickup_day': 1, 'time_spent_for_ride': 11}\n",
      "new epsilon value:  0.9963068365656366\n",
      "Random action chosen:  (1, 4)\n",
      "step:  {'state': (2, 8, 2), 'action': (1, 4), 'time_spent_for_pickup': 9, 'pickup_hour': 17, 'pickup_day': 2, 'time_spent_for_ride': 2}\n",
      "new epsilon value:  0.996257022469171\n",
      "Random action chosen:  (3, 5)\n",
      "step:  {'state': (4, 19, 2), 'action': (3, 5), 'time_spent_for_pickup': 4, 'pickup_hour': 23, 'pickup_day': 2, 'time_spent_for_ride': 2}\n",
      "new epsilon value:  0.9962072108633482\n",
      "Random action chosen:  (1, 5)\n",
      "step:  {'state': (5, 1, 3), 'action': (1, 5), 'time_spent_for_pickup': 0, 'pickup_hour': 1, 'pickup_day': 3, 'time_spent_for_ride': 0}\n",
      "new epsilon value:  0.9961574017480432\n",
      "Random action chosen:  (3, 5)\n",
      "step:  {'state': (5, 1, 3), 'action': (3, 5), 'time_spent_for_pickup': 2, 'pickup_hour': 3, 'pickup_day': 3, 'time_spent_for_ride': 2}\n",
      "new epsilon value:  0.9961075951231319\n",
      "Random action chosen:  (2, 3)\n",
      "step:  {'state': (5, 5, 3), 'action': (2, 3), 'time_spent_for_pickup': 2, 'pickup_hour': 7, 'pickup_day': 3, 'time_spent_for_ride': 10}\n",
      "new epsilon value:  0.9960577909884895\n",
      "Random action chosen:  (0, 0)\n",
      "step:  {'state': (3, 17, 3), 'action': (0, 0), 'time_spent_for_pickup': 1, 'pickup_hour': 18, 'pickup_day': 3, 'time_spent_for_ride': 0}\n",
      "new epsilon value:  0.9960079893439915\n",
      "Random action chosen:  (3, 4)\n",
      "step:  {'state': (3, 18, 3), 'action': (3, 4), 'time_spent_for_pickup': 0, 'pickup_hour': 18, 'pickup_day': 3, 'time_spent_for_ride': 0}\n",
      "new epsilon value:  0.9959581901895135\n",
      "Random action chosen:  (4, 3)\n",
      "step:  {'state': (4, 18, 3), 'action': (4, 3), 'time_spent_for_pickup': 0, 'pickup_hour': 18, 'pickup_day': 3, 'time_spent_for_ride': 0}\n",
      "new epsilon value:  0.995908393524931\n",
      "Random action chosen:  (0, 0)\n",
      "step:  {'state': (3, 18, 3), 'action': (0, 0), 'time_spent_for_pickup': 0, 'pickup_hour': 18, 'pickup_day': 3, 'time_spent_for_ride': 0}\n",
      "new epsilon value:  0.9958585993501196\n",
      "Random action chosen:  (2, 1)\n",
      "step:  {'state': (3, 19, 3), 'action': (2, 1), 'time_spent_for_pickup': 8, 'pickup_hour': 3, 'pickup_day': 4, 'time_spent_for_ride': 7}\n",
      "new epsilon value:  0.9958088076649545\n",
      "Random action chosen:  (1, 5)\n",
      "step:  {'state': (1, 10, 3), 'action': (1, 5), 'time_spent_for_pickup': 0, 'pickup_hour': 10, 'pickup_day': 3, 'time_spent_for_ride': 2}\n",
      "new epsilon value:  0.9957590184693116\n",
      "Random action chosen:  (4, 5)\n",
      "step:  {'state': (5, 12, 3), 'action': (4, 5), 'time_spent_for_pickup': 6, 'pickup_hour': 18, 'pickup_day': 3, 'time_spent_for_ride': 6}\n",
      "new epsilon value:  0.9957092317630661\n",
      "Random action chosen:  (4, 3)\n",
      "step:  {'state': (5, 0, 4), 'action': (4, 3), 'time_spent_for_pickup': 3, 'pickup_hour': 3, 'pickup_day': 4, 'time_spent_for_ride': 6}\n",
      "new epsilon value:  0.9956594475460937\n",
      "Random action chosen:  (0, 0)\n",
      "step:  {'state': (3, 9, 4), 'action': (0, 0), 'time_spent_for_pickup': 8, 'pickup_hour': 17, 'pickup_day': 4, 'time_spent_for_ride': 0}\n",
      "new epsilon value:  0.99560966581827\n",
      "Random action chosen:  (0, 0)\n",
      "step:  {'state': (3, 10, 4), 'action': (0, 0), 'time_spent_for_pickup': 8, 'pickup_hour': 18, 'pickup_day': 4, 'time_spent_for_ride': 0}\n",
      "new epsilon value:  0.9955598865794705\n",
      "Random action chosen:  (1, 2)\n",
      "step:  {'state': (3, 11, 4), 'action': (1, 2), 'time_spent_for_pickup': 5, 'pickup_hour': 16, 'pickup_day': 4, 'time_spent_for_ride': 3}\n",
      "new epsilon value:  0.9955101098295706\n",
      "Random action chosen:  (2, 5)\n",
      "step:  {'state': (2, 19, 4), 'action': (2, 5), 'time_spent_for_pickup': 0, 'pickup_hour': 19, 'pickup_day': 4, 'time_spent_for_ride': 0}\n",
      "new epsilon value:  0.995460335568446\n",
      "Random action chosen:  (2, 5)\n",
      "step:  {'state': (5, 19, 4), 'action': (2, 5), 'time_spent_for_pickup': 0, 'pickup_hour': 19, 'pickup_day': 4, 'time_spent_for_ride': 0}\n",
      "new epsilon value:  0.9954105637959723\n",
      "Random action chosen:  (4, 3)\n",
      "step:  {'state': (5, 19, 4), 'action': (4, 3), 'time_spent_for_pickup': 4, 'pickup_hour': 23, 'pickup_day': 4, 'time_spent_for_ride': 6}\n",
      "new epsilon value:  0.995360794512025\n",
      "Random action chosen:  (0, 0)\n",
      "step:  {'state': (3, 5, 5), 'action': (0, 0), 'time_spent_for_pickup': 0, 'pickup_hour': 5, 'pickup_day': 5, 'time_spent_for_ride': 0}\n",
      "new epsilon value:  0.9953110277164796\n",
      "Random action chosen:  (2, 4)\n",
      "step:  {'state': (3, 6, 5), 'action': (2, 4), 'time_spent_for_pickup': 11, 'pickup_hour': 17, 'pickup_day': 5, 'time_spent_for_ride': 2}\n",
      "new epsilon value:  0.9952612634092118\n",
      "Random action chosen:  (2, 3)\n",
      "step:  {'state': (4, 19, 5), 'action': (2, 3), 'time_spent_for_pickup': 2, 'pickup_hour': 21, 'pickup_day': 5, 'time_spent_for_ride': 6}\n",
      "new epsilon value:  0.9952115015900972\n",
      "Random action chosen:  (4, 3)\n",
      "step:  {'state': (3, 3, 6), 'action': (4, 3), 'time_spent_for_pickup': 9, 'pickup_hour': 12, 'pickup_day': 6, 'time_spent_for_ride': 8}\n",
      "new epsilon value:  0.9951617422590113\n",
      "Random action chosen:  (3, 4)\n",
      "step:  {'state': (3, 20, 6), 'action': (3, 4), 'time_spent_for_pickup': 0, 'pickup_hour': 20, 'pickup_day': 6, 'time_spent_for_ride': 2}\n",
      "new epsilon value:  0.9951119854158298\n",
      "Random action chosen:  (5, 3)\n",
      "step:  {'state': (4, 22, 6), 'action': (5, 3), 'time_spent_for_pickup': 3, 'pickup_hour': 1, 'pickup_day': 0, 'time_spent_for_ride': 1}\n",
      "new epsilon value:  0.9950622310604282\n",
      "Random action chosen:  (2, 5)\n",
      "step:  {'state': (3, 2, 6), 'action': (2, 5), 'time_spent_for_pickup': 7, 'pickup_hour': 9, 'pickup_day': 6, 'time_spent_for_ride': 7}\n",
      "new epsilon value:  0.9950124791926823\n",
      "Random action chosen:  (5, 4)\n",
      "step:  {'state': (5, 16, 6), 'action': (5, 4), 'time_spent_for_pickup': 0, 'pickup_hour': 16, 'pickup_day': 6, 'time_spent_for_ride': 3}\n",
      "new epsilon value:  0.9949627298124676\n",
      "Random action chosen:  (1, 5)\n",
      "step:  {'state': (4, 19, 6), 'action': (1, 5), 'time_spent_for_pickup': 3, 'pickup_hour': 22, 'pickup_day': 6, 'time_spent_for_ride': 8}\n",
      "new epsilon value:  0.9949129829196596\n",
      "Random action chosen:  (5, 4)\n",
      "step:  {'state': (5, 6, 0), 'action': (5, 4), 'time_spent_for_pickup': 0, 'pickup_hour': 6, 'pickup_day': 0, 'time_spent_for_ride': 7}\n",
      "new epsilon value:  0.9948632385141342\n",
      "Random action chosen:  (0, 0)\n",
      "step:  {'state': (4, 13, 0), 'action': (0, 0), 'time_spent_for_pickup': 9, 'pickup_hour': 22, 'pickup_day': 0, 'time_spent_for_ride': 0}\n",
      "new epsilon value:  0.9948134965957668\n",
      "Random action chosen:  (3, 2)\n",
      "step:  {'state': (4, 14, 0), 'action': (3, 2), 'time_spent_for_pickup': 9, 'pickup_hour': 23, 'pickup_day': 0, 'time_spent_for_ride': 5}\n",
      "new epsilon value:  0.9947637571644331\n",
      "Random action chosen:  (0, 0)\n",
      "step:  {'state': (2, 4, 1), 'action': (0, 0), 'time_spent_for_pickup': 1, 'pickup_hour': 5, 'pickup_day': 1, 'time_spent_for_ride': 0}\n",
      "new epsilon value:  0.9947140202200089\n",
      "Random action chosen:  (3, 1)\n",
      "step:  {'state': (2, 5, 1), 'action': (3, 1), 'time_spent_for_pickup': 6, 'pickup_hour': 11, 'pickup_day': 1, 'time_spent_for_ride': 6}\n",
      "new epsilon value:  0.9946642857623696\n",
      "Random action chosen:  (0, 0)\n",
      "step:  {'state': (1, 17, 1), 'action': (0, 0), 'time_spent_for_pickup': 1, 'pickup_hour': 18, 'pickup_day': 1, 'time_spent_for_ride': 0}\n",
      "new epsilon value:  0.9946145537913912\n",
      "Random action chosen:  (5, 3)\n",
      "step:  {'state': (1, 18, 1), 'action': (5, 3), 'time_spent_for_pickup': 4, 'pickup_hour': 22, 'pickup_day': 1, 'time_spent_for_ride': 2}\n",
      "new epsilon value:  0.994564824306949\n",
      "Random action chosen:  (3, 2)\n",
      "step:  {'state': (3, 0, 2), 'action': (3, 2), 'time_spent_for_pickup': 0, 'pickup_hour': 0, 'pickup_day': 2, 'time_spent_for_ride': 5}\n",
      "new epsilon value:  0.9945150973089191\n",
      "Random action chosen:  (0, 0)\n",
      "step:  {'state': (2, 1, 2), 'action': (0, 0), 'time_spent_for_pickup': 4, 'pickup_hour': 5, 'pickup_day': 2, 'time_spent_for_ride': 0}\n",
      "new epsilon value:  0.9944653727971767\n",
      "Random action chosen:  (5, 4)\n",
      "step:  {'state': (2, 2, 2), 'action': (5, 4), 'time_spent_for_pickup': 4, 'pickup_hour': 6, 'pickup_day': 2, 'time_spent_for_ride': 6}\n",
      "new epsilon value:  0.9944156507715979\n",
      "episode: 0   score: -255   requests: 112   memory length: 112   timesteps: 112   epsilon: 0.9944156507715979   last 200 std dev: 0.0\n"
     ]
    },
    {
     "name": "stdout",
     "output_type": "stream",
     "text": [
      "INFO:tensorflow:Assets written to: test.hd5/assets\n",
      "episode: 0   score: -255   requests: 112   memory length: 112   timesteps: 112   epsilon: 0.9944156507715979   last 200 std dev: 0.0\n",
      "INFO:tensorflow:Assets written to: test.hd5/assets\n"
     ]
    }
   ],
   "source": [
    "train_agent(episodes_to_run=1, model_name='test.hd5', debug=True, epsilon_decay=-0.00005)"
   ]
  },
  {
   "cell_type": "markdown",
   "metadata": {
    "colab_type": "text",
    "id": "x8w_yuLx6E5C"
   },
   "source": [
    "### Train dqn agent with state_encoding v1"
   ]
  },
  {
   "cell_type": "code",
   "execution_count": 13,
   "metadata": {
    "colab": {
     "base_uri": "https://localhost:8080/",
     "height": 1000
    },
    "colab_type": "code",
    "executionInfo": {
     "elapsed": 81,
     "status": "ok",
     "timestamp": 1566206786414,
     "user": {
      "displayName": "Saman Tamkeen",
      "photoUrl": "https://lh3.googleusercontent.com/-ZbIcHpA6axU/AAAAAAAAAAI/AAAAAAAABfo/UEO6yap-1W0/s64/photo.jpg",
      "userId": "04283162121766014139"
     },
     "user_tz": -330
    },
    "id": "ABwwYYkkm8ar",
    "outputId": "aea0335f-5257-409a-ccea-f1695200b29b",
    "scrolled": false
   },
   "outputs": [
    {
     "name": "stderr",
     "output_type": "stream",
     "text": [
      "/usr/local/lib/python3.9/site-packages/keras/optimizer_v2/optimizer_v2.py:357: UserWarning: The `lr` argument is deprecated, use `learning_rate` instead.\n",
      "  warnings.warn(\n"
     ]
    },
    {
     "name": "stdout",
     "output_type": "stream",
     "text": [
      "WARNING:tensorflow:5 out of the last 9 calls to <function Model.make_predict_function.<locals>.predict_function at 0x1604cdca0> triggered tf.function retracing. Tracing is expensive and the excessive number of tracings could be due to (1) creating @tf.function repeatedly in a loop, (2) passing tensors with different shapes, (3) passing Python objects instead of tensors. For (1), please define your @tf.function outside of the loop. For (2), @tf.function has experimental_relax_shapes=True option that relaxes argument shapes that can avoid unnecessary retracing. For (3), please refer to https://www.tensorflow.org/guide/function#controlling_retracing and https://www.tensorflow.org/api_docs/python/tf/function for  more details.\n",
      "episode: 0   score: -197   requests: 125   memory length: 125   timesteps: 125   epsilon: 0.9937694906233947   last 200 std dev: 0.0\n",
      "INFO:tensorflow:Assets written to: model_new.hd5/assets\n",
      "INFO:tensorflow:Assets written to: model_new.hd5/assets\n",
      "INFO:tensorflow:Assets written to: model_new.hd5/assets\n",
      "INFO:tensorflow:Assets written to: model_new.hd5/assets\n",
      "episode: 200   score: 1310   requests: 116   memory length: 2000   timesteps: 25035   epsilon: 0.2860038519203524   last 200 std dev: 524.1016912537108\n",
      "INFO:tensorflow:Assets written to: model_new.hd5/assets\n",
      "INFO:tensorflow:Assets written to: model_new.hd5/assets\n",
      "INFO:tensorflow:Assets written to: model_new.hd5/assets\n",
      "INFO:tensorflow:Assets written to: model_new.hd5/assets\n",
      "episode: 400   score: 2302   requests: 157   memory length: 2000   timesteps: 50741   epsilon: 0.07909939917517649   last 200 std dev: 443.52256850694755\n",
      "INFO:tensorflow:Assets written to: model_new.hd5/assets\n",
      "INFO:tensorflow:Assets written to: model_new.hd5/assets\n",
      "INFO:tensorflow:Assets written to: model_new.hd5/assets\n",
      "INFO:tensorflow:Assets written to: model_new.hd5/assets\n",
      "episode: 600   score: 2441   requests: 113   memory length: 2000   timesteps: 76265   epsilon: 0.022076314218882377   last 200 std dev: 537.4812508125284\n",
      "INFO:tensorflow:Assets written to: model_new.hd5/assets\n",
      "INFO:tensorflow:Assets written to: model_new.hd5/assets\n",
      "INFO:tensorflow:Assets written to: model_new.hd5/assets\n",
      "INFO:tensorflow:Assets written to: model_new.hd5/assets\n",
      "episode: 800   score: 2734   requests: 134   memory length: 2000   timesteps: 100354   epsilon: 0.006619734603119959   last 200 std dev: 435.893703900389\n",
      "INFO:tensorflow:Assets written to: model_new.hd5/assets\n",
      "INFO:tensorflow:Assets written to: model_new.hd5/assets\n",
      "INFO:tensorflow:Assets written to: model_new.hd5/assets\n",
      "INFO:tensorflow:Assets written to: model_new.hd5/assets\n",
      "episode: 1000   score: 2329   requests: 106   memory length: 2000   timesteps: 123765   epsilon: 0.002053417090723452   last 200 std dev: 314.8630449894049\n",
      "INFO:tensorflow:Assets written to: model_new.hd5/assets\n",
      "INFO:tensorflow:Assets written to: model_new.hd5/assets\n",
      "INFO:tensorflow:Assets written to: model_new.hd5/assets\n",
      "INFO:tensorflow:Assets written to: model_new.hd5/assets\n",
      "episode: 1200   score: 2764   requests: 107   memory length: 2000   timesteps: 147537   epsilon: 0.0006255683258813299   last 200 std dev: 322.2534188724768\n",
      "INFO:tensorflow:Assets written to: model_new.hd5/assets\n",
      "INFO:tensorflow:Assets written to: model_new.hd5/assets\n",
      "INFO:tensorflow:Assets written to: model_new.hd5/assets\n",
      "INFO:tensorflow:Assets written to: model_new.hd5/assets\n",
      "episode: 1400   score: 2538   requests: 131   memory length: 2000   timesteps: 170736   epsilon: 0.0001961168309580689   last 200 std dev: 334.6207097222167\n",
      "INFO:tensorflow:Assets written to: model_new.hd5/assets\n",
      "INFO:tensorflow:Assets written to: model_new.hd5/assets\n",
      "INFO:tensorflow:Assets written to: model_new.hd5/assets\n",
      "INFO:tensorflow:Assets written to: model_new.hd5/assets\n",
      "episode: 1600   score: 2585   requests: 130   memory length: 2000   timesteps: 193725   epsilon: 6.213196295931169e-05   last 200 std dev: 243.32047750857302\n",
      "INFO:tensorflow:Assets written to: model_new.hd5/assets\n",
      "INFO:tensorflow:Assets written to: model_new.hd5/assets\n",
      "INFO:tensorflow:Assets written to: model_new.hd5/assets\n",
      "INFO:tensorflow:Assets written to: model_new.hd5/assets\n",
      "episode: 1800   score: 2587   requests: 117   memory length: 2000   timesteps: 216550   epsilon: 1.9846160405391988e-05   last 200 std dev: 223.2073788542843\n",
      "INFO:tensorflow:Assets written to: model_new.hd5/assets\n",
      "INFO:tensorflow:Assets written to: model_new.hd5/assets\n",
      "INFO:tensorflow:Assets written to: model_new.hd5/assets\n",
      "INFO:tensorflow:Assets written to: model_new.hd5/assets\n",
      "episode: 2000   score: 2627   requests: 123   memory length: 2000   timesteps: 239831   epsilon: 6.1963509229354405e-06   last 200 std dev: 298.5698862494341\n",
      "INFO:tensorflow:Assets written to: model_new.hd5/assets\n",
      "INFO:tensorflow:Assets written to: model_new.hd5/assets\n",
      "INFO:tensorflow:Assets written to: model_new.hd5/assets\n",
      "INFO:tensorflow:Assets written to: model_new.hd5/assets\n",
      "episode: 2200   score: 2128   requests: 99   memory length: 2000   timesteps: 262032   epsilon: 2.0419608720237957e-06   last 200 std dev: 296.0933838757631\n",
      "INFO:tensorflow:Assets written to: model_new.hd5/assets\n",
      "INFO:tensorflow:Assets written to: model_new.hd5/assets\n",
      "INFO:tensorflow:Assets written to: model_new.hd5/assets\n",
      "INFO:tensorflow:Assets written to: model_new.hd5/assets\n",
      "episode: 2400   score: 2577   requests: 115   memory length: 2000   timesteps: 285421   epsilon: 6.341058123396918e-07   last 200 std dev: 342.48039126349994\n",
      "INFO:tensorflow:Assets written to: model_new.hd5/assets\n",
      "INFO:tensorflow:Assets written to: model_new.hd5/assets\n",
      "INFO:tensorflow:Assets written to: model_new.hd5/assets\n",
      "INFO:tensorflow:Assets written to: model_new.hd5/assets\n",
      "episode: 2600   score: 2238   requests: 103   memory length: 2000   timesteps: 308683   epsilon: 1.9816813498478971e-07   last 200 std dev: 227.45232330095024\n",
      "INFO:tensorflow:Assets written to: model_new.hd5/assets\n",
      "INFO:tensorflow:Assets written to: model_new.hd5/assets\n",
      "INFO:tensorflow:Assets written to: model_new.hd5/assets\n",
      "INFO:tensorflow:Assets written to: model_new.hd5/assets\n",
      "episode: 2800   score: 1956   requests: 153   memory length: 2000   timesteps: 330430   epsilon: 6.68041922593188e-08   last 200 std dev: 241.59457646023432\n",
      "INFO:tensorflow:Assets written to: model_new.hd5/assets\n",
      "INFO:tensorflow:Assets written to: model_new.hd5/assets\n",
      "INFO:tensorflow:Assets written to: model_new.hd5/assets\n",
      "INFO:tensorflow:Assets written to: model_new.hd5/assets\n",
      "episode: 3000   score: 2619   requests: 114   memory length: 2000   timesteps: 352647   epsilon: 2.1997214615279476e-08   last 200 std dev: 223.0429624534251\n",
      "INFO:tensorflow:Assets written to: model_new.hd5/assets\n",
      "INFO:tensorflow:Assets written to: model_new.hd5/assets\n",
      "INFO:tensorflow:Assets written to: model_new.hd5/assets\n",
      "INFO:tensorflow:Assets written to: model_new.hd5/assets\n",
      "episode: 3200   score: 2700   requests: 115   memory length: 2000   timesteps: 374669   epsilon: 7.314186635322575e-09   last 200 std dev: 224.39112454595883\n",
      "INFO:tensorflow:Assets written to: model_new.hd5/assets\n",
      "INFO:tensorflow:Assets written to: model_new.hd5/assets\n",
      "INFO:tensorflow:Assets written to: model_new.hd5/assets\n",
      "INFO:tensorflow:Assets written to: model_new.hd5/assets\n",
      "episode: 3400   score: 2752   requests: 107   memory length: 2000   timesteps: 396944   epsilon: 2.4014334669406986e-09   last 200 std dev: 190.00681014111046\n",
      "INFO:tensorflow:Assets written to: model_new.hd5/assets\n",
      "INFO:tensorflow:Assets written to: model_new.hd5/assets\n",
      "INFO:tensorflow:Assets written to: model_new.hd5/assets\n",
      "INFO:tensorflow:Assets written to: model_new.hd5/assets\n",
      "episode: 3600   score: 2721   requests: 109   memory length: 2000   timesteps: 418526   epsilon: 8.162503553446432e-10   last 200 std dev: 269.41460595149624\n",
      "INFO:tensorflow:Assets written to: model_new.hd5/assets\n",
      "INFO:tensorflow:Assets written to: model_new.hd5/assets\n",
      "INFO:tensorflow:Assets written to: model_new.hd5/assets\n",
      "INFO:tensorflow:Assets written to: model_new.hd5/assets\n",
      "episode: 3800   score: 2625   requests: 108   memory length: 2000   timesteps: 441438   epsilon: 2.595945824897291e-10   last 200 std dev: 214.7851184323532\n",
      "INFO:tensorflow:Assets written to: model_new.hd5/assets\n",
      "INFO:tensorflow:Assets written to: model_new.hd5/assets\n"
     ]
    },
    {
     "name": "stdout",
     "output_type": "stream",
     "text": [
      "INFO:tensorflow:Assets written to: model_new.hd5/assets\n",
      "INFO:tensorflow:Assets written to: model_new.hd5/assets\n",
      "episode: 4000   score: 2621   requests: 108   memory length: 2000   timesteps: 463470   epsilon: 8.627338209530543e-11   last 200 std dev: 222.12564411836829\n",
      "INFO:tensorflow:Assets written to: model_new.hd5/assets\n",
      "INFO:tensorflow:Assets written to: model_new.hd5/assets\n",
      "INFO:tensorflow:Assets written to: model_new.hd5/assets\n",
      "INFO:tensorflow:Assets written to: model_new.hd5/assets\n",
      "episode: 4200   score: 2694   requests: 107   memory length: 2000   timesteps: 485808   epsilon: 2.8236659498880002e-11   last 200 std dev: 208.68075594074313\n",
      "INFO:tensorflow:Assets written to: model_new.hd5/assets\n",
      "INFO:tensorflow:Assets written to: model_new.hd5/assets\n",
      "INFO:tensorflow:Assets written to: model_new.hd5/assets\n",
      "INFO:tensorflow:Assets written to: model_new.hd5/assets\n",
      "episode: 4400   score: 2583   requests: 107   memory length: 2000   timesteps: 508192   epsilon: 9.220424852267785e-12   last 200 std dev: 151.64755553585428\n",
      "INFO:tensorflow:Assets written to: model_new.hd5/assets\n",
      "INFO:tensorflow:Assets written to: model_new.hd5/assets\n",
      "INFO:tensorflow:Assets written to: model_new.hd5/assets\n",
      "INFO:tensorflow:Assets written to: model_new.hd5/assets\n",
      "episode: 4600   score: 1340   requests: 106   memory length: 2000   timesteps: 530380   epsilon: 3.040497386236876e-12   last 200 std dev: 223.926875955076\n",
      "INFO:tensorflow:Assets written to: model_new.hd5/assets\n",
      "INFO:tensorflow:Assets written to: model_new.hd5/assets\n",
      "INFO:tensorflow:Assets written to: model_new.hd5/assets\n",
      "INFO:tensorflow:Assets written to: model_new.hd5/assets\n",
      "episode: 4800   score: 2792   requests: 116   memory length: 2000   timesteps: 552240   epsilon: 1.0192031698114952e-12   last 200 std dev: 206.48694268645656\n",
      "INFO:tensorflow:Assets written to: model_new.hd5/assets\n",
      "INFO:tensorflow:Assets written to: model_new.hd5/assets\n",
      "INFO:tensorflow:Assets written to: model_new.hd5/assets\n",
      "INFO:tensorflow:Assets written to: model_new.hd5/assets\n",
      "episode: 5000   score: 2713   requests: 116   memory length: 2000   timesteps: 574217   epsilon: 3.396536408207148e-13   last 200 std dev: 209.2708674780128\n",
      "INFO:tensorflow:Assets written to: model_new.hd5/assets\n",
      "INFO:tensorflow:Assets written to: model_new.hd5/assets\n",
      "INFO:tensorflow:Assets written to: model_new.hd5/assets\n",
      "INFO:tensorflow:Assets written to: model_new.hd5/assets\n",
      "episode: 5200   score: 2574   requests: 117   memory length: 2000   timesteps: 596393   epsilon: 1.1207030470156902e-13   last 200 std dev: 208.68263248291652\n",
      "INFO:tensorflow:Assets written to: model_new.hd5/assets\n",
      "INFO:tensorflow:Assets written to: model_new.hd5/assets\n",
      "INFO:tensorflow:Assets written to: model_new.hd5/assets\n",
      "INFO:tensorflow:Assets written to: model_new.hd5/assets\n",
      "episode: 5400   score: 2658   requests: 108   memory length: 2000   timesteps: 618753   epsilon: 3.663948173470361e-14   last 200 std dev: 197.95002172265603\n",
      "INFO:tensorflow:Assets written to: model_new.hd5/assets\n",
      "INFO:tensorflow:Assets written to: model_new.hd5/assets\n",
      "INFO:tensorflow:Assets written to: model_new.hd5/assets\n",
      "INFO:tensorflow:Assets written to: model_new.hd5/assets\n",
      "episode: 5600   score: 2649   requests: 105   memory length: 2000   timesteps: 640963   epsilon: 1.2068833609162062e-14   last 200 std dev: 202.999532019165\n",
      "INFO:tensorflow:Assets written to: model_new.hd5/assets\n",
      "INFO:tensorflow:Assets written to: model_new.hd5/assets\n",
      "INFO:tensorflow:Assets written to: model_new.hd5/assets\n",
      "INFO:tensorflow:Assets written to: model_new.hd5/assets\n",
      "episode: 5800   score: 2750   requests: 113   memory length: 2000   timesteps: 662671   epsilon: 4.076449524232854e-15   last 200 std dev: 260.42329192105683\n",
      "INFO:tensorflow:Assets written to: model_new.hd5/assets\n",
      "INFO:tensorflow:Assets written to: model_new.hd5/assets\n",
      "INFO:tensorflow:Assets written to: model_new.hd5/assets\n",
      "INFO:tensorflow:Assets written to: model_new.hd5/assets\n",
      "episode: 6000   score: 2494   requests: 100   memory length: 2000   timesteps: 684879   epsilon: 1.3428932053537067e-15   last 200 std dev: 133.09911306992245\n",
      "INFO:tensorflow:Assets written to: model_new.hd5/assets\n",
      "INFO:tensorflow:Assets written to: model_new.hd5/assets\n",
      "INFO:tensorflow:Assets written to: model_new.hd5/assets\n",
      "INFO:tensorflow:Assets written to: model_new.hd5/assets\n",
      "episode: 6200   score: 2654   requests: 105   memory length: 2000   timesteps: 706680   epsilon: 4.514802703487401e-16   last 200 std dev: 262.6091514018504\n",
      "INFO:tensorflow:Assets written to: model_new.hd5/assets\n",
      "INFO:tensorflow:Assets written to: model_new.hd5/assets\n",
      "INFO:tensorflow:Assets written to: model_new.hd5/assets\n",
      "INFO:tensorflow:Assets written to: model_new.hd5/assets\n",
      "episode: 6400   score: 2281   requests: 103   memory length: 2000   timesteps: 728139   epsilon: 1.5440540969981852e-16   last 200 std dev: 245.29052162690675\n",
      "INFO:tensorflow:Assets written to: model_new.hd5/assets\n",
      "INFO:tensorflow:Assets written to: model_new.hd5/assets\n",
      "INFO:tensorflow:Assets written to: model_new.hd5/assets\n",
      "INFO:tensorflow:Assets written to: model_new.hd5/assets\n",
      "episode: 6600   score: 2712   requests: 111   memory length: 2000   timesteps: 749662   epsilon: 5.263765161752475e-17   last 200 std dev: 245.03269123731226\n",
      "INFO:tensorflow:Assets written to: model_new.hd5/assets\n",
      "INFO:tensorflow:Assets written to: model_new.hd5/assets\n",
      "INFO:tensorflow:Assets written to: model_new.hd5/assets\n",
      "INFO:tensorflow:Assets written to: model_new.hd5/assets\n",
      "episode: 6800   score: 2511   requests: 113   memory length: 2000   timesteps: 772071   epsilon: 1.7166875326901123e-17   last 200 std dev: 137.13257782161028\n",
      "INFO:tensorflow:Assets written to: model_new.hd5/assets\n",
      "INFO:tensorflow:Assets written to: model_new.hd5/assets\n",
      "INFO:tensorflow:Assets written to: model_new.hd5/assets\n",
      "INFO:tensorflow:Assets written to: model_new.hd5/assets\n",
      "episode: 7000   score: 2788   requests: 110   memory length: 2000   timesteps: 794266   epsilon: 5.658912148851745e-18   last 200 std dev: 166.26413654182912\n",
      "INFO:tensorflow:Assets written to: model_new.hd5/assets\n",
      "INFO:tensorflow:Assets written to: model_new.hd5/assets\n",
      "INFO:tensorflow:Assets written to: model_new.hd5/assets\n",
      "INFO:tensorflow:Assets written to: model_new.hd5/assets\n",
      "episode: 7200   score: 2671   requests: 105   memory length: 2000   timesteps: 816077   epsilon: 1.901573447819348e-18   last 200 std dev: 204.1002633511285\n",
      "INFO:tensorflow:Assets written to: model_new.hd5/assets\n",
      "INFO:tensorflow:Assets written to: model_new.hd5/assets\n",
      "INFO:tensorflow:Assets written to: model_new.hd5/assets\n",
      "INFO:tensorflow:Assets written to: model_new.hd5/assets\n",
      "episode: 7400   score: 2776   requests: 107   memory length: 2000   timesteps: 837958   epsilon: 6.367562650238723e-19   last 200 std dev: 148.86228535126014\n",
      "INFO:tensorflow:Assets written to: model_new.hd5/assets\n",
      "INFO:tensorflow:Assets written to: model_new.hd5/assets\n",
      "INFO:tensorflow:Assets written to: model_new.hd5/assets\n",
      "INFO:tensorflow:Assets written to: model_new.hd5/assets\n",
      "episode: 7600   score: 2510   requests: 104   memory length: 2000   timesteps: 859804   epsilon: 2.1359612229571135e-19   last 200 std dev: 275.8153900256474\n",
      "INFO:tensorflow:Assets written to: model_new.hd5/assets\n",
      "INFO:tensorflow:Assets written to: model_new.hd5/assets\n",
      "INFO:tensorflow:Assets written to: model_new.hd5/assets\n",
      "INFO:tensorflow:Assets written to: model_new.hd5/assets\n",
      "episode: 7800   score: 2595   requests: 101   memory length: 2000   timesteps: 881153   epsilon: 7.345235412895995e-20   last 200 std dev: 142.95487041370782\n",
      "INFO:tensorflow:Assets written to: model_new.hd5/assets\n",
      "INFO:tensorflow:Assets written to: model_new.hd5/assets\n",
      "INFO:tensorflow:Assets written to: model_new.hd5/assets\n",
      "INFO:tensorflow:Assets written to: model_new.hd5/assets\n",
      "episode: 8000   score: 2451   requests: 114   memory length: 2000   timesteps: 902361   epsilon: 2.543781770801914e-20   last 200 std dev: 142.9943039949494\n",
      "INFO:tensorflow:Assets written to: model_new.hd5/assets\n",
      "INFO:tensorflow:Assets written to: model_new.hd5/assets\n",
      "INFO:tensorflow:Assets written to: model_new.hd5/assets\n",
      "INFO:tensorflow:Assets written to: model_new.hd5/assets\n",
      "episode: 8200   score: 2528   requests: 100   memory length: 2000   timesteps: 923844   epsilon: 8.689252810288194e-21   last 200 std dev: 151.86834561553636\n"
     ]
    },
    {
     "name": "stdout",
     "output_type": "stream",
     "text": [
      "INFO:tensorflow:Assets written to: model_new.hd5/assets\n",
      "INFO:tensorflow:Assets written to: model_new.hd5/assets\n",
      "INFO:tensorflow:Assets written to: model_new.hd5/assets\n",
      "INFO:tensorflow:Assets written to: model_new.hd5/assets\n",
      "episode: 8400   score: 2513   requests: 107   memory length: 2000   timesteps: 945516   epsilon: 2.9402274810817995e-21   last 200 std dev: 180.15806885898837\n",
      "INFO:tensorflow:Assets written to: model_new.hd5/assets\n",
      "INFO:tensorflow:Assets written to: model_new.hd5/assets\n",
      "INFO:tensorflow:Assets written to: model_new.hd5/assets\n",
      "INFO:tensorflow:Assets written to: model_new.hd5/assets\n",
      "episode: 8600   score: 2704   requests: 114   memory length: 2000   timesteps: 966732   epsilon: 1.0178442932812259e-21   last 200 std dev: 364.55127180548965\n",
      "INFO:tensorflow:Assets written to: model_new.hd5/assets\n",
      "INFO:tensorflow:Assets written to: model_new.hd5/assets\n",
      "INFO:tensorflow:Assets written to: model_new.hd5/assets\n",
      "INFO:tensorflow:Assets written to: model_new.hd5/assets\n",
      "episode: 8800   score: 2739   requests: 111   memory length: 2000   timesteps: 987827   epsilon: 3.5449428759222646e-22   last 200 std dev: 168.1126074243095\n",
      "INFO:tensorflow:Assets written to: model_new.hd5/assets\n",
      "INFO:tensorflow:Assets written to: model_new.hd5/assets\n",
      "INFO:tensorflow:Assets written to: model_new.hd5/assets\n",
      "INFO:tensorflow:Assets written to: model_new.hd5/assets\n",
      "episode: 9000   score: 2543   requests: 111   memory length: 2000   timesteps: 1009105   epsilon: 1.2233855371029024e-22   last 200 std dev: 143.57722442992133\n",
      "INFO:tensorflow:Assets written to: model_new.hd5/assets\n",
      "INFO:tensorflow:Assets written to: model_new.hd5/assets\n",
      "INFO:tensorflow:Assets written to: model_new.hd5/assets\n",
      "INFO:tensorflow:Assets written to: model_new.hd5/assets\n",
      "episode: 9200   score: 2443   requests: 102   memory length: 2000   timesteps: 1031249   epsilon: 4.043081460011069e-23   last 200 std dev: 381.03275446475726\n",
      "INFO:tensorflow:Assets written to: model_new.hd5/assets\n",
      "INFO:tensorflow:Assets written to: model_new.hd5/assets\n",
      "INFO:tensorflow:Assets written to: model_new.hd5/assets\n",
      "INFO:tensorflow:Assets written to: model_new.hd5/assets\n",
      "episode: 9400   score: 2700   requests: 107   memory length: 2000   timesteps: 1052855   epsilon: 1.3726005317050628e-23   last 200 std dev: 209.09084096392172\n",
      "INFO:tensorflow:Assets written to: model_new.hd5/assets\n",
      "INFO:tensorflow:Assets written to: model_new.hd5/assets\n",
      "INFO:tensorflow:Assets written to: model_new.hd5/assets\n",
      "INFO:tensorflow:Assets written to: model_new.hd5/assets\n",
      "episode: 9600   score: 2655   requests: 113   memory length: 2000   timesteps: 1074431   epsilon: 4.666886896109459e-24   last 200 std dev: 184.2817459761004\n",
      "INFO:tensorflow:Assets written to: model_new.hd5/assets\n",
      "INFO:tensorflow:Assets written to: model_new.hd5/assets\n",
      "INFO:tensorflow:Assets written to: model_new.hd5/assets\n",
      "INFO:tensorflow:Assets written to: model_new.hd5/assets\n",
      "episode: 9800   score: 2539   requests: 100   memory length: 2000   timesteps: 1095701   epsilon: 1.6112209278112017e-24   last 200 std dev: 179.31356439210057\n",
      "INFO:tensorflow:Assets written to: model_new.hd5/assets\n",
      "INFO:tensorflow:Assets written to: model_new.hd5/assets\n",
      "INFO:tensorflow:Assets written to: model_new.hd5/assets\n",
      "INFO:tensorflow:Assets written to: model_new.hd5/assets\n",
      "episode: 10000   score: 2623   requests: 105   memory length: 2000   timesteps: 1117406   epsilon: 5.442983373832579e-25   last 200 std dev: 80.20270007923673\n",
      "INFO:tensorflow:Assets written to: model_new.hd5/assets\n",
      "INFO:tensorflow:Assets written to: model_new.hd5/assets\n",
      "INFO:tensorflow:Assets written to: model_new.hd5/assets\n",
      "INFO:tensorflow:Assets written to: model_new.hd5/assets\n",
      "episode: 10200   score: 2681   requests: 107   memory length: 2000   timesteps: 1138968   epsilon: 1.8519281227323278e-25   last 200 std dev: 111.74687646641405\n",
      "INFO:tensorflow:Assets written to: model_new.hd5/assets\n",
      "INFO:tensorflow:Assets written to: model_new.hd5/assets\n",
      "INFO:tensorflow:Assets written to: model_new.hd5/assets\n",
      "INFO:tensorflow:Assets written to: model_new.hd5/assets\n",
      "episode: 10400   score: 2328   requests: 100   memory length: 2000   timesteps: 1160224   epsilon: 6.398172596809666e-26   last 200 std dev: 201.24622704537842\n",
      "INFO:tensorflow:Assets written to: model_new.hd5/assets\n",
      "INFO:tensorflow:Assets written to: model_new.hd5/assets\n",
      "INFO:tensorflow:Assets written to: model_new.hd5/assets\n",
      "INFO:tensorflow:Assets written to: model_new.hd5/assets\n",
      "episode: 10600   score: 2688   requests: 104   memory length: 2000   timesteps: 1181847   epsilon: 2.1702935129838226e-26   last 200 std dev: 181.46438658866373\n",
      "INFO:tensorflow:Assets written to: model_new.hd5/assets\n",
      "INFO:tensorflow:Assets written to: model_new.hd5/assets\n",
      "INFO:tensorflow:Assets written to: model_new.hd5/assets\n",
      "INFO:tensorflow:Assets written to: model_new.hd5/assets\n",
      "episode: 10800   score: 2747   requests: 111   memory length: 2000   timesteps: 1203786   epsilon: 7.246347224801692e-27   last 200 std dev: 91.00884998174628\n",
      "INFO:tensorflow:Assets written to: model_new.hd5/assets\n",
      "INFO:tensorflow:Assets written to: model_new.hd5/assets\n",
      "INFO:tensorflow:Assets written to: model_new.hd5/assets\n",
      "INFO:tensorflow:Assets written to: model_new.hd5/assets\n",
      "episode: 11000   score: 2700   requests: 109   memory length: 2000   timesteps: 1225677   epsilon: 2.42528128345295e-27   last 200 std dev: 125.21332796471788\n",
      "INFO:tensorflow:Assets written to: model_new.hd5/assets\n",
      "INFO:tensorflow:Assets written to: model_new.hd5/assets\n",
      "INFO:tensorflow:Assets written to: model_new.hd5/assets\n",
      "INFO:tensorflow:Assets written to: model_new.hd5/assets\n",
      "episode: 11200   score: 2694   requests: 105   memory length: 2000   timesteps: 1247529   epsilon: 8.133022322257986e-28   last 200 std dev: 249.19029229687098\n",
      "INFO:tensorflow:Assets written to: model_new.hd5/assets\n",
      "INFO:tensorflow:Assets written to: model_new.hd5/assets\n",
      "INFO:tensorflow:Assets written to: model_new.hd5/assets\n",
      "INFO:tensorflow:Assets written to: model_new.hd5/assets\n",
      "episode: 11400   score: 2729   requests: 105   memory length: 2000   timesteps: 1269016   epsilon: 2.777587107381171e-28   last 200 std dev: 204.83966406680125\n",
      "INFO:tensorflow:Assets written to: model_new.hd5/assets\n",
      "INFO:tensorflow:Assets written to: model_new.hd5/assets\n",
      "INFO:tensorflow:Assets written to: model_new.hd5/assets\n",
      "INFO:tensorflow:Assets written to: model_new.hd5/assets\n",
      "episode: 11600   score: 2677   requests: 108   memory length: 2000   timesteps: 1290694   epsilon: 9.395846189027003e-29   last 200 std dev: 225.907234888571\n",
      "INFO:tensorflow:Assets written to: model_new.hd5/assets\n",
      "INFO:tensorflow:Assets written to: model_new.hd5/assets\n",
      "INFO:tensorflow:Assets written to: model_new.hd5/assets\n",
      "INFO:tensorflow:Assets written to: model_new.hd5/assets\n",
      "episode: 11800   score: 2581   requests: 107   memory length: 2000   timesteps: 1312425   epsilon: 3.1699559656397215e-29   last 200 std dev: 200.52971251163757\n",
      "INFO:tensorflow:Assets written to: model_new.hd5/assets\n",
      "INFO:tensorflow:Assets written to: model_new.hd5/assets\n",
      "INFO:tensorflow:Assets written to: model_new.hd5/assets\n",
      "INFO:tensorflow:Assets written to: model_new.hd5/assets\n",
      "episode: 12000   score: 2691   requests: 110   memory length: 2000   timesteps: 1334042   epsilon: 1.0755882237661727e-29   last 200 std dev: 115.87638888056532\n",
      "INFO:tensorflow:Assets written to: model_new.hd5/assets\n",
      "INFO:tensorflow:Assets written to: model_new.hd5/assets\n",
      "INFO:tensorflow:Assets written to: model_new.hd5/assets\n",
      "INFO:tensorflow:Assets written to: model_new.hd5/assets\n",
      "episode: 12200   score: 2640   requests: 109   memory length: 2000   timesteps: 1355829   epsilon: 3.61865637503739e-30   last 200 std dev: 204.20183642661004\n",
      "INFO:tensorflow:Assets written to: model_new.hd5/assets\n",
      "INFO:tensorflow:Assets written to: model_new.hd5/assets\n",
      "INFO:tensorflow:Assets written to: model_new.hd5/assets\n",
      "INFO:tensorflow:Assets written to: model_new.hd5/assets\n",
      "episode: 12400   score: 2761   requests: 110   memory length: 2000   timesteps: 1377771   epsilon: 1.2080443227060574e-30   last 200 std dev: 101.48996489801344\n",
      "INFO:tensorflow:Assets written to: model_new.hd5/assets\n",
      "INFO:tensorflow:Assets written to: model_new.hd5/assets\n",
      "INFO:tensorflow:Assets written to: model_new.hd5/assets\n"
     ]
    },
    {
     "name": "stdout",
     "output_type": "stream",
     "text": [
      "INFO:tensorflow:Assets written to: model_new.hd5/assets\n",
      "episode: 12600   score: 2708   requests: 103   memory length: 2000   timesteps: 1399784   epsilon: 4.018617278197136e-31   last 200 std dev: 137.18298646333662\n",
      "INFO:tensorflow:Assets written to: model_new.hd5/assets\n",
      "INFO:tensorflow:Assets written to: model_new.hd5/assets\n",
      "INFO:tensorflow:Assets written to: model_new.hd5/assets\n",
      "INFO:tensorflow:Assets written to: model_new.hd5/assets\n",
      "episode: 12800   score: 2678   requests: 107   memory length: 2000   timesteps: 1421098   epsilon: 1.384359922250465e-31   last 200 std dev: 198.48212992609686\n",
      "INFO:tensorflow:Assets written to: model_new.hd5/assets\n",
      "INFO:tensorflow:Assets written to: model_new.hd5/assets\n",
      "INFO:tensorflow:Assets written to: model_new.hd5/assets\n",
      "INFO:tensorflow:Assets written to: model_new.hd5/assets\n",
      "episode: 13000   score: 2724   requests: 112   memory length: 2000   timesteps: 1442159   epsilon: 4.8296450473834675e-32   last 200 std dev: 160.31287658825164\n",
      "INFO:tensorflow:Assets written to: model_new.hd5/assets\n",
      "INFO:tensorflow:Assets written to: model_new.hd5/assets\n",
      "INFO:tensorflow:Assets written to: model_new.hd5/assets\n",
      "INFO:tensorflow:Assets written to: model_new.hd5/assets\n",
      "episode: 13200   score: 2783   requests: 107   memory length: 2000   timesteps: 1463566   epsilon: 1.656029675531506e-32   last 200 std dev: 112.65999112373477\n",
      "INFO:tensorflow:Assets written to: model_new.hd5/assets\n",
      "INFO:tensorflow:Assets written to: model_new.hd5/assets\n",
      "INFO:tensorflow:Assets written to: model_new.hd5/assets\n",
      "INFO:tensorflow:Assets written to: model_new.hd5/assets\n",
      "episode: 13400   score: 2556   requests: 108   memory length: 2000   timesteps: 1484854   epsilon: 5.712221879901975e-33   last 200 std dev: 110.41821758659212\n",
      "INFO:tensorflow:Assets written to: model_new.hd5/assets\n",
      "INFO:tensorflow:Assets written to: model_new.hd5/assets\n",
      "INFO:tensorflow:Assets written to: model_new.hd5/assets\n",
      "INFO:tensorflow:Assets written to: model_new.hd5/assets\n",
      "episode: 13600   score: 2594   requests: 103   memory length: 2000   timesteps: 1506177   epsilon: 1.9668987599285367e-33   last 200 std dev: 213.65772154312606\n",
      "INFO:tensorflow:Assets written to: model_new.hd5/assets\n",
      "INFO:tensorflow:Assets written to: model_new.hd5/assets\n",
      "INFO:tensorflow:Assets written to: model_new.hd5/assets\n",
      "INFO:tensorflow:Assets written to: model_new.hd5/assets\n",
      "episode: 13800   score: 2623   requests: 108   memory length: 2000   timesteps: 1527599   epsilon: 6.739213062469779e-34   last 200 std dev: 161.49075855912002\n",
      "INFO:tensorflow:Assets written to: model_new.hd5/assets\n",
      "INFO:tensorflow:Assets written to: model_new.hd5/assets\n",
      "INFO:tensorflow:Assets written to: model_new.hd5/assets\n",
      "INFO:tensorflow:Assets written to: model_new.hd5/assets\n",
      "episode: 14000   score: 2650   requests: 103   memory length: 2000   timesteps: 1548916   epsilon: 2.3212205855681344e-34   last 200 std dev: 240.8714354173197\n",
      "INFO:tensorflow:Assets written to: model_new.hd5/assets\n",
      "INFO:tensorflow:Assets written to: model_new.hd5/assets\n",
      "INFO:tensorflow:Assets written to: model_new.hd5/assets\n",
      "INFO:tensorflow:Assets written to: model_new.hd5/assets\n",
      "episode: 14200   score: 2781   requests: 110   memory length: 2000   timesteps: 1570181   epsilon: 8.015909503470723e-35   last 200 std dev: 125.72990734109366\n",
      "INFO:tensorflow:Assets written to: model_new.hd5/assets\n",
      "INFO:tensorflow:Assets written to: model_new.hd5/assets\n",
      "INFO:tensorflow:Assets written to: model_new.hd5/assets\n",
      "INFO:tensorflow:Assets written to: model_new.hd5/assets\n",
      "episode: 14400   score: 2704   requests: 109   memory length: 2000   timesteps: 1591484   epsilon: 2.7628928221322096e-35   last 200 std dev: 92.21088750792934\n",
      "INFO:tensorflow:Assets written to: model_new.hd5/assets\n",
      "INFO:tensorflow:Assets written to: model_new.hd5/assets\n",
      "INFO:tensorflow:Assets written to: model_new.hd5/assets\n",
      "INFO:tensorflow:Assets written to: model_new.hd5/assets\n",
      "episode: 14600   score: 2322   requests: 109   memory length: 2000   timesteps: 1613159   epsilon: 9.347541315260913e-36   last 200 std dev: 138.2821137204664\n",
      "INFO:tensorflow:Assets written to: model_new.hd5/assets\n",
      "INFO:tensorflow:Assets written to: model_new.hd5/assets\n",
      "INFO:tensorflow:Assets written to: model_new.hd5/assets\n",
      "INFO:tensorflow:Assets written to: model_new.hd5/assets\n",
      "episode: 14800   score: 2656   requests: 104   memory length: 2000   timesteps: 1634589   epsilon: 3.201480463894879e-36   last 200 std dev: 172.06156972142267\n",
      "INFO:tensorflow:Assets written to: model_new.hd5/assets\n",
      "INFO:tensorflow:Assets written to: model_new.hd5/assets\n",
      "INFO:tensorflow:Assets written to: model_new.hd5/assets\n",
      "INFO:tensorflow:Assets written to: model_new.hd5/assets\n",
      "episode: 15000   score: 2748   requests: 130   memory length: 2000   timesteps: 1655942   epsilon: 1.1007187194761738e-36   last 200 std dev: 126.90683502081359\n",
      "INFO:tensorflow:Assets written to: model_new.hd5/assets\n",
      "INFO:tensorflow:Assets written to: model_new.hd5/assets\n",
      "INFO:tensorflow:Assets written to: model_new.hd5/assets\n",
      "INFO:tensorflow:Assets written to: model_new.hd5/assets\n",
      "episode: 15200   score: 2760   requests: 106   memory length: 2000   timesteps: 1677375   epsilon: 3.769334424994432e-37   last 200 std dev: 170.97280419704182\n",
      "INFO:tensorflow:Assets written to: model_new.hd5/assets\n",
      "INFO:tensorflow:Assets written to: model_new.hd5/assets\n",
      "INFO:tensorflow:Assets written to: model_new.hd5/assets\n",
      "INFO:tensorflow:Assets written to: model_new.hd5/assets\n",
      "episode: 15400   score: 2664   requests: 123   memory length: 2000   timesteps: 1699011   epsilon: 1.2777470894337522e-37   last 200 std dev: 199.59989078153325\n",
      "INFO:tensorflow:Assets written to: model_new.hd5/assets\n",
      "INFO:tensorflow:Assets written to: model_new.hd5/assets\n",
      "INFO:tensorflow:Assets written to: model_new.hd5/assets\n",
      "INFO:tensorflow:Assets written to: model_new.hd5/assets\n",
      "episode: 15600   score: 2533   requests: 104   memory length: 2000   timesteps: 1720738   epsilon: 4.311705501177489e-38   last 200 std dev: 122.24925194045156\n",
      "INFO:tensorflow:Assets written to: model_new.hd5/assets\n",
      "INFO:tensorflow:Assets written to: model_new.hd5/assets\n",
      "INFO:tensorflow:Assets written to: model_new.hd5/assets\n",
      "INFO:tensorflow:Assets written to: model_new.hd5/assets\n",
      "episode: 15800   score: 2710   requests: 104   memory length: 2000   timesteps: 1742064   epsilon: 1.484433968759123e-38   last 200 std dev: 147.15740688120323\n",
      "INFO:tensorflow:Assets written to: model_new.hd5/assets\n",
      "INFO:tensorflow:Assets written to: model_new.hd5/assets\n",
      "INFO:tensorflow:Assets written to: model_new.hd5/assets\n",
      "INFO:tensorflow:Assets written to: model_new.hd5/assets\n",
      "episode: 16000   score: 2684   requests: 105   memory length: 2000   timesteps: 1763719   epsilon: 5.027227436967058e-39   last 200 std dev: 94.05555539148125\n",
      "INFO:tensorflow:Assets written to: model_new.hd5/assets\n",
      "INFO:tensorflow:Assets written to: model_new.hd5/assets\n",
      "INFO:tensorflow:Assets written to: model_new.hd5/assets\n",
      "INFO:tensorflow:Assets written to: model_new.hd5/assets\n",
      "episode: 16200   score: 2767   requests: 110   memory length: 2000   timesteps: 1785224   epsilon: 1.7153525478782257e-39   last 200 std dev: 90.82623946305384\n",
      "INFO:tensorflow:Assets written to: model_new.hd5/assets\n",
      "INFO:tensorflow:Assets written to: model_new.hd5/assets\n",
      "INFO:tensorflow:Assets written to: model_new.hd5/assets\n",
      "INFO:tensorflow:Assets written to: model_new.hd5/assets\n",
      "episode: 16400   score: 2805   requests: 111   memory length: 2000   timesteps: 1806990   epsilon: 5.777110936580628e-40   last 200 std dev: 199.14490678900125\n",
      "INFO:tensorflow:Assets written to: model_new.hd5/assets\n",
      "INFO:tensorflow:Assets written to: model_new.hd5/assets\n",
      "INFO:tensorflow:Assets written to: model_new.hd5/assets\n",
      "INFO:tensorflow:Assets written to: model_new.hd5/assets\n",
      "episode: 16600   score: 2731   requests: 109   memory length: 2000   timesteps: 1828203   epsilon: 2.0002130897547655e-40   last 200 std dev: 163.88980741644673\n",
      "INFO:tensorflow:Assets written to: model_new.hd5/assets\n",
      "INFO:tensorflow:Assets written to: model_new.hd5/assets\n",
      "INFO:tensorflow:Assets written to: model_new.hd5/assets\n",
      "INFO:tensorflow:Assets written to: model_new.hd5/assets\n",
      "episode: 16800   score: 2495   requests: 111   memory length: 2000   timesteps: 1850068   epsilon: 6.703225394711967e-41   last 200 std dev: 109.867479719888\n"
     ]
    },
    {
     "name": "stdout",
     "output_type": "stream",
     "text": [
      "INFO:tensorflow:Assets written to: model_new.hd5/assets\n",
      "INFO:tensorflow:Assets written to: model_new.hd5/assets\n",
      "INFO:tensorflow:Assets written to: model_new.hd5/assets\n",
      "INFO:tensorflow:Assets written to: model_new.hd5/assets\n",
      "episode: 17000   score: 2667   requests: 109   memory length: 2000   timesteps: 1871952   epsilon: 2.244289102135535e-41   last 200 std dev: 225.02952689591646\n",
      "INFO:tensorflow:Assets written to: model_new.hd5/assets\n",
      "INFO:tensorflow:Assets written to: model_new.hd5/assets\n",
      "INFO:tensorflow:Assets written to: model_new.hd5/assets\n",
      "INFO:tensorflow:Assets written to: model_new.hd5/assets\n",
      "episode: 17200   score: 2803   requests: 107   memory length: 2000   timesteps: 1893518   epsilon: 7.634472951842687e-42   last 200 std dev: 125.40587346691542\n",
      "INFO:tensorflow:Assets written to: model_new.hd5/assets\n",
      "INFO:tensorflow:Assets written to: model_new.hd5/assets\n",
      "INFO:tensorflow:Assets written to: model_new.hd5/assets\n",
      "INFO:tensorflow:Assets written to: model_new.hd5/assets\n",
      "episode: 17400   score: 2019   requests: 283   memory length: 2000   timesteps: 1915518   epsilon: 2.54129528494353e-42   last 200 std dev: 126.55791944797448\n",
      "INFO:tensorflow:Assets written to: model_new.hd5/assets\n",
      "INFO:tensorflow:Assets written to: model_new.hd5/assets\n",
      "INFO:tensorflow:Assets written to: model_new.hd5/assets\n",
      "INFO:tensorflow:Assets written to: model_new.hd5/assets\n",
      "episode: 17600   score: 2768   requests: 112   memory length: 2000   timesteps: 1937106   epsilon: 8.635304709876002e-43   last 200 std dev: 114.13880803653068\n",
      "INFO:tensorflow:Assets written to: model_new.hd5/assets\n",
      "INFO:tensorflow:Assets written to: model_new.hd5/assets\n",
      "INFO:tensorflow:Assets written to: model_new.hd5/assets\n",
      "INFO:tensorflow:Assets written to: model_new.hd5/assets\n",
      "episode: 17800   score: 2569   requests: 100   memory length: 2000   timesteps: 1958951   epsilon: 2.8968067184826355e-43   last 200 std dev: 84.03823162703985\n",
      "INFO:tensorflow:Assets written to: model_new.hd5/assets\n",
      "INFO:tensorflow:Assets written to: model_new.hd5/assets\n",
      "INFO:tensorflow:Assets written to: model_new.hd5/assets\n",
      "INFO:tensorflow:Assets written to: model_new.hd5/assets\n",
      "episode: 18000   score: 2750   requests: 110   memory length: 2000   timesteps: 1981312   epsilon: 9.470143798685743e-44   last 200 std dev: 95.0737797712913\n",
      "INFO:tensorflow:Assets written to: model_new.hd5/assets\n",
      "INFO:tensorflow:Assets written to: model_new.hd5/assets\n",
      "INFO:tensorflow:Assets written to: model_new.hd5/assets\n",
      "INFO:tensorflow:Assets written to: model_new.hd5/assets\n",
      "episode: 18200   score: 2713   requests: 108   memory length: 2000   timesteps: 2003277   epsilon: 3.1578584486790445e-44   last 200 std dev: 121.10334336838105\n",
      "INFO:tensorflow:Assets written to: model_new.hd5/assets\n",
      "INFO:tensorflow:Assets written to: model_new.hd5/assets\n",
      "INFO:tensorflow:Assets written to: model_new.hd5/assets\n",
      "INFO:tensorflow:Assets written to: model_new.hd5/assets\n",
      "episode: 18400   score: 2772   requests: 113   memory length: 2000   timesteps: 2025256   epsilon: 1.0522640613837997e-44   last 200 std dev: 108.297659716173\n",
      "INFO:tensorflow:Assets written to: model_new.hd5/assets\n",
      "INFO:tensorflow:Assets written to: model_new.hd5/assets\n",
      "INFO:tensorflow:Assets written to: model_new.hd5/assets\n",
      "INFO:tensorflow:Assets written to: model_new.hd5/assets\n",
      "episode: 18600   score: 2708   requests: 105   memory length: 2000   timesteps: 2046851   epsilon: 3.5743351425260506e-45   last 200 std dev: 182.35840747001495\n",
      "INFO:tensorflow:Assets written to: model_new.hd5/assets\n",
      "INFO:tensorflow:Assets written to: model_new.hd5/assets\n",
      "INFO:tensorflow:Assets written to: model_new.hd5/assets\n",
      "INFO:tensorflow:Assets written to: model_new.hd5/assets\n",
      "episode: 18800   score: 2730   requests: 105   memory length: 2000   timesteps: 2068380   epsilon: 1.2181449694378353e-45   last 200 std dev: 162.71780449600467\n",
      "INFO:tensorflow:Assets written to: model_new.hd5/assets\n",
      "INFO:tensorflow:Assets written to: model_new.hd5/assets\n",
      "INFO:tensorflow:Assets written to: model_new.hd5/assets\n",
      "INFO:tensorflow:Assets written to: model_new.hd5/assets\n",
      "episode: 19000   score: 2640   requests: 107   memory length: 2000   timesteps: 2089858   epsilon: 4.162077204794928e-46   last 200 std dev: 101.41970210466997\n",
      "INFO:tensorflow:Assets written to: model_new.hd5/assets\n",
      "INFO:tensorflow:Assets written to: model_new.hd5/assets\n",
      "INFO:tensorflow:Assets written to: model_new.hd5/assets\n",
      "INFO:tensorflow:Assets written to: model_new.hd5/assets\n",
      "episode: 19200   score: 2703   requests: 107   memory length: 2000   timesteps: 2111574   epsilon: 1.4052486717949235e-46   last 200 std dev: 187.57572330928116\n",
      "INFO:tensorflow:Assets written to: model_new.hd5/assets\n",
      "INFO:tensorflow:Assets written to: model_new.hd5/assets\n",
      "INFO:tensorflow:Assets written to: model_new.hd5/assets\n",
      "INFO:tensorflow:Assets written to: model_new.hd5/assets\n",
      "episode: 19400   score: 2407   requests: 101   memory length: 2000   timesteps: 2133159   epsilon: 4.775742077316815e-47   last 200 std dev: 107.47445463923043\n",
      "INFO:tensorflow:Assets written to: model_new.hd5/assets\n",
      "INFO:tensorflow:Assets written to: model_new.hd5/assets\n",
      "INFO:tensorflow:Assets written to: model_new.hd5/assets\n",
      "INFO:tensorflow:Assets written to: model_new.hd5/assets\n",
      "episode: 19600   score: 2635   requests: 102   memory length: 2000   timesteps: 2154374   epsilon: 1.653343118865977e-47   last 200 std dev: 236.6522858013419\n",
      "INFO:tensorflow:Assets written to: model_new.hd5/assets\n",
      "INFO:tensorflow:Assets written to: model_new.hd5/assets\n",
      "INFO:tensorflow:Assets written to: model_new.hd5/assets\n",
      "INFO:tensorflow:Assets written to: model_new.hd5/assets\n",
      "episode: 19800   score: 2693   requests: 103   memory length: 2000   timesteps: 2175696   epsilon: 5.693268224870163e-48   last 200 std dev: 102.16741163404308\n",
      "INFO:tensorflow:Assets written to: model_new.hd5/assets\n",
      "INFO:tensorflow:Assets written to: model_new.hd5/assets\n",
      "INFO:tensorflow:Assets written to: model_new.hd5/assets\n",
      "INFO:tensorflow:Assets written to: model_new.hd5/assets\n",
      "episode: 19999   score: 2743   requests: 113   memory length: 2000   timesteps: 2197213   epsilon: 1.941448732504913e-48   last 200 std dev: 123.7541348804152\n",
      "INFO:tensorflow:Assets written to: model_new.hd5/assets\n"
     ]
    }
   ],
   "source": [
    "scores, timesteps, episodes = [], [], []\n",
    "state_action_sample = {}\n",
    "train_agent(episodes_to_run=20000, model_name='model_new.hd5', episode_info_frequency=200, epsilon_decay=-0.00005)"
   ]
  },
  {
   "cell_type": "markdown",
   "metadata": {
    "colab_type": "text",
    "id": "HN0EtJ2k7B7H"
   },
   "source": [
    "### Save scores and cab requests per episode to numpy file"
   ]
  },
  {
   "cell_type": "code",
   "execution_count": 14,
   "metadata": {
    "colab": {},
    "colab_type": "code",
    "id": "YI14_DMZOTIp"
   },
   "outputs": [],
   "source": [
    "np_array = np.array([episodes,scores,timesteps])\n",
    "np.save('result.npy', np_array)"
   ]
  },
  {
   "cell_type": "markdown",
   "metadata": {
    "colab_type": "text",
    "id": "F0z_Sr5O7NWj"
   },
   "source": [
    "### Save state action samples to pickle file"
   ]
  },
  {
   "cell_type": "code",
   "execution_count": 15,
   "metadata": {
    "colab": {},
    "colab_type": "code",
    "id": "OSwg1OFyPXxE"
   },
   "outputs": [],
   "source": [
    "with open('state_action_sample.pickle', 'wb') as handle:\n",
    "    pickle.dump(state_action_sample, handle, protocol=pickle.HIGHEST_PROTOCOL)"
   ]
  },
  {
   "cell_type": "markdown",
   "metadata": {
    "colab_type": "text",
    "id": "jrAP973F6NvU"
   },
   "source": [
    "### Track convergence"
   ]
  },
  {
   "cell_type": "markdown",
   "metadata": {
    "colab_type": "text",
    "id": "wmrHwYpd6SdR"
   },
   "source": [
    "#### Plot reward and cab requests handled per episode"
   ]
  },
  {
   "cell_type": "code",
   "execution_count": 16,
   "metadata": {
    "colab": {
     "base_uri": "https://localhost:8080/",
     "height": 350
    },
    "colab_type": "code",
    "executionInfo": {
     "elapsed": 31,
     "status": "ok",
     "timestamp": 1566206786421,
     "user": {
      "displayName": "Saman Tamkeen",
      "photoUrl": "https://lh3.googleusercontent.com/-ZbIcHpA6axU/AAAAAAAAAAI/AAAAAAAABfo/UEO6yap-1W0/s64/photo.jpg",
      "userId": "04283162121766014139"
     },
     "user_tz": -330
    },
    "id": "dkeZtck6m8au",
    "outputId": "49c8fae1-8350-4830-c686-c22b25ecfbe7"
   },
   "outputs": [
    {
     "data": {
      "image/png": "[encoded data removed]",
      "text/plain": [
       "<Figure size 1080x360 with 2 Axes>"
      ]
     },
     "metadata": {
      "needs_background": "light"
     },
     "output_type": "display_data"
    }
   ],
   "source": [
    "score_requests_array = np.load('result.npy')\n",
    "episodes = score_requests_array[0]\n",
    "scores = score_requests_array[1]\n",
    "timesteps = score_requests_array[2]\n",
    "plt.figure(figsize=(15,5))\n",
    "\n",
    "plt.subplot(121)\n",
    "plt.plot(episodes, scores, 'b')\n",
    "plt.xlabel('episode')\n",
    "plt.ylabel('reward')\n",
    "plt.title('reward vs episode')\n",
    "\n",
    "\n",
    "plt.subplot(122)\n",
    "plt.plot(episodes, timesteps, 'b')\n",
    "plt.xlabel('episode')\n",
    "plt.ylabel('number of requests')\n",
    "plt.title('episode vs number of requests')\n",
    "\n",
    "plt.show()"
   ]
  },
  {
   "cell_type": "markdown",
   "metadata": {
    "colab_type": "text",
    "id": "o7UTdutU80wU"
   },
   "source": [
    "#### Plot sampled q_values for state action pairs"
   ]
  },
  {
   "cell_type": "code",
   "execution_count": 17,
   "metadata": {
    "colab": {
     "base_uri": "https://localhost:8080/",
     "height": 550
    },
    "colab_type": "code",
    "executionInfo": {
     "elapsed": 17,
     "status": "ok",
     "timestamp": 1566206786422,
     "user": {
      "displayName": "Saman Tamkeen",
      "photoUrl": "https://lh3.googleusercontent.com/-ZbIcHpA6axU/AAAAAAAAAAI/AAAAAAAABfo/UEO6yap-1W0/s64/photo.jpg",
      "userId": "04283162121766014139"
     },
     "user_tz": -330
    },
    "id": "WauVp4y7QZE_",
    "outputId": "c0d2f91d-7df1-492b-d5dc-11e3203be32c"
   },
   "outputs": [
    {
     "data": {
      "text/plain": [
       "<matplotlib.legend.Legend at 0x1876b59a0>"
      ]
     },
     "execution_count": 17,
     "metadata": {},
     "output_type": "execute_result"
    },
    {
     "data": {
      "image/png": "[encoded data removed]",
      "text/plain": [
       "<Figure size 1152x576 with 1 Axes>"
      ]
     },
     "metadata": {
      "needs_background": "light"
     },
     "output_type": "display_data"
    }
   ],
   "source": [
    "with open('state_action_sample.pickle', 'rb') as handle:\n",
    "    state_action_sample = pickle.load(handle)\n",
    "\n",
    "plt.figure(figsize=(16, 8))\n",
    "for state_action,samples in filter(lambda elem: len(elem[1]) >= 5, state_action_sample.items()):\n",
    "  plt.plot(samples, label='state:{}, action:{}'.format(state_action[0], state_action[1]))\n",
    "    \n",
    "plt.xlabel('time step')\n",
    "plt.ylabel('q_value')\n",
    "plt.title('q_value vs time steps for state-action samples')\n",
    "plt.legend()"
   ]
  },
  {
   "cell_type": "markdown",
   "metadata": {
    "colab_type": "text",
    "id": "SXP7chXEm8a1"
   },
   "source": [
    "## Compare Change in Revenue for 2 Years (24 Episodes)"
   ]
  },
  {
   "cell_type": "code",
   "execution_count": 18,
   "metadata": {
    "colab": {},
    "colab_type": "code",
    "id": "nxBfjBgKr-IN"
   },
   "outputs": [],
   "source": [
    "episodes_max = 24\n",
    "\n",
    "manual_rewards = []\n",
    "manual_time = []\n",
    "manual_steps = []\n",
    "\n",
    "model_rewards = []\n",
    "model_time = []\n",
    "model_steps = []\n",
    "\n",
    "rl_model = load_model('model.hd5')\n",
    "\n",
    "def test_sequence(manual=True):\n",
    "    episode_num=[]\n",
    "    total_time=[]\n",
    "    total_steps=[]\n",
    "    accu_rewards=[]\n",
    "    \n",
    "    driver_env=CabDriver()\n",
    "\n",
    "    for i in range(1,episodes_max+1):\n",
    "        driver_env.reset()\n",
    "        state = driver_env.state_init\n",
    "        is_terminal = False\n",
    "        while not is_terminal:\n",
    "            if manual:\n",
    "                actions = driver_env.requests(state)\n",
    "                action = random.choice(actions)\n",
    "            else:\n",
    "                encoded_state = driver_env.encode_state_v1(state)\n",
    "                encoded_state = encoded_state.reshape(1,36)\n",
    "                q_value = rl_model.predict(encoded_state)\n",
    "                action = driver_env.action_space[np.argmax(q_value[0])]\n",
    "            \n",
    "            next_state, reward, is_terminal = driver_env.step(state, action)\n",
    "            state = next_state\n",
    "    \n",
    "        tot_rewards, tot_time, steps = driver_env.tracking_info()\n",
    "        episode_num.append(i)\n",
    "        accu_rewards.append(tot_rewards)\n",
    "        total_time.append(tot_time)\n",
    "        total_steps.append(steps)\n",
    "    \n",
    "    return accu_rewards,total_time,total_steps"
   ]
  },
  {
   "cell_type": "code",
   "execution_count": 19,
   "metadata": {
    "colab": {
     "base_uri": "https://localhost:8080/",
     "height": 34
    },
    "colab_type": "code",
    "executionInfo": {
     "elapsed": 1235,
     "status": "ok",
     "timestamp": 1566207104654,
     "user": {
      "displayName": "Saman Tamkeen",
      "photoUrl": "https://lh3.googleusercontent.com/-ZbIcHpA6axU/AAAAAAAAAAI/AAAAAAAABfo/UEO6yap-1W0/s64/photo.jpg",
      "userId": "04283162121766014139"
     },
     "user_tz": -330
    },
    "id": "lh3mUI-5tBEy",
    "outputId": "dde23d12-a753-49c2-c32a-74921db5a049"
   },
   "outputs": [
    {
     "name": "stdout",
     "output_type": "stream",
     "text": [
      "Time Elapsed for Manual Selection :  0:00:00.049170\n"
     ]
    }
   ],
   "source": [
    "start_time=datetime.datetime.now() \n",
    "manual_rewards,manual_time,manual_steps=test_sequence()\n",
    "end_time=datetime.datetime.now() \n",
    "print('Time Elapsed for Manual Selection : ',end_time-start_time)"
   ]
  },
  {
   "cell_type": "code",
   "execution_count": 20,
   "metadata": {
    "colab": {
     "base_uri": "https://localhost:8080/",
     "height": 34
    },
    "colab_type": "code",
    "executionInfo": {
     "elapsed": 2478,
     "status": "ok",
     "timestamp": 1566207108187,
     "user": {
      "displayName": "Saman Tamkeen",
      "photoUrl": "https://lh3.googleusercontent.com/-ZbIcHpA6axU/AAAAAAAAAAI/AAAAAAAABfo/UEO6yap-1W0/s64/photo.jpg",
      "userId": "04283162121766014139"
     },
     "user_tz": -330
    },
    "id": "wL260UJctXaQ",
    "outputId": "0aa7eb48-58be-4d21-8b36-21a9781ee3f6"
   },
   "outputs": [
    {
     "name": "stdout",
     "output_type": "stream",
     "text": [
      "Time Elapsed for RL_Model Selection :  0:01:07.509690\n"
     ]
    }
   ],
   "source": [
    "start_time=datetime.datetime.now() \n",
    "model_rewards,model_time,model_steps=test_sequence(manual=False)\n",
    "end_time=datetime.datetime.now() \n",
    "print('Time Elapsed for RL_Model Selection : ',end_time-start_time)"
   ]
  },
  {
   "cell_type": "code",
   "execution_count": 21,
   "metadata": {
    "colab": {},
    "colab_type": "code",
    "id": "8oWePiVoteek"
   },
   "outputs": [],
   "source": [
    "data={'manual_rewards':manual_rewards,\n",
    "     'manual_time':manual_time,\n",
    "     'manual_steps':manual_steps,\n",
    "     'model_rewards':model_rewards,\n",
    "     'model_time':model_time,\n",
    "     'model_steps':model_steps,\n",
    "     }\n",
    "revenue=pd.DataFrame(data)"
   ]
  },
  {
   "cell_type": "code",
   "execution_count": 22,
   "metadata": {
    "colab": {
     "base_uri": "https://localhost:8080/",
     "height": 297
    },
    "colab_type": "code",
    "executionInfo": {
     "elapsed": 1209,
     "status": "ok",
     "timestamp": 1566207126155,
     "user": {
      "displayName": "Saman Tamkeen",
      "photoUrl": "https://lh3.googleusercontent.com/-ZbIcHpA6axU/AAAAAAAAAAI/AAAAAAAABfo/UEO6yap-1W0/s64/photo.jpg",
      "userId": "04283162121766014139"
     },
     "user_tz": -330
    },
    "id": "ortRHsaV6-Uk",
    "outputId": "22206314-d15c-4362-949e-31226d6cdbd9"
   },
   "outputs": [
    {
     "data": {
      "text/html": [
       "<div>\n",
       "<style scoped>\n",
       "    .dataframe tbody tr th:only-of-type {\n",
       "        vertical-align: middle;\n",
       "    }\n",
       "\n",
       "    .dataframe tbody tr th {\n",
       "        vertical-align: top;\n",
       "    }\n",
       "\n",
       "    .dataframe thead th {\n",
       "        text-align: right;\n",
       "    }\n",
       "</style>\n",
       "<table border=\"1\" class=\"dataframe\">\n",
       "  <thead>\n",
       "    <tr style=\"text-align: right;\">\n",
       "      <th></th>\n",
       "      <th>manual_rewards</th>\n",
       "      <th>manual_steps</th>\n",
       "      <th>model_rewards</th>\n",
       "      <th>model_steps</th>\n",
       "    </tr>\n",
       "  </thead>\n",
       "  <tbody>\n",
       "    <tr>\n",
       "      <th>count</th>\n",
       "      <td>24.0000</td>\n",
       "      <td>24.000000</td>\n",
       "      <td>24.000000</td>\n",
       "      <td>24.000000</td>\n",
       "    </tr>\n",
       "    <tr>\n",
       "      <th>mean</th>\n",
       "      <td>-173.1250</td>\n",
       "      <td>124.750000</td>\n",
       "      <td>2641.791667</td>\n",
       "      <td>109.833333</td>\n",
       "    </tr>\n",
       "    <tr>\n",
       "      <th>std</th>\n",
       "      <td>160.7083</td>\n",
       "      <td>5.884763</td>\n",
       "      <td>36.447674</td>\n",
       "      <td>1.551063</td>\n",
       "    </tr>\n",
       "    <tr>\n",
       "      <th>min</th>\n",
       "      <td>-611.0000</td>\n",
       "      <td>116.000000</td>\n",
       "      <td>2568.000000</td>\n",
       "      <td>107.000000</td>\n",
       "    </tr>\n",
       "    <tr>\n",
       "      <th>25%</th>\n",
       "      <td>-230.7500</td>\n",
       "      <td>120.000000</td>\n",
       "      <td>2607.000000</td>\n",
       "      <td>109.000000</td>\n",
       "    </tr>\n",
       "    <tr>\n",
       "      <th>50%</th>\n",
       "      <td>-166.0000</td>\n",
       "      <td>125.000000</td>\n",
       "      <td>2654.500000</td>\n",
       "      <td>110.000000</td>\n",
       "    </tr>\n",
       "    <tr>\n",
       "      <th>75%</th>\n",
       "      <td>-92.7500</td>\n",
       "      <td>129.250000</td>\n",
       "      <td>2671.750000</td>\n",
       "      <td>111.000000</td>\n",
       "    </tr>\n",
       "    <tr>\n",
       "      <th>max</th>\n",
       "      <td>147.0000</td>\n",
       "      <td>137.000000</td>\n",
       "      <td>2688.000000</td>\n",
       "      <td>113.000000</td>\n",
       "    </tr>\n",
       "  </tbody>\n",
       "</table>\n",
       "</div>"
      ],
      "text/plain": [
       "       manual_rewards  manual_steps  model_rewards  model_steps\n",
       "count         24.0000     24.000000      24.000000    24.000000\n",
       "mean        -173.1250    124.750000    2641.791667   109.833333\n",
       "std          160.7083      5.884763      36.447674     1.551063\n",
       "min         -611.0000    116.000000    2568.000000   107.000000\n",
       "25%         -230.7500    120.000000    2607.000000   109.000000\n",
       "50%         -166.0000    125.000000    2654.500000   110.000000\n",
       "75%          -92.7500    129.250000    2671.750000   111.000000\n",
       "max          147.0000    137.000000    2688.000000   113.000000"
      ]
     },
     "execution_count": 22,
     "metadata": {},
     "output_type": "execute_result"
    }
   ],
   "source": [
    "revenue[['manual_rewards','manual_steps','model_rewards','model_steps']].describe()"
   ]
  },
  {
   "cell_type": "code",
   "execution_count": 23,
   "metadata": {
    "colab": {
     "base_uri": "https://localhost:8080/",
     "height": 520
    },
    "colab_type": "code",
    "executionInfo": {
     "elapsed": 1703,
     "status": "ok",
     "timestamp": 1566207137377,
     "user": {
      "displayName": "Saman Tamkeen",
      "photoUrl": "https://lh3.googleusercontent.com/-ZbIcHpA6axU/AAAAAAAAAAI/AAAAAAAABfo/UEO6yap-1W0/s64/photo.jpg",
      "userId": "04283162121766014139"
     },
     "user_tz": -330
    },
    "id": "fk4ahuAZ6iu3",
    "outputId": "3e2e7c07-7e9c-4a56-8cb1-a8e7608e6879"
   },
   "outputs": [
    {
     "data": {
      "image/png": "[encoded data removed]",
      "text/plain": [
       "<Figure size 1120x560 with 1 Axes>"
      ]
     },
     "metadata": {},
     "output_type": "display_data"
    }
   ],
   "source": [
    "fig=plt.figure(figsize=(16, 8), dpi=70, facecolor='w', edgecolor='k')\n",
    "sns.lineplot(y=revenue['manual_rewards'],x=range(1,len(revenue)+1),label='Random Selection')\n",
    "sns.lineplot(y=revenue['model_rewards'],x=range(1,len(revenue)+1),label='RL Model Selection')\n",
    "plt.xlabel(' -- Month -- ')\n",
    "plt.ylabel(' -- Revenue -- ')\n",
    "plt.title('Reward over 2 years')\n",
    "plt.show()"
   ]
  },
  {
   "cell_type": "code",
   "execution_count": 24,
   "metadata": {
    "colab": {
     "base_uri": "https://localhost:8080/",
     "height": 613
    },
    "colab_type": "code",
    "executionInfo": {
     "elapsed": 2255,
     "status": "ok",
     "timestamp": 1566207411689,
     "user": {
      "displayName": "Saman Tamkeen",
      "photoUrl": "https://lh3.googleusercontent.com/-ZbIcHpA6axU/AAAAAAAAAAI/AAAAAAAABfo/UEO6yap-1W0/s64/photo.jpg",
      "userId": "04283162121766014139"
     },
     "user_tz": -330
    },
    "id": "0xQvWuu_tySd",
    "outputId": "1aa1dadc-2a21-448b-d098-14e63331dc90"
   },
   "outputs": [
    {
     "data": {
      "image/png": "[encoded data removed]",
      "text/plain": [
       "<Figure size 1120x700 with 1 Axes>"
      ]
     },
     "metadata": {},
     "output_type": "display_data"
    }
   ],
   "source": [
    "fig=plt.figure(figsize=(16, 10), dpi=70, facecolor='w', edgecolor='k')\n",
    "sns.lineplot(y=revenue['manual_steps'],x=range(1,len(revenue)+1),label='Random Selection')\n",
    "sns.lineplot(y=revenue['model_steps'],x=range(1,len(revenue)+1),label='RL Model Selection')\n",
    "plt.xlabel(' -- Month -- ')\n",
    "plt.ylabel(' -- Number of requests served per month -- ')\n",
    "plt.show()"
   ]
  },
  {
   "cell_type": "markdown",
   "metadata": {
    "colab_type": "text",
    "id": "ZdDABNqCm8a9"
   },
   "source": [
    "## Epsilon-decay function\n",
    "epsilon-decay function for the model."
   ]
  },
  {
   "cell_type": "code",
   "execution_count": 25,
   "metadata": {
    "colab": {},
    "colab_type": "code",
    "id": "izgTaKEYm8a_"
   },
   "outputs": [],
   "source": [
    "time = np.arange(0,100000)\n",
    "epsilon_min=0\n",
    "epsilon_max=1\n",
    "epsilon_decay=-0.00005\n",
    "\n",
    "epsilons = []\n",
    "random_actions = []\n",
    "\n",
    "for i in range(0,100000):\n",
    "    epsilon = epsilon_min + (epsilon_max - epsilon_min) * np.exp(epsilon_decay*i)\n",
    "    if np.random.rand() <= epsilon:\n",
    "        action = 1\n",
    "    else:\n",
    "        action = 0\n",
    "    epsilons.append(epsilon)\n",
    "    random_actions.append(action)"
   ]
  },
  {
   "cell_type": "code",
   "execution_count": 26,
   "metadata": {
    "colab": {
     "base_uri": "https://localhost:8080/",
     "height": 350
    },
    "colab_type": "code",
    "executionInfo": {
     "elapsed": 1658,
     "status": "ok",
     "timestamp": 1566151480359,
     "user": {
      "displayName": "Saman Tamkeen",
      "photoUrl": "https://lh3.googleusercontent.com/-ZbIcHpA6axU/AAAAAAAAAAI/AAAAAAAABfo/UEO6yap-1W0/s64/photo.jpg",
      "userId": "04283162121766014139"
     },
     "user_tz": -330
    },
    "id": "_n1ry-13m8bB",
    "outputId": "7a50cee2-3f3e-4153-99b9-d8d57a2f9cfc"
   },
   "outputs": [
    {
     "data": {
      "image/png": "[encoded data removed]",
      "text/plain": [
       "<Figure size 1080x360 with 2 Axes>"
      ]
     },
     "metadata": {
      "needs_background": "light"
     },
     "output_type": "display_data"
    }
   ],
   "source": [
    "plt.figure(figsize=(15,5))\n",
    "\n",
    "plt.subplot(121)\n",
    "plt.plot(time, epsilons)\n",
    "plt.xlabel('time step')\n",
    "plt.ylabel('epsilon value')\n",
    "plt.title('epsilon value decay per time step')\n",
    "\n",
    "plt.subplot(122)\n",
    "plt.plot(time[50000:51000], random_actions[50000:51000])\n",
    "plt.xlabel('time step')\n",
    "plt.yticks([])\n",
    "plt.title('random action per time step')\n",
    "\n",
    "plt.show()"
   ]
  },
  {
   "cell_type": "code",
   "execution_count": null,
   "metadata": {},
   "outputs": [],
   "source": []
  }
 ],
 "metadata": {
  "colab": {
   "name": "DQN_Agent_Arch1.ipynb",
   "provenance": [],
   "version": "0.3.2"
  },
  "kernelspec": {
   "display_name": "Python 3",
   "language": "python",
   "name": "python3"
  },
  "language_info": {
   "codemirror_mode": {
    "name": "ipython",
    "version": 3
   },
   "file_extension": ".py",
   "mimetype": "text/x-python",
   "name": "python",
   "nbconvert_exporter": "python",
   "pygments_lexer": "ipython3",
   "version": "3.8.3"
  }
 },
 "nbformat": 4,
 "nbformat_minor": 1
}
