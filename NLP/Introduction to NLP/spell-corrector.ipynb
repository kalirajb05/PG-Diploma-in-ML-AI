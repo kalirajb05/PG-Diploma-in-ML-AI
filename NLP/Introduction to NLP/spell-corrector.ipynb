{
 "cells": [
  {
   "cell_type": "code",
   "execution_count": 2,
   "metadata": {},
   "outputs": [],
   "source": [
    "import re\n",
    "from collections import Counter"
   ]
  },
  {
   "cell_type": "code",
   "execution_count": 22,
   "metadata": {},
   "outputs": [],
   "source": [
    "# function to tokenise words\n",
    "def words(document):\n",
    "    \"Convert text to lower case and tokenise the document\"\n",
    "    return re.findall(r'\\w+', document.lower())"
   ]
  },
  {
   "cell_type": "code",
   "execution_count": 23,
   "metadata": {},
   "outputs": [],
   "source": [
    "# create a frequency table of all the words of the document\n",
    "all_words = Counter(words(open('big.txt').read()))"
   ]
  },
  {
   "cell_type": "code",
   "execution_count": 24,
   "metadata": {},
   "outputs": [
    {
     "data": {
      "text/plain": [
       "135"
      ]
     },
     "execution_count": 24,
     "metadata": {},
     "output_type": "execute_result"
    }
   ],
   "source": [
    "# check frequency of a random word, say, 'chair'\n",
    "all_words['chair']"
   ]
  },
  {
   "cell_type": "code",
   "execution_count": 25,
   "metadata": {},
   "outputs": [
    {
     "data": {
      "text/plain": [
       "[('the', 79809),\n",
       " ('of', 40024),\n",
       " ('and', 38312),\n",
       " ('to', 28765),\n",
       " ('in', 22023),\n",
       " ('a', 21124),\n",
       " ('that', 12512),\n",
       " ('he', 12401),\n",
       " ('was', 11410),\n",
       " ('it', 10681)]"
      ]
     },
     "execution_count": 25,
     "metadata": {},
     "output_type": "execute_result"
    }
   ],
   "source": [
    "# look at top 10 frequent words\n",
    "all_words.most_common(10)"
   ]
  },
  {
   "cell_type": "code",
   "execution_count": 7,
   "metadata": {},
   "outputs": [],
   "source": [
    "def edits_one(word):\n",
    "    \"Create all edits that are one edit away from `word`.\"\n",
    "    alphabets    = 'abcdefghijklmnopqrstuvwxyz'\n",
    "    splits     = [(word[:i], word[i:])                   for i in range(len(word) + 1)]\n",
    "    deletes    = [left + right[1:]                       for left, right in splits if right]\n",
    "    inserts    = [left + c + right                       for left, right in splits for c in alphabets]\n",
    "    replaces   = [left + c + right[1:]                   for left, right in splits if right for c in alphabets]\n",
    "    transposes = [left + right[1] + right[0] + right[2:] for left, right in splits if len(right)>1]\n",
    "    return set(deletes + inserts + replaces + transposes)"
   ]
  },
  {
   "cell_type": "code",
   "execution_count": 8,
   "metadata": {},
   "outputs": [],
   "source": [
    "def edits_two(word):\n",
    "    \"Create all edits that are two edits away from `word`.\"\n",
    "    return (e2 for e1 in edits_one(word) for e2 in edits_one(e1))"
   ]
  },
  {
   "cell_type": "code",
   "execution_count": 9,
   "metadata": {},
   "outputs": [],
   "source": [
    "def known(words):\n",
    "    \"The subset of `words` that appear in the `all_words`.\"\n",
    "    return set(word for word in words if word in all_words)"
   ]
  },
  {
   "cell_type": "code",
   "execution_count": 26,
   "metadata": {},
   "outputs": [],
   "source": [
    "def possible_corrections(word):\n",
    "    \"Generate possible spelling corrections for word.\"\n",
    "    return (known([word]) or known(edits_one(word)) or known(edits_two(word)) or [word])"
   ]
  },
  {
   "cell_type": "code",
   "execution_count": 27,
   "metadata": {},
   "outputs": [],
   "source": [
    "def prob(word, N=sum(all_words.values())): \n",
    "    \"Probability of `word`: Number of appearances of 'word' / total number of tokens\"\n",
    "    return all_words[word] / N"
   ]
  },
  {
   "cell_type": "code",
   "execution_count": 12,
   "metadata": {},
   "outputs": [
    {
     "name": "stdout",
     "output_type": "stream",
     "text": [
      "336\n",
      "{'ymonney', 'zonney', 'umonney', 'monbey', 'mpnney', 'monnjy', 'mvnney', 'montey', 'ionney', 'monneay', 'smonney', 'monnby', 'moneney', 'monneyy', 'mtnney', 'monnei', 'monney', 'bonney', 'meonney', 'monnzey', 'molney', 'mtonney', 'mohnney', 'monnxey', 'maonney', 'monnepy', 'hmonney', 'eonney', 'monneys', 'monnzy', 'mronney', 'monnez', 'monnep', 'monvey', 'omonney', 'monlney', 'tonney', 'monnhy', 'myonney', 'monnoy', 'monneyd', 'monfney', 'monzney', 'monneoy', 'modney', 'mnney', 'mocney', 'mmonney', 'monneyg', 'moniney', 'mvonney', 'monnley', 'monnev', 'nonney', 'muonney', 'mconney', 'monqney', 'monjney', 'movney', 'ponney', 'monneyn', 'monneya', 'monhey', 'monnegy', 'moenney', 'monhney', 'monneyc', 'monnry', 'monntey', 'monnvey', 'vonney', 'moznney', 'mornney', 'mononey', 'mownney', 'morney', 'monnej', 'monnney', 'mwnney', 'monpney', 'monxey', 'mondey', 'gonney', 'manney', 'monzey', 'msnney', 'monwey', 'fonney', 'monvney', 'mobney', 'monneh', 'monnemy', 'monneiy', 'motney', 'monnew', 'monpey', 'mzonney', 'monnem', 'qonney', 'moneey', 'monnely', 'monniey', 'moinney', 'monuey', 'monneb', 'monbney', 'mowney', 'mbnney', 'mmnney', 'monnen', 'monneyf', 'onney', 'monngey', 'monnewy', 'monneuy', 'monnet', 'imonney', 'monqey', 'msonney', 'monnhey', 'monneq', 'moxnney', 'mopney', 'motnney', 'mfnney', 'monnqey', 'monnpy', 'momnney', 'monnea', 'monneyz', 'modnney', 'monnaey', 'monnvy', 'mknney', 'mognney', 'momney', 'mnonney', 'mgnney', 'monnty', 'mobnney', 'oonney', 'monne', 'moxney', 'monncey', 'monnevy', 'monneyx', 'konney', 'nmonney', 'conney', 'monneqy', 'monneg', 'lmonney', 'mhonney', 'monnbey', 'mlonney', 'mondney', 'monnrey', 'monneyq', 'monngy', 'monnsy', 'monsney', 'moyney', 'monaney', 'mjonney', 'monneey', 'monnmey', 'monned', 'mogney', 'mznney', 'monnly', 'monkey', 'monneyw', 'mojney', 'mnoney', 'mofney', 'mhnney', 'monnel', 'montney', 'monmey', 'mounney', 'rmonney', 'monrney', 'moqney', 'monneky', 'monnecy', 'monnedy', 'menney', 'monnyy', 'monnay', 'monnwey', 'monnexy', 'mocnney', 'amonney', 'munney', 'monneyj', 'monwney', 'monnyey', 'monaey', 'mongey', 'monnezy', 'uonney', 'monner', 'monndey', 'mohney', 'monnuey', 'monnsey', 'monnkey', 'monneyr', 'bmonney', 'mojnney', 'monnfy', 'mrnney', 'mooney', 'sonney', 'monnjey', 'aonney', 'monjey', 'moncney', 'monuney', 'molnney', 'monnxy', 'honney', 'gmonney', 'xonney', 'dmonney', 'monkney', 'monrey', 'moknney', 'monnuy', 'monyey', 'mxnney', 'mxonney', 'zmonney', 'monneyt', 'money', 'monnesy', 'emonney', 'monneyi', 'mqnney', 'monnky', 'monnye', 'mponney', 'mnnney', 'monndy', 'lonney', 'omnney', 'wmonney', 'monneyu', 'monnoey', 'jmonney', 'monnny', 'monnehy', 'xmonney', 'monnery', 'mokney', 'mouney', 'mionney', 'moneny', 'monneyb', 'mdnney', 'monny', 'monneny', 'monneye', 'monfey', 'monyney', 'kmonney', 'mosney', 'monnpey', 'mgonney', 'monneby', 'jonney', 'moeney', 'vmonney', 'moaney', 'mcnney', 'monnwy', 'monnee', 'mofnney', 'monneyv', 'monmney', 'tmonney', 'wonney', 'minney', 'moncey', 'monneyh', 'moiney', 'monnec', 'mynney', 'moqnney', 'monneo', 'fmonney', 'mozney', 'moonney', 'monniy', 'monneyl', 'monneym', 'monncy', 'mkonney', 'moynney', 'monneyk', 'monneyo', 'monnmy', 'mfonney', 'moniey', 'pmonney', 'moanney', 'monneyp', 'mosnney', 'cmonney', 'monoey', 'monnety', 'monneu', 'qmonney', 'mqonney', 'monnefy', 'mwonney', 'monnejy', 'movnney', 'mdonney', 'monsey', 'monnfey', 'ronney', 'monley', 'yonney', 'monnef', 'mjnney', 'donney', 'mlnney', 'mopnney', 'monnek', 'monnex', 'monxney', 'mongney', 'monnqy', 'mbonney', 'monnes'}\n"
     ]
    }
   ],
   "source": [
    "print(len(set(edits_one(\"monney\"))))\n",
    "print(edits_one(\"monney\"))"
   ]
  },
  {
   "cell_type": "code",
   "execution_count": 28,
   "metadata": {},
   "outputs": [
    {
     "name": "stdout",
     "output_type": "stream",
     "text": [
      "{'monkey', 'money'}\n"
     ]
    }
   ],
   "source": [
    "print(known(edits_one(\"monney\")))"
   ]
  },
  {
   "cell_type": "code",
   "execution_count": null,
   "metadata": {},
   "outputs": [],
   "source": [
    "# Let's look at words that are two edits away\n",
    "print(len(set(edits_two(\"monney\"))))\n",
    "print(known(edits_one(\"monney\")))"
   ]
  },
  {
   "cell_type": "code",
   "execution_count": 29,
   "metadata": {},
   "outputs": [
    {
     "name": "stdout",
     "output_type": "stream",
     "text": [
      "{'monkey', 'money'}\n"
     ]
    }
   ],
   "source": [
    "# Let's look at possible corrections of a word\n",
    "print(possible_corrections(\"monney\"))"
   ]
  },
  {
   "cell_type": "code",
   "execution_count": null,
   "metadata": {},
   "outputs": [],
   "source": [
    "# Let's look at probability of a word\n",
    "print(prob(\"money\"))\n",
    "print(prob(\"monkey\"))"
   ]
  },
  {
   "cell_type": "code",
   "execution_count": null,
   "metadata": {},
   "outputs": [],
   "source": [
    "def spell_check(word):\n",
    "    \"Print the most probable spelling correction for `word` out of all the `possible_corrections`\"\n",
    "    correct_word = max(possible_corrections(word), key=prob)\n",
    "    if correct_word != word:\n",
    "        return \"Did you mean \" + correct_word + \"?\"\n",
    "    else:\n",
    "        return \"Correct spelling.\""
   ]
  },
  {
   "cell_type": "code",
   "execution_count": null,
   "metadata": {},
   "outputs": [],
   "source": [
    "# test spell check\n",
    "print(spell_check(\"monney\"))"
   ]
  },
  {
   "cell_type": "code",
   "execution_count": 16,
   "metadata": {},
   "outputs": [
    {
     "data": {
      "text/plain": [
       "442"
      ]
     },
     "execution_count": 16,
     "metadata": {},
     "output_type": "execute_result"
    }
   ],
   "source": [
    "len(set(edits_one(\"emfasize\")))"
   ]
  },
  {
   "cell_type": "code",
   "execution_count": 17,
   "metadata": {},
   "outputs": [
    {
     "data": {
      "text/plain": [
       "90902"
      ]
     },
     "execution_count": 17,
     "metadata": {},
     "output_type": "execute_result"
    }
   ],
   "source": [
    "len(set(edits_two(\"emfasize\")))"
   ]
  },
  {
   "cell_type": "code",
   "execution_count": 30,
   "metadata": {},
   "outputs": [
    {
     "data": {
      "text/plain": [
       "{'emphasize'}"
      ]
     },
     "execution_count": 30,
     "metadata": {},
     "output_type": "execute_result"
    }
   ],
   "source": [
    "possible_corrections(\"emfasize\")"
   ]
  }
 ],
 "metadata": {
  "kernelspec": {
   "display_name": "Python 3",
   "language": "python",
   "name": "python3"
  },
  "language_info": {
   "codemirror_mode": {
    "name": "ipython",
    "version": 3
   },
   "file_extension": ".py",
   "mimetype": "text/x-python",
   "name": "python",
   "nbconvert_exporter": "python",
   "pygments_lexer": "ipython3",
   "version": "3.8.3"
  }
 },
 "nbformat": 4,
 "nbformat_minor": 2
}
