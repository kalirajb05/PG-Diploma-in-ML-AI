{
 "cells": [
  {
   "cell_type": "markdown",
   "metadata": {
    "id": "fpR8rx6grreB"
   },
   "source": [
    "# Gesture Recognition\n",
    "In this group project, you are going to build a 3D Conv model that will be able to predict the 5 gestures correctly. Please import the following libraries to get started."
   ]
  },
  {
   "cell_type": "code",
   "execution_count": 1,
   "metadata": {
    "id": "poeyllXvrreC"
   },
   "outputs": [],
   "source": [
    "import numpy as np\n",
    "import os\n",
    "from imageio import imread\n",
    "from skimage.transform import resize\n",
    "import datetime\n",
    "import os"
   ]
  },
  {
   "cell_type": "markdown",
   "metadata": {
    "id": "3bzJIsHHrreD"
   },
   "source": [
    "We set the random seed so that the results don't vary drastically."
   ]
  },
  {
   "cell_type": "code",
   "execution_count": 2,
   "metadata": {
    "id": "EXWMsphPrreD",
    "outputId": "d6e2b476-4fab-422d-8b2a-3bf777510545"
   },
   "outputs": [],
   "source": [
    "np.random.seed(30)\n",
    "import random as rn\n",
    "rn.seed(30)\n",
    "from tensorflow import keras\n",
    "import tensorflow as tf\n",
    "tf.random.set_seed(30)"
   ]
  },
  {
   "cell_type": "markdown",
   "metadata": {
    "id": "VbGgnLdQrreE"
   },
   "source": [
    "In this block, you read the folder names for training and validation. You also set the `batch_size` here. Note that you set the batch size in such a way that you are able to use the GPU in full capacity. You keep increasing the batch size until the machine throws an error."
   ]
  },
  {
   "cell_type": "code",
   "execution_count": 3,
   "metadata": {
    "id": "nmBt1wsorreE"
   },
   "outputs": [],
   "source": [
    "train_doc = np.random.permutation(open('/home/datasets/Project_data/train.csv').readlines())\n",
    "val_doc = np.random.permutation(open('/home/datasets/Project_data/val.csv').readlines())\n",
    "batch_size = 32 #experiment with the batch size"
   ]
  },
  {
   "cell_type": "markdown",
   "metadata": {
    "id": "Anrx9gY4rreF"
   },
   "source": [
    "## Generator\n",
    "This is one of the most important part of the code. The overall structure of the generator has been given. In the generator, you are going to preprocess the images as you have images of 2 different dimensions as well as create a batch of video frames. You have to experiment with some of the parts of the generator function such that you get high accuracy."
   ]
  },
  {
   "cell_type": "code",
   "execution_count": 4,
   "metadata": {
    "id": "ulhMVWnirreF"
   },
   "outputs": [],
   "source": [
    "def generator(source_path, folder_list, batch_size):\n",
    "    print( 'Source path = ', source_path, '; batch size =', batch_size)\n",
    "    img_idx = [0,1,2,4,6,8,10,12,14,16,18,20,22,24,26,27,28,29]\n",
    "    while True:\n",
    "        t = np.random.permutation(folder_list)\n",
    "        num_batches = int(len(t)/batch_size)\n",
    "        for batch in range(num_batches):\n",
    "            batch_data = np.zeros((batch_size,18,84,84,3))\n",
    "            batch_labels = np.zeros((batch_size,5))\n",
    "            for folder in range(batch_size):\n",
    "                imgs = os.listdir(source_path+'/'+ t[folder + (batch*batch_size)].split(';')[0])\n",
    "                for idx,item in enumerate(img_idx):\n",
    "                    image = imread(source_path+'/'+ t[folder + (batch*batch_size)].strip().split(';')[0]+'/'+imgs[item]).astype(np.float32)\n",
    "                    if image.shape[1] == 160:\n",
    "                        image = resize(image[:,20:140,:],(84,84)).astype(np.float32)\n",
    "                    else:\n",
    "                        image = resize(image,(84,84)).astype(np.float32)\n",
    "                    \n",
    "                    batch_data[folder,idx,:,:,0] = image[:,:,0] - 104\n",
    "                    batch_data[folder,idx,:,:,1] = image[:,:,1] - 117\n",
    "                    batch_data[folder,idx,:,:,2] = image[:,:,2] - 123\n",
    "                    \n",
    "                batch_labels[folder, int(t[folder + (batch*batch_size)].strip().split(';')[2])] = 1\n",
    "            yield batch_data, batch_labels\n",
    "\n",
    "        if (len(t)%batch_size) != 0:\n",
    "            batch_data = np.zeros((len(t)%batch_size,18,84,84,3))\n",
    "            batch_labels = np.zeros((len(t)%batch_size,5))\n",
    "            for folder in range(len(t)%batch_size):\n",
    "                imgs = os.listdir(source_path+'/'+ t[folder + (num_batches*batch_size)].split(';')[0])\n",
    "                for idx,item in enumerate(img_idx):\n",
    "                    image = imread(source_path+'/'+ t[folder + (num_batches*batch_size)].strip().split(';')[0]+'/'+imgs[item]).astype(np.float32)\n",
    "                    if image.shape[1] == 160:\n",
    "                        image = resize(image[:,20:140,:],(84,84)).astype(np.float32)\n",
    "                    else:\n",
    "                        image = resize(image,(84,84)).astype(np.float32)\n",
    "\n",
    "                    batch_data[folder,idx,:,:,0] = image[:,:,0] - 104\n",
    "                    batch_data[folder,idx,:,:,1] = image[:,:,1] - 117\n",
    "                    batch_data[folder,idx,:,:,2] = image[:,:,2] - 123\n",
    "\n",
    "                batch_labels[folder, int(t[folder + (num_batches*batch_size)].strip().split(';')[2])] = 1\n",
    "\n",
    "            yield batch_data, batch_labels"
   ]
  },
  {
   "cell_type": "code",
   "execution_count": 5,
   "metadata": {
    "id": "ffM7hb7drreH",
    "outputId": "fed21731-4eea-40ba-bc6d-04be0e9cf88d"
   },
   "outputs": [
    {
     "name": "stdout",
     "output_type": "stream",
     "text": [
      "# training sequences = 663\n",
      "# validation sequences = 100\n",
      "# epochs = 30\n"
     ]
    }
   ],
   "source": [
    "curr_dt_time = datetime.datetime.now()\n",
    "train_path = '/home/datasets/Project_data/train'\n",
    "val_path = '/home/datasets/Project_data/val'\n",
    "num_train_sequences = len(train_doc)\n",
    "print('# training sequences =', num_train_sequences)\n",
    "num_val_sequences = len(val_doc)\n",
    "print('# validation sequences =', num_val_sequences)\n",
    "num_epochs = 30\n",
    "print ('# epochs =', num_epochs)"
   ]
  },
  {
   "cell_type": "markdown",
   "metadata": {
    "id": "yU_hZqrnrreI"
   },
   "source": [
    "## Model\n",
    "Here you make the model using different functionalities that Keras provides. Remember to use `Conv3D` and `MaxPooling3D` and not `Conv2D` and `Maxpooling2D`. Also remember that the last layer is the softmax. Remember that the network is designed in such a way that the model is able to fit in the memory of the webcam."
   ]
  },
  {
   "cell_type": "code",
   "execution_count": 6,
   "metadata": {
    "id": "zmRqvi9frreJ"
   },
   "outputs": [],
   "source": [
    "from tensorflow.keras.models import Sequential\n",
    "from tensorflow.keras.layers import Dense, GRU, Dropout, Flatten, BatchNormalization, Activation, Conv3D, MaxPooling3D\n",
    "from tensorflow.keras.callbacks import ModelCheckpoint, ReduceLROnPlateau\n",
    "from tensorflow.keras import optimizers\n",
    "\n",
    "\n",
    "model = Sequential()\n",
    "model.add(Conv3D(64, (3,3,3), strides=(1,1,1), padding='same', input_shape=(18,84,84,3)))\n",
    "model.add(BatchNormalization())\n",
    "model.add(Activation('elu'))\n",
    "model.add(MaxPooling3D(pool_size=(2,2,1), strides=(2,2,1)))\n",
    "\n",
    "model.add(Conv3D(128, (3,3,3), strides=(1,1,1), padding='same'))\n",
    "model.add(BatchNormalization())\n",
    "model.add(Activation('elu'))\n",
    "model.add(MaxPooling3D(pool_size=(2,2,2), strides=(2,2,2)))\n",
    "\n",
    "# model.add(Dropout(0.25))\n",
    "\n",
    "model.add(Conv3D(256, (3,3,3), strides=(1,1,1), padding='same'))\n",
    "model.add(BatchNormalization())\n",
    "model.add(Activation('elu'))\n",
    "model.add(MaxPooling3D(pool_size=(2,2,2), strides=(2,2,2)))\n",
    "\n",
    "# model.add(Dropout(0.25))\n",
    "\n",
    "model.add(Conv3D(256, (3,3,3), strides=(1,1,1), padding='same'))\n",
    "model.add(BatchNormalization())\n",
    "model.add(Activation('elu'))\n",
    "model.add(MaxPooling3D(pool_size=(2,2,2), strides=(2,2,2)))\n",
    "\n",
    "model.add(Flatten())\n",
    "model.add(Dropout(0.5))\n",
    "model.add(Dense(512, activation='elu'))\n",
    "model.add(Dropout(0.5))\n",
    "model.add(Dense(5, activation='softmax'))"
   ]
  },
  {
   "cell_type": "markdown",
   "metadata": {
    "id": "LSzZdeXTrreL"
   },
   "source": [
    "Now that you have written the model, the next step is to `compile` the model. When you print the `summary` of the model, you'll see the total number of parameters you have to train."
   ]
  },
  {
   "cell_type": "code",
   "execution_count": 7,
   "metadata": {
    "id": "00fDJO_CrreM",
    "outputId": "c14e2275-dde5-4b37-cdff-f9d672b6eb82"
   },
   "outputs": [
    {
     "name": "stdout",
     "output_type": "stream",
     "text": [
      "Model: \"sequential\"\n",
      "_________________________________________________________________\n",
      "Layer (type)                 Output Shape              Param #   \n",
      "=================================================================\n",
      "conv3d (Conv3D)              (None, 18, 84, 84, 64)    5248      \n",
      "_________________________________________________________________\n",
      "batch_normalization (BatchNo (None, 18, 84, 84, 64)    256       \n",
      "_________________________________________________________________\n",
      "activation (Activation)      (None, 18, 84, 84, 64)    0         \n",
      "_________________________________________________________________\n",
      "max_pooling3d (MaxPooling3D) (None, 9, 42, 84, 64)     0         \n",
      "_________________________________________________________________\n",
      "conv3d_1 (Conv3D)            (None, 9, 42, 84, 128)    221312    \n",
      "_________________________________________________________________\n",
      "batch_normalization_1 (Batch (None, 9, 42, 84, 128)    512       \n",
      "_________________________________________________________________\n",
      "activation_1 (Activation)    (None, 9, 42, 84, 128)    0         \n",
      "_________________________________________________________________\n",
      "max_pooling3d_1 (MaxPooling3 (None, 4, 21, 42, 128)    0         \n",
      "_________________________________________________________________\n",
      "conv3d_2 (Conv3D)            (None, 4, 21, 42, 256)    884992    \n",
      "_________________________________________________________________\n",
      "batch_normalization_2 (Batch (None, 4, 21, 42, 256)    1024      \n",
      "_________________________________________________________________\n",
      "activation_2 (Activation)    (None, 4, 21, 42, 256)    0         \n",
      "_________________________________________________________________\n",
      "max_pooling3d_2 (MaxPooling3 (None, 2, 10, 21, 256)    0         \n",
      "_________________________________________________________________\n",
      "conv3d_3 (Conv3D)            (None, 2, 10, 21, 256)    1769728   \n",
      "_________________________________________________________________\n",
      "batch_normalization_3 (Batch (None, 2, 10, 21, 256)    1024      \n",
      "_________________________________________________________________\n",
      "activation_3 (Activation)    (None, 2, 10, 21, 256)    0         \n",
      "_________________________________________________________________\n",
      "max_pooling3d_3 (MaxPooling3 (None, 1, 5, 10, 256)     0         \n",
      "_________________________________________________________________\n",
      "flatten (Flatten)            (None, 12800)             0         \n",
      "_________________________________________________________________\n",
      "dropout (Dropout)            (None, 12800)             0         \n",
      "_________________________________________________________________\n",
      "dense (Dense)                (None, 512)               6554112   \n",
      "_________________________________________________________________\n",
      "dropout_1 (Dropout)          (None, 512)               0         \n",
      "_________________________________________________________________\n",
      "dense_1 (Dense)              (None, 5)                 2565      \n",
      "=================================================================\n",
      "Total params: 9,440,773\n",
      "Trainable params: 9,439,365\n",
      "Non-trainable params: 1,408\n",
      "_________________________________________________________________\n",
      "None\n"
     ]
    }
   ],
   "source": [
    "sgd = optimizers.SGD(lr=0.001, decay=1e-6, momentum=0.7, nesterov=True)\n",
    "model.compile(optimizer=sgd, loss='categorical_crossentropy', metrics=['categorical_accuracy'])\n",
    "print (model.summary())"
   ]
  },
  {
   "cell_type": "markdown",
   "metadata": {
    "id": "0PGK_LpzrreM"
   },
   "source": [
    "Let us create the `train_generator` and the `val_generator` which will be used in `.fit_generator`."
   ]
  },
  {
   "cell_type": "code",
   "execution_count": 8,
   "metadata": {
    "id": "URG3TulGrreM"
   },
   "outputs": [],
   "source": [
    "train_generator = generator(train_path, train_doc, batch_size)\n",
    "val_generator = generator(val_path, val_doc, batch_size)"
   ]
  },
  {
   "cell_type": "code",
   "execution_count": 9,
   "metadata": {
    "id": "GFtNEhOerreN",
    "outputId": "28b4e473-de6c-4fdc-db9d-2e2e1326b870"
   },
   "outputs": [
    {
     "name": "stdout",
     "output_type": "stream",
     "text": [
      "WARNING:tensorflow:`period` argument is deprecated. Please use `save_freq` to specify the frequency in number of batches seen.\n"
     ]
    }
   ],
   "source": [
    "model_name = 'model_init' + '_' + str(curr_dt_time).replace(' ','').replace(':','_') + '/'\n",
    "    \n",
    "if not os.path.exists(model_name):\n",
    "    os.mkdir(model_name)\n",
    "        \n",
    "filepath = model_name + 'model-{epoch:05d}-{loss:.5f}-{categorical_accuracy:.5f}-{val_loss:.5f}-{val_categorical_accuracy:.5f}.h5'\n",
    "#filepath = model_name + 'model-{epoch:05d}-{loss:.5f}-{categorical_accuracy:.5f}.h5'\n",
    "\n",
    "checkpoint = ModelCheckpoint(filepath, monitor='val_loss', verbose=1, save_best_only=False, save_weights_only=False, mode='auto', period=1)\n",
    "\n",
    "LR = ReduceLROnPlateau(monitor='val_loss', factor=0.5, patience=2, verbose=1, mode='min', min_delta=0.0001, cooldown=0, min_lr=0.00001)\n",
    "callbacks_list = [checkpoint, LR]"
   ]
  },
  {
   "cell_type": "code",
   "execution_count": 10,
   "metadata": {
    "id": "7w03lVXQrreN"
   },
   "outputs": [],
   "source": [
    "if (num_train_sequences%batch_size) == 0:\n",
    "    steps_per_epoch = int(num_train_sequences/batch_size)\n",
    "else:\n",
    "    steps_per_epoch = (num_train_sequences//batch_size) + 1\n",
    "\n",
    "if (num_val_sequences%batch_size) == 0:\n",
    "    validation_steps = int(num_val_sequences/batch_size)\n",
    "else:\n",
    "    validation_steps = (num_val_sequences//batch_size) + 1"
   ]
  },
  {
   "cell_type": "markdown",
   "metadata": {
    "id": "MrMP4pKErreO"
   },
   "source": [
    "Let us now fit the model. This will start training the model and with the help of the checkpoints, you'll be able to save the model at the end of each epoch."
   ]
  },
  {
   "cell_type": "code",
   "execution_count": 11,
   "metadata": {
    "id": "_PG1oN1GrreO",
    "outputId": "51d1dac0-385e-4f72-e703-7cb5e289c10b"
   },
   "outputs": [
    {
     "name": "stdout",
     "output_type": "stream",
     "text": [
      "Source path =  /home/datasets/Project_data/train ; batch size = 32\n",
      "Epoch 1/30\n",
      "21/21 [==============================] - ETA: 0s - loss: 3.4691 - categorical_accuracy: 0.3273Source path =  /home/datasets/Project_data/val ; batch size = 32\n",
      "\n",
      "Epoch 00001: saving model to model_init_2021-08-0213_47_38.228662/model-00001-3.46915-0.32730-10.90667-0.23000.h5\n",
      "21/21 [==============================] - 101s 5s/step - loss: 3.4691 - categorical_accuracy: 0.3273 - val_loss: 10.9067 - val_categorical_accuracy: 0.2300\n",
      "Epoch 2/30\n",
      "21/21 [==============================] - ETA: 0s - loss: 1.6283 - categorical_accuracy: 0.5460\n",
      "Epoch 00002: saving model to model_init_2021-08-0213_47_38.228662/model-00002-1.62831-0.54600-8.47148-0.19000.h5\n",
      "21/21 [==============================] - 100s 5s/step - loss: 1.6283 - categorical_accuracy: 0.5460 - val_loss: 8.4715 - val_categorical_accuracy: 0.1900\n",
      "Epoch 3/30\n",
      "21/21 [==============================] - ETA: 0s - loss: 1.1029 - categorical_accuracy: 0.6410\n",
      "Epoch 00003: saving model to model_init_2021-08-0213_47_38.228662/model-00003-1.10288-0.64103-4.46964-0.32000.h5\n",
      "21/21 [==============================] - 109s 5s/step - loss: 1.1029 - categorical_accuracy: 0.6410 - val_loss: 4.4696 - val_categorical_accuracy: 0.3200\n",
      "Epoch 4/30\n",
      "21/21 [==============================] - ETA: 0s - loss: 0.8717 - categorical_accuracy: 0.7255\n",
      "Epoch 00004: saving model to model_init_2021-08-0213_47_38.228662/model-00004-0.87165-0.72549-3.10131-0.42000.h5\n",
      "21/21 [==============================] - 103s 5s/step - loss: 0.8717 - categorical_accuracy: 0.7255 - val_loss: 3.1013 - val_categorical_accuracy: 0.4200\n",
      "Epoch 5/30\n",
      "21/21 [==============================] - ETA: 0s - loss: 0.7468 - categorical_accuracy: 0.7421\n",
      "Epoch 00005: saving model to model_init_2021-08-0213_47_38.228662/model-00005-0.74678-0.74208-1.66100-0.55000.h5\n",
      "21/21 [==============================] - 103s 5s/step - loss: 0.7468 - categorical_accuracy: 0.7421 - val_loss: 1.6610 - val_categorical_accuracy: 0.5500\n",
      "Epoch 6/30\n",
      "21/21 [==============================] - ETA: 0s - loss: 0.6940 - categorical_accuracy: 0.7587\n",
      "Epoch 00006: saving model to model_init_2021-08-0213_47_38.228662/model-00006-0.69397-0.75867-1.06410-0.64000.h5\n",
      "21/21 [==============================] - 99s 5s/step - loss: 0.6940 - categorical_accuracy: 0.7587 - val_loss: 1.0641 - val_categorical_accuracy: 0.6400\n",
      "Epoch 7/30\n",
      "21/21 [==============================] - ETA: 0s - loss: 0.6519 - categorical_accuracy: 0.7828\n",
      "Epoch 00007: saving model to model_init_2021-08-0213_47_38.228662/model-00007-0.65185-0.78281-0.81333-0.72000.h5\n",
      "21/21 [==============================] - 105s 5s/step - loss: 0.6519 - categorical_accuracy: 0.7828 - val_loss: 0.8133 - val_categorical_accuracy: 0.7200\n",
      "Epoch 8/30\n",
      "21/21 [==============================] - ETA: 0s - loss: 0.5655 - categorical_accuracy: 0.8069\n",
      "Epoch 00008: saving model to model_init_2021-08-0213_47_38.228662/model-00008-0.56551-0.80694-0.55149-0.81000.h5\n",
      "21/21 [==============================] - 102s 5s/step - loss: 0.5655 - categorical_accuracy: 0.8069 - val_loss: 0.5515 - val_categorical_accuracy: 0.8100\n",
      "Epoch 9/30\n",
      "21/21 [==============================] - ETA: 0s - loss: 0.5166 - categorical_accuracy: 0.8130\n",
      "Epoch 00009: saving model to model_init_2021-08-0213_47_38.228662/model-00009-0.51661-0.81297-0.49795-0.79000.h5\n",
      "21/21 [==============================] - 99s 5s/step - loss: 0.5166 - categorical_accuracy: 0.8130 - val_loss: 0.4979 - val_categorical_accuracy: 0.7900\n",
      "Epoch 10/30\n",
      "21/21 [==============================] - ETA: 0s - loss: 0.4302 - categorical_accuracy: 0.8462\n",
      "Epoch 00010: saving model to model_init_2021-08-0213_47_38.228662/model-00010-0.43017-0.84615-0.47407-0.82000.h5\n",
      "21/21 [==============================] - 108s 5s/step - loss: 0.4302 - categorical_accuracy: 0.8462 - val_loss: 0.4741 - val_categorical_accuracy: 0.8200\n",
      "Epoch 11/30\n",
      "21/21 [==============================] - ETA: 0s - loss: 0.3767 - categorical_accuracy: 0.8507\n",
      "Epoch 00011: saving model to model_init_2021-08-0213_47_38.228662/model-00011-0.37668-0.85068-0.38760-0.85000.h5\n",
      "21/21 [==============================] - 107s 5s/step - loss: 0.3767 - categorical_accuracy: 0.8507 - val_loss: 0.3876 - val_categorical_accuracy: 0.8500\n",
      "Epoch 12/30\n",
      "21/21 [==============================] - ETA: 0s - loss: 0.3449 - categorical_accuracy: 0.8703\n",
      "Epoch 00012: saving model to model_init_2021-08-0213_47_38.228662/model-00012-0.34491-0.87029-0.44877-0.85000.h5\n",
      "21/21 [==============================] - 92s 4s/step - loss: 0.3449 - categorical_accuracy: 0.8703 - val_loss: 0.4488 - val_categorical_accuracy: 0.8500\n",
      "Epoch 13/30\n",
      "21/21 [==============================] - ETA: 0s - loss: 0.2754 - categorical_accuracy: 0.8989\n",
      "Epoch 00013: saving model to model_init_2021-08-0213_47_38.228662/model-00013-0.27541-0.89894-0.39767-0.85000.h5\n",
      "\n",
      "Epoch 00013: ReduceLROnPlateau reducing learning rate to 0.0005000000237487257.\n",
      "21/21 [==============================] - 95s 5s/step - loss: 0.2754 - categorical_accuracy: 0.8989 - val_loss: 0.3977 - val_categorical_accuracy: 0.8500\n",
      "Epoch 14/30\n",
      "21/21 [==============================] - ETA: 0s - loss: 0.2563 - categorical_accuracy: 0.9020\n",
      "Epoch 00014: saving model to model_init_2021-08-0213_47_38.228662/model-00014-0.25626-0.90196-0.41834-0.86000.h5\n",
      "21/21 [==============================] - 100s 5s/step - loss: 0.2563 - categorical_accuracy: 0.9020 - val_loss: 0.4183 - val_categorical_accuracy: 0.8600\n",
      "Epoch 15/30\n",
      "21/21 [==============================] - ETA: 0s - loss: 0.1938 - categorical_accuracy: 0.9246\n",
      "Epoch 00015: saving model to model_init_2021-08-0213_47_38.228662/model-00015-0.19384-0.92459-0.42536-0.83000.h5\n",
      "\n",
      "Epoch 00015: ReduceLROnPlateau reducing learning rate to 0.0002500000118743628.\n",
      "21/21 [==============================] - 106s 5s/step - loss: 0.1938 - categorical_accuracy: 0.9246 - val_loss: 0.4254 - val_categorical_accuracy: 0.8300\n",
      "Epoch 16/30\n",
      "21/21 [==============================] - ETA: 0s - loss: 0.1886 - categorical_accuracy: 0.9382\n",
      "Epoch 00016: saving model to model_init_2021-08-0213_47_38.228662/model-00016-0.18856-0.93816-0.52187-0.84000.h5\n",
      "21/21 [==============================] - 105s 5s/step - loss: 0.1886 - categorical_accuracy: 0.9382 - val_loss: 0.5219 - val_categorical_accuracy: 0.8400\n",
      "Epoch 17/30\n",
      "21/21 [==============================] - ETA: 0s - loss: 0.2228 - categorical_accuracy: 0.9201\n",
      "Epoch 00017: saving model to model_init_2021-08-0213_47_38.228662/model-00017-0.22280-0.92006-0.42620-0.84000.h5\n",
      "\n",
      "Epoch 00017: ReduceLROnPlateau reducing learning rate to 0.0001250000059371814.\n",
      "21/21 [==============================] - 101s 5s/step - loss: 0.2228 - categorical_accuracy: 0.9201 - val_loss: 0.4262 - val_categorical_accuracy: 0.8400\n",
      "Epoch 18/30\n",
      "21/21 [==============================] - ETA: 0s - loss: 0.1934 - categorical_accuracy: 0.9261\n",
      "Epoch 00018: saving model to model_init_2021-08-0213_47_38.228662/model-00018-0.19338-0.92609-0.41512-0.85000.h5\n",
      "21/21 [==============================] - 112s 5s/step - loss: 0.1934 - categorical_accuracy: 0.9261 - val_loss: 0.4151 - val_categorical_accuracy: 0.8500\n",
      "Epoch 19/30\n",
      "21/21 [==============================] - ETA: 0s - loss: 0.1871 - categorical_accuracy: 0.9201\n",
      "Epoch 00019: saving model to model_init_2021-08-0213_47_38.228662/model-00019-0.18708-0.92006-0.41002-0.86000.h5\n",
      "\n",
      "Epoch 00019: ReduceLROnPlateau reducing learning rate to 6.25000029685907e-05.\n",
      "21/21 [==============================] - 106s 5s/step - loss: 0.1871 - categorical_accuracy: 0.9201 - val_loss: 0.4100 - val_categorical_accuracy: 0.8600\n",
      "Epoch 20/30\n",
      "21/21 [==============================] - ETA: 0s - loss: 0.1816 - categorical_accuracy: 0.9336\n",
      "Epoch 00020: saving model to model_init_2021-08-0213_47_38.228662/model-00020-0.18164-0.93363-0.37887-0.86000.h5\n",
      "21/21 [==============================] - 99s 5s/step - loss: 0.1816 - categorical_accuracy: 0.9336 - val_loss: 0.3789 - val_categorical_accuracy: 0.8600\n",
      "Epoch 21/30\n",
      "21/21 [==============================] - ETA: 0s - loss: 0.1708 - categorical_accuracy: 0.9382\n",
      "Epoch 00021: saving model to model_init_2021-08-0213_47_38.228662/model-00021-0.17080-0.93816-0.39025-0.87000.h5\n",
      "21/21 [==============================] - 102s 5s/step - loss: 0.1708 - categorical_accuracy: 0.9382 - val_loss: 0.3902 - val_categorical_accuracy: 0.8700\n",
      "Epoch 22/30\n",
      "21/21 [==============================] - ETA: 0s - loss: 0.1819 - categorical_accuracy: 0.9261\n",
      "Epoch 00022: saving model to model_init_2021-08-0213_47_38.228662/model-00022-0.18194-0.92609-0.41168-0.85000.h5\n",
      "\n",
      "Epoch 00022: ReduceLROnPlateau reducing learning rate to 3.125000148429535e-05.\n",
      "21/21 [==============================] - 102s 5s/step - loss: 0.1819 - categorical_accuracy: 0.9261 - val_loss: 0.4117 - val_categorical_accuracy: 0.8500\n",
      "Epoch 23/30\n",
      "21/21 [==============================] - ETA: 0s - loss: 0.1636 - categorical_accuracy: 0.9412\n",
      "Epoch 00023: saving model to model_init_2021-08-0213_47_38.228662/model-00023-0.16364-0.94118-0.27710-0.86000.h5\n",
      "21/21 [==============================] - 95s 5s/step - loss: 0.1636 - categorical_accuracy: 0.9412 - val_loss: 0.2771 - val_categorical_accuracy: 0.8600\n",
      "Epoch 24/30\n",
      "21/21 [==============================] - ETA: 0s - loss: 0.1843 - categorical_accuracy: 0.9216\n",
      "Epoch 00024: saving model to model_init_2021-08-0213_47_38.228662/model-00024-0.18431-0.92157-0.41179-0.87000.h5\n",
      "21/21 [==============================] - 90s 4s/step - loss: 0.1843 - categorical_accuracy: 0.9216 - val_loss: 0.4118 - val_categorical_accuracy: 0.8700\n",
      "Epoch 25/30\n",
      "21/21 [==============================] - ETA: 0s - loss: 0.1629 - categorical_accuracy: 0.9442\n",
      "Epoch 00025: saving model to model_init_2021-08-0213_47_38.228662/model-00025-0.16286-0.94419-0.39044-0.87000.h5\n",
      "\n",
      "Epoch 00025: ReduceLROnPlateau reducing learning rate to 1.5625000742147677e-05.\n",
      "21/21 [==============================] - 101s 5s/step - loss: 0.1629 - categorical_accuracy: 0.9442 - val_loss: 0.3904 - val_categorical_accuracy: 0.8700\n",
      "Epoch 26/30\n",
      "21/21 [==============================] - ETA: 0s - loss: 0.1650 - categorical_accuracy: 0.9397\n",
      "Epoch 00026: saving model to model_init_2021-08-0213_47_38.228662/model-00026-0.16502-0.93967-0.40220-0.83000.h5\n",
      "21/21 [==============================] - 102s 5s/step - loss: 0.1650 - categorical_accuracy: 0.9397 - val_loss: 0.4022 - val_categorical_accuracy: 0.8300\n",
      "Epoch 27/30\n",
      "21/21 [==============================] - ETA: 0s - loss: 0.1691 - categorical_accuracy: 0.9336\n",
      "Epoch 00027: saving model to model_init_2021-08-0213_47_38.228662/model-00027-0.16907-0.93363-0.28650-0.90000.h5\n",
      "\n",
      "Epoch 00027: ReduceLROnPlateau reducing learning rate to 1e-05.\n",
      "21/21 [==============================] - 101s 5s/step - loss: 0.1691 - categorical_accuracy: 0.9336 - val_loss: 0.2865 - val_categorical_accuracy: 0.9000\n",
      "Epoch 28/30\n",
      "21/21 [==============================] - ETA: 0s - loss: 0.1610 - categorical_accuracy: 0.9306\n",
      "Epoch 00028: saving model to model_init_2021-08-0213_47_38.228662/model-00028-0.16102-0.93062-0.38842-0.87000.h5\n",
      "21/21 [==============================] - 94s 4s/step - loss: 0.1610 - categorical_accuracy: 0.9306 - val_loss: 0.3884 - val_categorical_accuracy: 0.8700\n",
      "Epoch 29/30\n",
      "21/21 [==============================] - ETA: 0s - loss: 0.1467 - categorical_accuracy: 0.9351\n",
      "Epoch 00029: saving model to model_init_2021-08-0213_47_38.228662/model-00029-0.14672-0.93514-0.38326-0.87000.h5\n",
      "21/21 [==============================] - 94s 4s/step - loss: 0.1467 - categorical_accuracy: 0.9351 - val_loss: 0.3833 - val_categorical_accuracy: 0.8700\n",
      "Epoch 30/30\n",
      "21/21 [==============================] - ETA: 0s - loss: 0.1443 - categorical_accuracy: 0.9487\n",
      "Epoch 00030: saving model to model_init_2021-08-0213_47_38.228662/model-00030-0.14431-0.94872-0.17176-0.93000.h5\n",
      "21/21 [==============================] - 98s 5s/step - loss: 0.1443 - categorical_accuracy: 0.9487 - val_loss: 0.1718 - val_categorical_accuracy: 0.9300\n"
     ]
    },
    {
     "data": {
      "text/plain": [
       "<tensorflow.python.keras.callbacks.History at 0x7f624c114cf8>"
      ]
     },
     "execution_count": 11,
     "metadata": {},
     "output_type": "execute_result"
    }
   ],
   "source": [
    "model.fit(train_generator, steps_per_epoch=steps_per_epoch, epochs=num_epochs, verbose=1, \n",
    "                    callbacks=callbacks_list, validation_data=val_generator, \n",
    "                    validation_steps=validation_steps, class_weight=None, workers=1, initial_epoch=0)"
   ]
  },
  {
   "cell_type": "code",
   "execution_count": null,
   "metadata": {},
   "outputs": [],
   "source": []
  }
 ],
 "metadata": {
  "colab": {
   "name": "Neural+Networks+Project+Conv3D.ipynb",
   "provenance": []
  },
  "kernelspec": {
   "display_name": "Python 3",
   "language": "python",
   "name": "python3"
  },
  "language_info": {
   "codemirror_mode": {
    "name": "ipython",
    "version": 3
   },
   "file_extension": ".py",
   "mimetype": "text/x-python",
   "name": "python",
   "nbconvert_exporter": "python",
   "pygments_lexer": "ipython3",
   "version": "3.6.9"
  }
 },
 "nbformat": 4,
 "nbformat_minor": 4
}
