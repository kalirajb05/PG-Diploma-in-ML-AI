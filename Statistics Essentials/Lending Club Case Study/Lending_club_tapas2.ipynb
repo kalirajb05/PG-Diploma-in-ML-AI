{
 "cells": [
  {
   "cell_type": "code",
   "execution_count": 1,
   "metadata": {},
   "outputs": [],
   "source": [
    "import numpy as np\n",
    "import pandas as pd\n",
    "import matplotlib.pyplot as plt\n",
    "from matplotlib import style\n",
    "import seaborn as sns"
   ]
  },
  {
   "cell_type": "code",
   "execution_count": 2,
   "metadata": {},
   "outputs": [],
   "source": [
    "loan = pd.read_csv('loan.csv', low_memory=False)"
   ]
  },
  {
   "cell_type": "code",
   "execution_count": 3,
   "metadata": {},
   "outputs": [
    {
     "data": {
      "text/plain": [
       "(39717, 111)"
      ]
     },
     "execution_count": 3,
     "metadata": {},
     "output_type": "execute_result"
    }
   ],
   "source": [
    "loan.shape"
   ]
  },
  {
   "cell_type": "code",
   "execution_count": 4,
   "metadata": {},
   "outputs": [
    {
     "data": {
      "text/html": [
       "<div>\n",
       "<style scoped>\n",
       "    .dataframe tbody tr th:only-of-type {\n",
       "        vertical-align: middle;\n",
       "    }\n",
       "\n",
       "    .dataframe tbody tr th {\n",
       "        vertical-align: top;\n",
       "    }\n",
       "\n",
       "    .dataframe thead th {\n",
       "        text-align: right;\n",
       "    }\n",
       "</style>\n",
       "<table border=\"1\" class=\"dataframe\">\n",
       "  <thead>\n",
       "    <tr style=\"text-align: right;\">\n",
       "      <th></th>\n",
       "      <th>id</th>\n",
       "      <th>member_id</th>\n",
       "      <th>loan_amnt</th>\n",
       "      <th>funded_amnt</th>\n",
       "      <th>funded_amnt_inv</th>\n",
       "      <th>installment</th>\n",
       "      <th>annual_inc</th>\n",
       "      <th>dti</th>\n",
       "      <th>delinq_2yrs</th>\n",
       "      <th>inq_last_6mths</th>\n",
       "      <th>...</th>\n",
       "      <th>num_tl_90g_dpd_24m</th>\n",
       "      <th>num_tl_op_past_12m</th>\n",
       "      <th>pct_tl_nvr_dlq</th>\n",
       "      <th>percent_bc_gt_75</th>\n",
       "      <th>pub_rec_bankruptcies</th>\n",
       "      <th>tax_liens</th>\n",
       "      <th>tot_hi_cred_lim</th>\n",
       "      <th>total_bal_ex_mort</th>\n",
       "      <th>total_bc_limit</th>\n",
       "      <th>total_il_high_credit_limit</th>\n",
       "    </tr>\n",
       "  </thead>\n",
       "  <tbody>\n",
       "    <tr>\n",
       "      <th>count</th>\n",
       "      <td>3.971700e+04</td>\n",
       "      <td>3.971700e+04</td>\n",
       "      <td>39717.000000</td>\n",
       "      <td>39717.000000</td>\n",
       "      <td>39717.000000</td>\n",
       "      <td>39717.000000</td>\n",
       "      <td>3.971700e+04</td>\n",
       "      <td>39717.000000</td>\n",
       "      <td>39717.000000</td>\n",
       "      <td>39717.000000</td>\n",
       "      <td>...</td>\n",
       "      <td>0.0</td>\n",
       "      <td>0.0</td>\n",
       "      <td>0.0</td>\n",
       "      <td>0.0</td>\n",
       "      <td>39020.000000</td>\n",
       "      <td>39678.0</td>\n",
       "      <td>0.0</td>\n",
       "      <td>0.0</td>\n",
       "      <td>0.0</td>\n",
       "      <td>0.0</td>\n",
       "    </tr>\n",
       "    <tr>\n",
       "      <th>mean</th>\n",
       "      <td>6.831319e+05</td>\n",
       "      <td>8.504636e+05</td>\n",
       "      <td>11219.443815</td>\n",
       "      <td>10947.713196</td>\n",
       "      <td>10397.448868</td>\n",
       "      <td>324.561922</td>\n",
       "      <td>6.896893e+04</td>\n",
       "      <td>13.315130</td>\n",
       "      <td>0.146512</td>\n",
       "      <td>0.869200</td>\n",
       "      <td>...</td>\n",
       "      <td>NaN</td>\n",
       "      <td>NaN</td>\n",
       "      <td>NaN</td>\n",
       "      <td>NaN</td>\n",
       "      <td>0.043260</td>\n",
       "      <td>0.0</td>\n",
       "      <td>NaN</td>\n",
       "      <td>NaN</td>\n",
       "      <td>NaN</td>\n",
       "      <td>NaN</td>\n",
       "    </tr>\n",
       "    <tr>\n",
       "      <th>std</th>\n",
       "      <td>2.106941e+05</td>\n",
       "      <td>2.656783e+05</td>\n",
       "      <td>7456.670694</td>\n",
       "      <td>7187.238670</td>\n",
       "      <td>7128.450439</td>\n",
       "      <td>208.874874</td>\n",
       "      <td>6.379377e+04</td>\n",
       "      <td>6.678594</td>\n",
       "      <td>0.491812</td>\n",
       "      <td>1.070219</td>\n",
       "      <td>...</td>\n",
       "      <td>NaN</td>\n",
       "      <td>NaN</td>\n",
       "      <td>NaN</td>\n",
       "      <td>NaN</td>\n",
       "      <td>0.204324</td>\n",
       "      <td>0.0</td>\n",
       "      <td>NaN</td>\n",
       "      <td>NaN</td>\n",
       "      <td>NaN</td>\n",
       "      <td>NaN</td>\n",
       "    </tr>\n",
       "    <tr>\n",
       "      <th>min</th>\n",
       "      <td>5.473400e+04</td>\n",
       "      <td>7.069900e+04</td>\n",
       "      <td>500.000000</td>\n",
       "      <td>500.000000</td>\n",
       "      <td>0.000000</td>\n",
       "      <td>15.690000</td>\n",
       "      <td>4.000000e+03</td>\n",
       "      <td>0.000000</td>\n",
       "      <td>0.000000</td>\n",
       "      <td>0.000000</td>\n",
       "      <td>...</td>\n",
       "      <td>NaN</td>\n",
       "      <td>NaN</td>\n",
       "      <td>NaN</td>\n",
       "      <td>NaN</td>\n",
       "      <td>0.000000</td>\n",
       "      <td>0.0</td>\n",
       "      <td>NaN</td>\n",
       "      <td>NaN</td>\n",
       "      <td>NaN</td>\n",
       "      <td>NaN</td>\n",
       "    </tr>\n",
       "    <tr>\n",
       "      <th>25%</th>\n",
       "      <td>5.162210e+05</td>\n",
       "      <td>6.667800e+05</td>\n",
       "      <td>5500.000000</td>\n",
       "      <td>5400.000000</td>\n",
       "      <td>5000.000000</td>\n",
       "      <td>167.020000</td>\n",
       "      <td>4.040400e+04</td>\n",
       "      <td>8.170000</td>\n",
       "      <td>0.000000</td>\n",
       "      <td>0.000000</td>\n",
       "      <td>...</td>\n",
       "      <td>NaN</td>\n",
       "      <td>NaN</td>\n",
       "      <td>NaN</td>\n",
       "      <td>NaN</td>\n",
       "      <td>0.000000</td>\n",
       "      <td>0.0</td>\n",
       "      <td>NaN</td>\n",
       "      <td>NaN</td>\n",
       "      <td>NaN</td>\n",
       "      <td>NaN</td>\n",
       "    </tr>\n",
       "    <tr>\n",
       "      <th>50%</th>\n",
       "      <td>6.656650e+05</td>\n",
       "      <td>8.508120e+05</td>\n",
       "      <td>10000.000000</td>\n",
       "      <td>9600.000000</td>\n",
       "      <td>8975.000000</td>\n",
       "      <td>280.220000</td>\n",
       "      <td>5.900000e+04</td>\n",
       "      <td>13.400000</td>\n",
       "      <td>0.000000</td>\n",
       "      <td>1.000000</td>\n",
       "      <td>...</td>\n",
       "      <td>NaN</td>\n",
       "      <td>NaN</td>\n",
       "      <td>NaN</td>\n",
       "      <td>NaN</td>\n",
       "      <td>0.000000</td>\n",
       "      <td>0.0</td>\n",
       "      <td>NaN</td>\n",
       "      <td>NaN</td>\n",
       "      <td>NaN</td>\n",
       "      <td>NaN</td>\n",
       "    </tr>\n",
       "    <tr>\n",
       "      <th>75%</th>\n",
       "      <td>8.377550e+05</td>\n",
       "      <td>1.047339e+06</td>\n",
       "      <td>15000.000000</td>\n",
       "      <td>15000.000000</td>\n",
       "      <td>14400.000000</td>\n",
       "      <td>430.780000</td>\n",
       "      <td>8.230000e+04</td>\n",
       "      <td>18.600000</td>\n",
       "      <td>0.000000</td>\n",
       "      <td>1.000000</td>\n",
       "      <td>...</td>\n",
       "      <td>NaN</td>\n",
       "      <td>NaN</td>\n",
       "      <td>NaN</td>\n",
       "      <td>NaN</td>\n",
       "      <td>0.000000</td>\n",
       "      <td>0.0</td>\n",
       "      <td>NaN</td>\n",
       "      <td>NaN</td>\n",
       "      <td>NaN</td>\n",
       "      <td>NaN</td>\n",
       "    </tr>\n",
       "    <tr>\n",
       "      <th>max</th>\n",
       "      <td>1.077501e+06</td>\n",
       "      <td>1.314167e+06</td>\n",
       "      <td>35000.000000</td>\n",
       "      <td>35000.000000</td>\n",
       "      <td>35000.000000</td>\n",
       "      <td>1305.190000</td>\n",
       "      <td>6.000000e+06</td>\n",
       "      <td>29.990000</td>\n",
       "      <td>11.000000</td>\n",
       "      <td>8.000000</td>\n",
       "      <td>...</td>\n",
       "      <td>NaN</td>\n",
       "      <td>NaN</td>\n",
       "      <td>NaN</td>\n",
       "      <td>NaN</td>\n",
       "      <td>2.000000</td>\n",
       "      <td>0.0</td>\n",
       "      <td>NaN</td>\n",
       "      <td>NaN</td>\n",
       "      <td>NaN</td>\n",
       "      <td>NaN</td>\n",
       "    </tr>\n",
       "  </tbody>\n",
       "</table>\n",
       "<p>8 rows × 87 columns</p>\n",
       "</div>"
      ],
      "text/plain": [
       "                 id     member_id     loan_amnt   funded_amnt  \\\n",
       "count  3.971700e+04  3.971700e+04  39717.000000  39717.000000   \n",
       "mean   6.831319e+05  8.504636e+05  11219.443815  10947.713196   \n",
       "std    2.106941e+05  2.656783e+05   7456.670694   7187.238670   \n",
       "min    5.473400e+04  7.069900e+04    500.000000    500.000000   \n",
       "25%    5.162210e+05  6.667800e+05   5500.000000   5400.000000   \n",
       "50%    6.656650e+05  8.508120e+05  10000.000000   9600.000000   \n",
       "75%    8.377550e+05  1.047339e+06  15000.000000  15000.000000   \n",
       "max    1.077501e+06  1.314167e+06  35000.000000  35000.000000   \n",
       "\n",
       "       funded_amnt_inv   installment    annual_inc           dti  \\\n",
       "count     39717.000000  39717.000000  3.971700e+04  39717.000000   \n",
       "mean      10397.448868    324.561922  6.896893e+04     13.315130   \n",
       "std        7128.450439    208.874874  6.379377e+04      6.678594   \n",
       "min           0.000000     15.690000  4.000000e+03      0.000000   \n",
       "25%        5000.000000    167.020000  4.040400e+04      8.170000   \n",
       "50%        8975.000000    280.220000  5.900000e+04     13.400000   \n",
       "75%       14400.000000    430.780000  8.230000e+04     18.600000   \n",
       "max       35000.000000   1305.190000  6.000000e+06     29.990000   \n",
       "\n",
       "        delinq_2yrs  inq_last_6mths  ...  num_tl_90g_dpd_24m  \\\n",
       "count  39717.000000    39717.000000  ...                 0.0   \n",
       "mean       0.146512        0.869200  ...                 NaN   \n",
       "std        0.491812        1.070219  ...                 NaN   \n",
       "min        0.000000        0.000000  ...                 NaN   \n",
       "25%        0.000000        0.000000  ...                 NaN   \n",
       "50%        0.000000        1.000000  ...                 NaN   \n",
       "75%        0.000000        1.000000  ...                 NaN   \n",
       "max       11.000000        8.000000  ...                 NaN   \n",
       "\n",
       "       num_tl_op_past_12m  pct_tl_nvr_dlq  percent_bc_gt_75  \\\n",
       "count                 0.0             0.0               0.0   \n",
       "mean                  NaN             NaN               NaN   \n",
       "std                   NaN             NaN               NaN   \n",
       "min                   NaN             NaN               NaN   \n",
       "25%                   NaN             NaN               NaN   \n",
       "50%                   NaN             NaN               NaN   \n",
       "75%                   NaN             NaN               NaN   \n",
       "max                   NaN             NaN               NaN   \n",
       "\n",
       "       pub_rec_bankruptcies  tax_liens  tot_hi_cred_lim  total_bal_ex_mort  \\\n",
       "count          39020.000000    39678.0              0.0                0.0   \n",
       "mean               0.043260        0.0              NaN                NaN   \n",
       "std                0.204324        0.0              NaN                NaN   \n",
       "min                0.000000        0.0              NaN                NaN   \n",
       "25%                0.000000        0.0              NaN                NaN   \n",
       "50%                0.000000        0.0              NaN                NaN   \n",
       "75%                0.000000        0.0              NaN                NaN   \n",
       "max                2.000000        0.0              NaN                NaN   \n",
       "\n",
       "       total_bc_limit  total_il_high_credit_limit  \n",
       "count             0.0                         0.0  \n",
       "mean              NaN                         NaN  \n",
       "std               NaN                         NaN  \n",
       "min               NaN                         NaN  \n",
       "25%               NaN                         NaN  \n",
       "50%               NaN                         NaN  \n",
       "75%               NaN                         NaN  \n",
       "max               NaN                         NaN  \n",
       "\n",
       "[8 rows x 87 columns]"
      ]
     },
     "execution_count": 4,
     "metadata": {},
     "output_type": "execute_result"
    }
   ],
   "source": [
    "loan.describe()"
   ]
  },
  {
   "cell_type": "code",
   "execution_count": 5,
   "metadata": {},
   "outputs": [
    {
     "data": {
      "text/plain": [
       "id                                0\n",
       "member_id                         0\n",
       "loan_amnt                         0\n",
       "funded_amnt                       0\n",
       "funded_amnt_inv                   0\n",
       "                              ...  \n",
       "tax_liens                        39\n",
       "tot_hi_cred_lim               39717\n",
       "total_bal_ex_mort             39717\n",
       "total_bc_limit                39717\n",
       "total_il_high_credit_limit    39717\n",
       "Length: 111, dtype: int64"
      ]
     },
     "execution_count": 5,
     "metadata": {},
     "output_type": "execute_result"
    }
   ],
   "source": [
    "loan.isnull().sum()"
   ]
  },
  {
   "cell_type": "code",
   "execution_count": 6,
   "metadata": {},
   "outputs": [
    {
     "data": {
      "text/plain": [
       "emp_title                       6.19\n",
       "emp_length                      2.71\n",
       "desc                           32.58\n",
       "title                           0.03\n",
       "mths_since_last_delinq         64.66\n",
       "                               ...  \n",
       "tax_liens                       0.10\n",
       "tot_hi_cred_lim               100.00\n",
       "total_bal_ex_mort             100.00\n",
       "total_bc_limit                100.00\n",
       "total_il_high_credit_limit    100.00\n",
       "Length: 68, dtype: float64"
      ]
     },
     "execution_count": 6,
     "metadata": {},
     "output_type": "execute_result"
    }
   ],
   "source": [
    "#check for missing values\n",
    "missing = round(100*(loan.isnull().sum()/len(loan.id)), 2)\n",
    "missing.loc[missing > 0]"
   ]
  },
  {
   "cell_type": "code",
   "execution_count": 7,
   "metadata": {},
   "outputs": [
    {
     "data": {
      "text/plain": [
       "57"
      ]
     },
     "execution_count": 7,
     "metadata": {},
     "output_type": "execute_result"
    }
   ],
   "source": [
    "columns_with_missing_values = list(missing[missing >= 50].index)\n",
    "\n",
    "len(columns_with_missing_values)"
   ]
  },
  {
   "cell_type": "code",
   "execution_count": 8,
   "metadata": {},
   "outputs": [
    {
     "data": {
      "text/plain": [
       "(39717, 54)"
      ]
     },
     "execution_count": 8,
     "metadata": {},
     "output_type": "execute_result"
    }
   ],
   "source": [
    "#drop column with more than 50% missing values\n",
    "loan = loan.drop(columns_with_missing_values,axis=1)\n",
    "loan.shape"
   ]
  },
  {
   "cell_type": "code",
   "execution_count": 9,
   "metadata": {},
   "outputs": [
    {
     "data": {
      "text/plain": [
       "emp_title                      6.19\n",
       "emp_length                     2.71\n",
       "desc                          32.58\n",
       "title                          0.03\n",
       "revol_util                     0.13\n",
       "last_pymnt_d                   0.18\n",
       "last_credit_pull_d             0.01\n",
       "collections_12_mths_ex_med     0.14\n",
       "chargeoff_within_12_mths       0.14\n",
       "pub_rec_bankruptcies           1.75\n",
       "tax_liens                      0.10\n",
       "dtype: float64"
      ]
     },
     "execution_count": 9,
     "metadata": {},
     "output_type": "execute_result"
    }
   ],
   "source": [
    "#check for missing values again\n",
    "missing = round(100*(loan.isnull().sum()/len(loan.id)), 2)\n",
    "missing[missing != 0]"
   ]
  },
  {
   "cell_type": "code",
   "execution_count": 10,
   "metadata": {},
   "outputs": [
    {
     "name": "stdout",
     "output_type": "stream",
     "text": [
      "unique emp_title : 28821\n",
      "unique emp_length : 12\n",
      "unique desc : 26528\n",
      "unique title : 19616\n",
      "unique revol_util : 1090\n",
      "unique title : 19616\n",
      "unique last_pymnt_d : 102\n",
      "unique last_credit_pull_d : 107\n",
      "unique collections_12_mths_ex_med : 2\n",
      "unique chargeoff_within_12_mths : 2\n",
      "unique pub_rec_bankruptcies : 4\n",
      "unique tax_liens : 2\n"
     ]
    }
   ],
   "source": [
    "print(\"unique emp_title : %d\"  % len(loan.emp_title.unique()))\n",
    "print(\"unique emp_length : %d\"  % len(loan.emp_length.unique()))\n",
    "print(\"unique desc : %d\"  % len(loan.desc.unique()))\n",
    "print(\"unique title : %d\"  % len(loan.title.unique()))\n",
    "print(\"unique revol_util : %d\"  % len(loan.revol_util.unique()))\n",
    "print(\"unique title : %d\"  % len(loan.title.unique()))\n",
    "print(\"unique last_pymnt_d : %d\"  % len(loan.last_pymnt_d.unique()))\n",
    "print(\"unique last_credit_pull_d : %d\"  % len(loan.last_credit_pull_d.unique()))\n",
    "print(\"unique collections_12_mths_ex_med : %d\"  % len(loan.collections_12_mths_ex_med.unique()))\n",
    "print(\"unique chargeoff_within_12_mths : %d\"  % len(loan.chargeoff_within_12_mths.unique()))\n",
    "print(\"unique pub_rec_bankruptcies : %d\"  % len(loan.pub_rec_bankruptcies.unique()))\n",
    "print(\"unique tax_liens : %d\"  % len(loan.tax_liens.unique()))"
   ]
  },
  {
   "cell_type": "code",
   "execution_count": 11,
   "metadata": {},
   "outputs": [
    {
     "data": {
      "text/plain": [
       "array(['10+ years', '< 1 year', '1 year', '3 years', '8 years', '9 years',\n",
       "       '4 years', '5 years', '6 years', '2 years', '7 years', nan],\n",
       "      dtype=object)"
      ]
     },
     "execution_count": 11,
     "metadata": {},
     "output_type": "execute_result"
    }
   ],
   "source": [
    "loan.emp_length.unique()"
   ]
  },
  {
   "cell_type": "code",
   "execution_count": 12,
   "metadata": {},
   "outputs": [
    {
     "data": {
      "text/plain": [
       "array([ 0., nan])"
      ]
     },
     "execution_count": 12,
     "metadata": {},
     "output_type": "execute_result"
    }
   ],
   "source": [
    "loan.collections_12_mths_ex_med.unique()"
   ]
  },
  {
   "cell_type": "code",
   "execution_count": 13,
   "metadata": {},
   "outputs": [
    {
     "data": {
      "text/plain": [
       "array([ 0., nan])"
      ]
     },
     "execution_count": 13,
     "metadata": {},
     "output_type": "execute_result"
    }
   ],
   "source": [
    "loan.chargeoff_within_12_mths.unique()"
   ]
  },
  {
   "cell_type": "code",
   "execution_count": 14,
   "metadata": {},
   "outputs": [
    {
     "data": {
      "text/plain": [
       "array([ 0., nan])"
      ]
     },
     "execution_count": 14,
     "metadata": {},
     "output_type": "execute_result"
    }
   ],
   "source": [
    "loan.tax_liens.unique()"
   ]
  },
  {
   "cell_type": "code",
   "execution_count": 15,
   "metadata": {},
   "outputs": [
    {
     "data": {
      "text/plain": [
       "array([ 0.,  1.,  2., nan])"
      ]
     },
     "execution_count": 15,
     "metadata": {},
     "output_type": "execute_result"
    }
   ],
   "source": [
    "loan.pub_rec_bankruptcies.unique()"
   ]
  },
  {
   "cell_type": "code",
   "execution_count": 16,
   "metadata": {},
   "outputs": [],
   "source": [
    "#collections_12_mths_ex_med, chargeoff_within_12_mths and tax_liens have only 0 and nan. So better to exclude this in analysis.\n",
    "drop_columnlist = ['collections_12_mths_ex_med', 'chargeoff_within_12_mths', 'tax_liens', ]\n",
    "loan = loan.drop(drop_columnlist,axis=1)"
   ]
  },
  {
   "cell_type": "code",
   "execution_count": 17,
   "metadata": {},
   "outputs": [
    {
     "data": {
      "text/plain": [
       "(39717, 51)"
      ]
     },
     "execution_count": 17,
     "metadata": {},
     "output_type": "execute_result"
    }
   ],
   "source": [
    "loan.shape"
   ]
  },
  {
   "cell_type": "code",
   "execution_count": 18,
   "metadata": {},
   "outputs": [
    {
     "data": {
      "text/plain": [
       "emp_title                6.19\n",
       "emp_length               2.71\n",
       "desc                    32.58\n",
       "title                    0.03\n",
       "revol_util               0.13\n",
       "last_pymnt_d             0.18\n",
       "last_credit_pull_d       0.01\n",
       "pub_rec_bankruptcies     1.75\n",
       "dtype: float64"
      ]
     },
     "execution_count": 18,
     "metadata": {},
     "output_type": "execute_result"
    }
   ],
   "source": [
    "missing = round(100*(loan.isnull().sum()/len(loan.id)), 2)\n",
    "missing[missing != 0]\n",
    "\n"
   ]
  },
  {
   "cell_type": "code",
   "execution_count": 19,
   "metadata": {},
   "outputs": [],
   "source": [
    "#lets remove desc as it has 32% data missing.\n",
    "loan = loan.drop('desc',axis=1)"
   ]
  },
  {
   "cell_type": "code",
   "execution_count": 20,
   "metadata": {},
   "outputs": [
    {
     "data": {
      "text/plain": [
       "(39717, 50)"
      ]
     },
     "execution_count": 20,
     "metadata": {},
     "output_type": "execute_result"
    }
   ],
   "source": [
    "loan.shape"
   ]
  },
  {
   "cell_type": "code",
   "execution_count": 21,
   "metadata": {},
   "outputs": [
    {
     "data": {
      "text/plain": [
       "array([ 0.,  1.,  2., nan])"
      ]
     },
     "execution_count": 21,
     "metadata": {},
     "output_type": "execute_result"
    }
   ],
   "source": [
    "#lets relook at pub_rec_bankruptcies as it has 1.75% data missing\n",
    "loan.pub_rec_bankruptcies.unique()"
   ]
  },
  {
   "cell_type": "code",
   "execution_count": 22,
   "metadata": {},
   "outputs": [
    {
     "data": {
      "text/plain": [
       "0.0    37339\n",
       "1.0     1674\n",
       "2.0        7\n",
       "Name: pub_rec_bankruptcies, dtype: int64"
      ]
     },
     "execution_count": 22,
     "metadata": {},
     "output_type": "execute_result"
    }
   ],
   "source": [
    "loan.pub_rec_bankruptcies.value_counts()"
   ]
  },
  {
   "cell_type": "code",
   "execution_count": 23,
   "metadata": {},
   "outputs": [
    {
     "data": {
      "text/plain": [
       "array([nan, 'Ryder', 'AIR RESOURCES BOARD', ..., 'FiSite Research',\n",
       "       'Squarewave Solutions, Ltd.', 'Evergreen Center'], dtype=object)"
      ]
     },
     "execution_count": 23,
     "metadata": {},
     "output_type": "execute_result"
    }
   ],
   "source": [
    "loan.emp_title.unique()"
   ]
  },
  {
   "cell_type": "code",
   "execution_count": 24,
   "metadata": {},
   "outputs": [
    {
     "data": {
      "text/plain": [
       "US Army                       134\n",
       "Bank of America               109\n",
       "IBM                            66\n",
       "AT&T                           59\n",
       "Kaiser Permanente              56\n",
       "                             ... \n",
       "Friedmans Home Improvement      1\n",
       "Department of Defense OIG       1\n",
       "Lawrence School District        1\n",
       "morgan ashley studio salon      1\n",
       "quality glass                   1\n",
       "Name: emp_title, Length: 28820, dtype: int64"
      ]
     },
     "execution_count": 24,
     "metadata": {},
     "output_type": "execute_result"
    }
   ],
   "source": [
    "loan.emp_title.value_counts()"
   ]
  },
  {
   "cell_type": "code",
   "execution_count": 25,
   "metadata": {},
   "outputs": [
    {
     "data": {
      "text/plain": [
       "False    37258\n",
       "True      2459\n",
       "Name: emp_title, dtype: int64"
      ]
     },
     "execution_count": 25,
     "metadata": {},
     "output_type": "execute_result"
    }
   ],
   "source": [
    "loan.emp_title.isnull().value_counts()"
   ]
  },
  {
   "cell_type": "code",
   "execution_count": 26,
   "metadata": {},
   "outputs": [
    {
     "data": {
      "text/plain": [
       "10+ years    8879\n",
       "< 1 year     4583\n",
       "2 years      4388\n",
       "3 years      4095\n",
       "4 years      3436\n",
       "5 years      3282\n",
       "1 year       3240\n",
       "6 years      2229\n",
       "7 years      1773\n",
       "8 years      1479\n",
       "9 years      1258\n",
       "Name: emp_length, dtype: int64"
      ]
     },
     "execution_count": 26,
     "metadata": {},
     "output_type": "execute_result"
    }
   ],
   "source": [
    "loan.emp_length.value_counts()"
   ]
  },
  {
   "cell_type": "code",
   "execution_count": 27,
   "metadata": {},
   "outputs": [
    {
     "data": {
      "text/plain": [
       "False    38642\n",
       "True      1075\n",
       "Name: emp_length, dtype: int64"
      ]
     },
     "execution_count": 27,
     "metadata": {},
     "output_type": "execute_result"
    }
   ],
   "source": [
    "loan.emp_length.isnull().value_counts()"
   ]
  },
  {
   "cell_type": "code",
   "execution_count": 28,
   "metadata": {},
   "outputs": [],
   "source": [
    "#2459 are missing emp title and 1075 are missing emp length\n",
    "loan=loan[~loan.emp_title.isnull()]\n",
    "loan=loan[~loan.emp_length.isnull()]"
   ]
  },
  {
   "cell_type": "code",
   "execution_count": 29,
   "metadata": {},
   "outputs": [
    {
     "data": {
      "text/plain": [
       "(37202, 50)"
      ]
     },
     "execution_count": 29,
     "metadata": {},
     "output_type": "execute_result"
    }
   ],
   "source": [
    "loan.shape"
   ]
  },
  {
   "cell_type": "code",
   "execution_count": 30,
   "metadata": {},
   "outputs": [
    {
     "data": {
      "text/plain": [
       "title                   0.02\n",
       "revol_util              0.12\n",
       "last_pymnt_d            0.17\n",
       "pub_rec_bankruptcies    1.76\n",
       "dtype: float64"
      ]
     },
     "execution_count": 30,
     "metadata": {},
     "output_type": "execute_result"
    }
   ],
   "source": [
    "#recheck for missing values\n",
    "missing = round(100*(loan.isnull().sum()/len(loan.id)), 2) \n",
    "missing[missing != 0]"
   ]
  },
  {
   "cell_type": "code",
   "execution_count": 31,
   "metadata": {},
   "outputs": [],
   "source": [
    "#lets remove the rows with pub_rec_bankruptcies as missing\n",
    "loan=loan[~loan.pub_rec_bankruptcies.isnull()]"
   ]
  },
  {
   "cell_type": "code",
   "execution_count": 32,
   "metadata": {},
   "outputs": [
    {
     "data": {
      "text/plain": [
       "title           0.02\n",
       "revol_util      0.13\n",
       "last_pymnt_d    0.18\n",
       "dtype: float64"
      ]
     },
     "execution_count": 32,
     "metadata": {},
     "output_type": "execute_result"
    }
   ],
   "source": [
    "#recheck for missing values\n",
    "missing = round(100*(loan.isnull().sum()/len(loan.id)), 2) \n",
    "missing[missing != 0]"
   ]
  },
  {
   "cell_type": "code",
   "execution_count": 33,
   "metadata": {},
   "outputs": [],
   "source": [
    "#lets cleanup all rows with missing values\n",
    "loan=loan[~loan.title.isnull()]\n",
    "loan=loan[~loan.revol_util.isnull()]\n",
    "loan=loan[~loan.last_pymnt_d.isnull()]"
   ]
  },
  {
   "cell_type": "code",
   "execution_count": 34,
   "metadata": {},
   "outputs": [
    {
     "data": {
      "text/plain": [
       "(36433, 50)"
      ]
     },
     "execution_count": 34,
     "metadata": {},
     "output_type": "execute_result"
    }
   ],
   "source": [
    "loan.shape"
   ]
  },
  {
   "cell_type": "code",
   "execution_count": 35,
   "metadata": {},
   "outputs": [
    {
     "data": {
      "text/html": [
       "<div>\n",
       "<style scoped>\n",
       "    .dataframe tbody tr th:only-of-type {\n",
       "        vertical-align: middle;\n",
       "    }\n",
       "\n",
       "    .dataframe tbody tr th {\n",
       "        vertical-align: top;\n",
       "    }\n",
       "\n",
       "    .dataframe thead th {\n",
       "        text-align: right;\n",
       "    }\n",
       "</style>\n",
       "<table border=\"1\" class=\"dataframe\">\n",
       "  <thead>\n",
       "    <tr style=\"text-align: right;\">\n",
       "      <th></th>\n",
       "      <th>id</th>\n",
       "      <th>member_id</th>\n",
       "      <th>loan_amnt</th>\n",
       "      <th>funded_amnt</th>\n",
       "      <th>funded_amnt_inv</th>\n",
       "      <th>installment</th>\n",
       "      <th>annual_inc</th>\n",
       "      <th>dti</th>\n",
       "      <th>delinq_2yrs</th>\n",
       "      <th>inq_last_6mths</th>\n",
       "      <th>...</th>\n",
       "      <th>total_rec_prncp</th>\n",
       "      <th>total_rec_int</th>\n",
       "      <th>total_rec_late_fee</th>\n",
       "      <th>recoveries</th>\n",
       "      <th>collection_recovery_fee</th>\n",
       "      <th>last_pymnt_amnt</th>\n",
       "      <th>policy_code</th>\n",
       "      <th>acc_now_delinq</th>\n",
       "      <th>delinq_amnt</th>\n",
       "      <th>pub_rec_bankruptcies</th>\n",
       "    </tr>\n",
       "  </thead>\n",
       "  <tbody>\n",
       "    <tr>\n",
       "      <th>count</th>\n",
       "      <td>3.643300e+04</td>\n",
       "      <td>3.643300e+04</td>\n",
       "      <td>36433.000000</td>\n",
       "      <td>36433.000000</td>\n",
       "      <td>36433.000000</td>\n",
       "      <td>36433.000000</td>\n",
       "      <td>3.643300e+04</td>\n",
       "      <td>36433.000000</td>\n",
       "      <td>36433.000000</td>\n",
       "      <td>36433.00000</td>\n",
       "      <td>...</td>\n",
       "      <td>36433.000000</td>\n",
       "      <td>36433.000000</td>\n",
       "      <td>36433.000000</td>\n",
       "      <td>36433.000000</td>\n",
       "      <td>36433.000000</td>\n",
       "      <td>36433.000000</td>\n",
       "      <td>36433.0</td>\n",
       "      <td>36433.0</td>\n",
       "      <td>36433.0</td>\n",
       "      <td>36433.000000</td>\n",
       "    </tr>\n",
       "    <tr>\n",
       "      <th>mean</th>\n",
       "      <td>6.909826e+05</td>\n",
       "      <td>8.610707e+05</td>\n",
       "      <td>11307.679851</td>\n",
       "      <td>11032.834244</td>\n",
       "      <td>10601.325781</td>\n",
       "      <td>326.186394</td>\n",
       "      <td>6.930522e+04</td>\n",
       "      <td>13.444131</td>\n",
       "      <td>0.146131</td>\n",
       "      <td>0.86493</td>\n",
       "      <td>...</td>\n",
       "      <td>9912.408471</td>\n",
       "      <td>2304.404937</td>\n",
       "      <td>1.299840</td>\n",
       "      <td>92.855490</td>\n",
       "      <td>11.677065</td>\n",
       "      <td>2742.955476</td>\n",
       "      <td>1.0</td>\n",
       "      <td>0.0</td>\n",
       "      <td>0.0</td>\n",
       "      <td>0.041418</td>\n",
       "    </tr>\n",
       "    <tr>\n",
       "      <th>std</th>\n",
       "      <td>2.026435e+05</td>\n",
       "      <td>2.538822e+05</td>\n",
       "      <td>7433.859357</td>\n",
       "      <td>7166.484281</td>\n",
       "      <td>7072.842604</td>\n",
       "      <td>207.389943</td>\n",
       "      <td>6.354244e+04</td>\n",
       "      <td>6.643308</td>\n",
       "      <td>0.492199</td>\n",
       "      <td>1.06343</td>\n",
       "      <td>...</td>\n",
       "      <td>7053.212865</td>\n",
       "      <td>2629.542911</td>\n",
       "      <td>7.065629</td>\n",
       "      <td>682.047187</td>\n",
       "      <td>140.880327</td>\n",
       "      <td>4473.528922</td>\n",
       "      <td>0.0</td>\n",
       "      <td>0.0</td>\n",
       "      <td>0.0</td>\n",
       "      <td>0.200221</td>\n",
       "    </tr>\n",
       "    <tr>\n",
       "      <th>min</th>\n",
       "      <td>5.574200e+04</td>\n",
       "      <td>1.124930e+05</td>\n",
       "      <td>500.000000</td>\n",
       "      <td>500.000000</td>\n",
       "      <td>0.000000</td>\n",
       "      <td>16.080000</td>\n",
       "      <td>4.000000e+03</td>\n",
       "      <td>0.000000</td>\n",
       "      <td>0.000000</td>\n",
       "      <td>0.00000</td>\n",
       "      <td>...</td>\n",
       "      <td>0.000000</td>\n",
       "      <td>6.220000</td>\n",
       "      <td>0.000000</td>\n",
       "      <td>0.000000</td>\n",
       "      <td>0.000000</td>\n",
       "      <td>0.010000</td>\n",
       "      <td>1.0</td>\n",
       "      <td>0.0</td>\n",
       "      <td>0.0</td>\n",
       "      <td>0.000000</td>\n",
       "    </tr>\n",
       "    <tr>\n",
       "      <th>25%</th>\n",
       "      <td>5.226860e+05</td>\n",
       "      <td>6.755300e+05</td>\n",
       "      <td>5600.000000</td>\n",
       "      <td>5500.000000</td>\n",
       "      <td>5000.000000</td>\n",
       "      <td>168.900000</td>\n",
       "      <td>4.200000e+04</td>\n",
       "      <td>8.360000</td>\n",
       "      <td>0.000000</td>\n",
       "      <td>0.00000</td>\n",
       "      <td>...</td>\n",
       "      <td>4800.000000</td>\n",
       "      <td>678.010000</td>\n",
       "      <td>0.000000</td>\n",
       "      <td>0.000000</td>\n",
       "      <td>0.000000</td>\n",
       "      <td>226.280000</td>\n",
       "      <td>1.0</td>\n",
       "      <td>0.0</td>\n",
       "      <td>0.0</td>\n",
       "      <td>0.000000</td>\n",
       "    </tr>\n",
       "    <tr>\n",
       "      <th>50%</th>\n",
       "      <td>6.705630e+05</td>\n",
       "      <td>8.569510e+05</td>\n",
       "      <td>10000.000000</td>\n",
       "      <td>10000.000000</td>\n",
       "      <td>9202.846434</td>\n",
       "      <td>283.280000</td>\n",
       "      <td>6.000000e+04</td>\n",
       "      <td>13.540000</td>\n",
       "      <td>0.000000</td>\n",
       "      <td>1.00000</td>\n",
       "      <td>...</td>\n",
       "      <td>8123.600000</td>\n",
       "      <td>1379.820000</td>\n",
       "      <td>0.000000</td>\n",
       "      <td>0.000000</td>\n",
       "      <td>0.000000</td>\n",
       "      <td>571.700000</td>\n",
       "      <td>1.0</td>\n",
       "      <td>0.0</td>\n",
       "      <td>0.0</td>\n",
       "      <td>0.000000</td>\n",
       "    </tr>\n",
       "    <tr>\n",
       "      <th>75%</th>\n",
       "      <td>8.399030e+05</td>\n",
       "      <td>1.049791e+06</td>\n",
       "      <td>15000.000000</td>\n",
       "      <td>15000.000000</td>\n",
       "      <td>14508.454150</td>\n",
       "      <td>432.220000</td>\n",
       "      <td>8.300000e+04</td>\n",
       "      <td>18.690000</td>\n",
       "      <td>0.000000</td>\n",
       "      <td>1.00000</td>\n",
       "      <td>...</td>\n",
       "      <td>14000.000000</td>\n",
       "      <td>2891.860000</td>\n",
       "      <td>0.000000</td>\n",
       "      <td>0.000000</td>\n",
       "      <td>0.000000</td>\n",
       "      <td>3457.580000</td>\n",
       "      <td>1.0</td>\n",
       "      <td>0.0</td>\n",
       "      <td>0.0</td>\n",
       "      <td>0.000000</td>\n",
       "    </tr>\n",
       "    <tr>\n",
       "      <th>max</th>\n",
       "      <td>1.077430e+06</td>\n",
       "      <td>1.314167e+06</td>\n",
       "      <td>35000.000000</td>\n",
       "      <td>35000.000000</td>\n",
       "      <td>35000.000000</td>\n",
       "      <td>1305.190000</td>\n",
       "      <td>6.000000e+06</td>\n",
       "      <td>29.990000</td>\n",
       "      <td>11.000000</td>\n",
       "      <td>8.00000</td>\n",
       "      <td>...</td>\n",
       "      <td>35000.020000</td>\n",
       "      <td>23563.680000</td>\n",
       "      <td>180.200000</td>\n",
       "      <td>29623.350000</td>\n",
       "      <td>7002.190000</td>\n",
       "      <td>36115.200000</td>\n",
       "      <td>1.0</td>\n",
       "      <td>0.0</td>\n",
       "      <td>0.0</td>\n",
       "      <td>2.000000</td>\n",
       "    </tr>\n",
       "  </tbody>\n",
       "</table>\n",
       "<p>8 rows × 28 columns</p>\n",
       "</div>"
      ],
      "text/plain": [
       "                 id     member_id     loan_amnt   funded_amnt  \\\n",
       "count  3.643300e+04  3.643300e+04  36433.000000  36433.000000   \n",
       "mean   6.909826e+05  8.610707e+05  11307.679851  11032.834244   \n",
       "std    2.026435e+05  2.538822e+05   7433.859357   7166.484281   \n",
       "min    5.574200e+04  1.124930e+05    500.000000    500.000000   \n",
       "25%    5.226860e+05  6.755300e+05   5600.000000   5500.000000   \n",
       "50%    6.705630e+05  8.569510e+05  10000.000000  10000.000000   \n",
       "75%    8.399030e+05  1.049791e+06  15000.000000  15000.000000   \n",
       "max    1.077430e+06  1.314167e+06  35000.000000  35000.000000   \n",
       "\n",
       "       funded_amnt_inv   installment    annual_inc           dti  \\\n",
       "count     36433.000000  36433.000000  3.643300e+04  36433.000000   \n",
       "mean      10601.325781    326.186394  6.930522e+04     13.444131   \n",
       "std        7072.842604    207.389943  6.354244e+04      6.643308   \n",
       "min           0.000000     16.080000  4.000000e+03      0.000000   \n",
       "25%        5000.000000    168.900000  4.200000e+04      8.360000   \n",
       "50%        9202.846434    283.280000  6.000000e+04     13.540000   \n",
       "75%       14508.454150    432.220000  8.300000e+04     18.690000   \n",
       "max       35000.000000   1305.190000  6.000000e+06     29.990000   \n",
       "\n",
       "        delinq_2yrs  inq_last_6mths  ...  total_rec_prncp  total_rec_int  \\\n",
       "count  36433.000000     36433.00000  ...     36433.000000   36433.000000   \n",
       "mean       0.146131         0.86493  ...      9912.408471    2304.404937   \n",
       "std        0.492199         1.06343  ...      7053.212865    2629.542911   \n",
       "min        0.000000         0.00000  ...         0.000000       6.220000   \n",
       "25%        0.000000         0.00000  ...      4800.000000     678.010000   \n",
       "50%        0.000000         1.00000  ...      8123.600000    1379.820000   \n",
       "75%        0.000000         1.00000  ...     14000.000000    2891.860000   \n",
       "max       11.000000         8.00000  ...     35000.020000   23563.680000   \n",
       "\n",
       "       total_rec_late_fee    recoveries  collection_recovery_fee  \\\n",
       "count        36433.000000  36433.000000             36433.000000   \n",
       "mean             1.299840     92.855490                11.677065   \n",
       "std              7.065629    682.047187               140.880327   \n",
       "min              0.000000      0.000000                 0.000000   \n",
       "25%              0.000000      0.000000                 0.000000   \n",
       "50%              0.000000      0.000000                 0.000000   \n",
       "75%              0.000000      0.000000                 0.000000   \n",
       "max            180.200000  29623.350000              7002.190000   \n",
       "\n",
       "       last_pymnt_amnt  policy_code  acc_now_delinq  delinq_amnt  \\\n",
       "count     36433.000000      36433.0         36433.0      36433.0   \n",
       "mean       2742.955476          1.0             0.0          0.0   \n",
       "std        4473.528922          0.0             0.0          0.0   \n",
       "min           0.010000          1.0             0.0          0.0   \n",
       "25%         226.280000          1.0             0.0          0.0   \n",
       "50%         571.700000          1.0             0.0          0.0   \n",
       "75%        3457.580000          1.0             0.0          0.0   \n",
       "max       36115.200000          1.0             0.0          0.0   \n",
       "\n",
       "       pub_rec_bankruptcies  \n",
       "count          36433.000000  \n",
       "mean               0.041418  \n",
       "std                0.200221  \n",
       "min                0.000000  \n",
       "25%                0.000000  \n",
       "50%                0.000000  \n",
       "75%                0.000000  \n",
       "max                2.000000  \n",
       "\n",
       "[8 rows x 28 columns]"
      ]
     },
     "execution_count": 35,
     "metadata": {},
     "output_type": "execute_result"
    }
   ],
   "source": [
    "loan.describe()"
   ]
  },
  {
   "cell_type": "code",
   "execution_count": 36,
   "metadata": {},
   "outputs": [
    {
     "data": {
      "text/plain": [
       "Series([], dtype: float64)"
      ]
     },
     "execution_count": 36,
     "metadata": {},
     "output_type": "execute_result"
    }
   ],
   "source": [
    "#recheck missing values now\n",
    "missing =round(100*(loan.isnull().sum()/len(loan.id)), 2) \n",
    "missing[missing != 0]"
   ]
  },
  {
   "cell_type": "code",
   "execution_count": 37,
   "metadata": {},
   "outputs": [],
   "source": [
    "#no missing values"
   ]
  },
  {
   "cell_type": "code",
   "execution_count": 38,
   "metadata": {},
   "outputs": [],
   "source": [
    "#keep a backup of cleaned up data\n",
    "loan.to_csv('loan_clean.csv', encoding='utf-8', index=False)"
   ]
  },
  {
   "cell_type": "code",
   "execution_count": 39,
   "metadata": {},
   "outputs": [],
   "source": [
    "clean_loan = loan[:]"
   ]
  },
  {
   "cell_type": "code",
   "execution_count": 40,
   "metadata": {},
   "outputs": [
    {
     "data": {
      "text/plain": [
       "(36433, 50)"
      ]
     },
     "execution_count": 40,
     "metadata": {},
     "output_type": "execute_result"
    }
   ],
   "source": [
    "loan.shape"
   ]
  },
  {
   "cell_type": "code",
   "execution_count": 41,
   "metadata": {},
   "outputs": [
    {
     "data": {
      "text/plain": [
       "(36433, 50)"
      ]
     },
     "execution_count": 41,
     "metadata": {},
     "output_type": "execute_result"
    }
   ],
   "source": [
    "clean_loan.shape"
   ]
  },
  {
   "cell_type": "code",
   "execution_count": 42,
   "metadata": {},
   "outputs": [
    {
     "data": {
      "text/plain": [
       "acc_now_delinq                 1\n",
       "application_type               1\n",
       "policy_code                    1\n",
       "initial_list_status            1\n",
       "delinq_amnt                    1\n",
       "pymnt_plan                     1\n",
       "term                           2\n",
       "pub_rec_bankruptcies           3\n",
       "loan_status                    3\n",
       "verification_status            3\n",
       "home_ownership                 4\n",
       "pub_rec                        5\n",
       "grade                          7\n",
       "inq_last_6mths                 9\n",
       "delinq_2yrs                   11\n",
       "emp_length                    11\n",
       "purpose                       14\n",
       "sub_grade                     35\n",
       "open_acc                      38\n",
       "addr_state                    49\n",
       "issue_d                       52\n",
       "total_acc                     79\n",
       "last_credit_pull_d            96\n",
       "last_pymnt_d                  97\n",
       "int_rate                     334\n",
       "earliest_cr_line             510\n",
       "zip_code                     806\n",
       "loan_amnt                    863\n",
       "funded_amnt                 1024\n",
       "out_prncp                   1064\n",
       "out_prncp_inv               1065\n",
       "revol_util                  1082\n",
       "total_rec_late_fee          1194\n",
       "collection_recovery_fee     2386\n",
       "dti                         2857\n",
       "recoveries                  3585\n",
       "annual_inc                  4924\n",
       "total_rec_prncp             7254\n",
       "funded_amnt_inv             7474\n",
       "installment                14367\n",
       "title                      17954\n",
       "revol_bal                  20790\n",
       "emp_title                  28207\n",
       "last_pymnt_amnt            32467\n",
       "total_rec_int              32523\n",
       "total_pymnt_inv            34524\n",
       "total_pymnt                34802\n",
       "url                        36433\n",
       "member_id                  36433\n",
       "id                         36433\n",
       "dtype: int64"
      ]
     },
     "execution_count": 42,
     "metadata": {},
     "output_type": "execute_result"
    }
   ],
   "source": [
    "loan.nunique().sort_values()"
   ]
  },
  {
   "cell_type": "code",
   "execution_count": 43,
   "metadata": {},
   "outputs": [
    {
     "data": {
      "text/plain": [
       "1        0\n",
       "3        0\n",
       "4        0\n",
       "5        0\n",
       "6        0\n",
       "        ..\n",
       "39551    0\n",
       "39562    0\n",
       "39623    0\n",
       "39666    0\n",
       "39680    0\n",
       "Name: acc_now_delinq, Length: 36433, dtype: int64"
      ]
     },
     "execution_count": 43,
     "metadata": {},
     "output_type": "execute_result"
    }
   ],
   "source": [
    "loan.acc_now_delinq"
   ]
  },
  {
   "cell_type": "code",
   "execution_count": 44,
   "metadata": {},
   "outputs": [
    {
     "data": {
      "text/plain": [
       "1        INDIVIDUAL\n",
       "3        INDIVIDUAL\n",
       "4        INDIVIDUAL\n",
       "5        INDIVIDUAL\n",
       "6        INDIVIDUAL\n",
       "            ...    \n",
       "39551    INDIVIDUAL\n",
       "39562    INDIVIDUAL\n",
       "39623    INDIVIDUAL\n",
       "39666    INDIVIDUAL\n",
       "39680    INDIVIDUAL\n",
       "Name: application_type, Length: 36433, dtype: object"
      ]
     },
     "execution_count": 44,
     "metadata": {},
     "output_type": "execute_result"
    }
   ],
   "source": [
    "loan.application_type"
   ]
  },
  {
   "cell_type": "code",
   "execution_count": 45,
   "metadata": {},
   "outputs": [
    {
     "data": {
      "text/plain": [
       "1        1\n",
       "3        1\n",
       "4        1\n",
       "5        1\n",
       "6        1\n",
       "        ..\n",
       "39551    1\n",
       "39562    1\n",
       "39623    1\n",
       "39666    1\n",
       "39680    1\n",
       "Name: policy_code, Length: 36433, dtype: int64"
      ]
     },
     "execution_count": 45,
     "metadata": {},
     "output_type": "execute_result"
    }
   ],
   "source": [
    "loan.policy_code"
   ]
  },
  {
   "cell_type": "code",
   "execution_count": 46,
   "metadata": {},
   "outputs": [
    {
     "data": {
      "text/plain": [
       "1        f\n",
       "3        f\n",
       "4        f\n",
       "5        f\n",
       "6        f\n",
       "        ..\n",
       "39551    f\n",
       "39562    f\n",
       "39623    f\n",
       "39666    f\n",
       "39680    f\n",
       "Name: initial_list_status, Length: 36433, dtype: object"
      ]
     },
     "execution_count": 46,
     "metadata": {},
     "output_type": "execute_result"
    }
   ],
   "source": [
    "loan.initial_list_status"
   ]
  },
  {
   "cell_type": "code",
   "execution_count": 47,
   "metadata": {},
   "outputs": [
    {
     "data": {
      "text/plain": [
       "1        0\n",
       "3        0\n",
       "4        0\n",
       "5        0\n",
       "6        0\n",
       "        ..\n",
       "39551    0\n",
       "39562    0\n",
       "39623    0\n",
       "39666    0\n",
       "39680    0\n",
       "Name: delinq_amnt, Length: 36433, dtype: int64"
      ]
     },
     "execution_count": 47,
     "metadata": {},
     "output_type": "execute_result"
    }
   ],
   "source": [
    "loan.delinq_amnt"
   ]
  },
  {
   "cell_type": "code",
   "execution_count": 48,
   "metadata": {},
   "outputs": [
    {
     "data": {
      "text/plain": [
       "1        n\n",
       "3        n\n",
       "4        n\n",
       "5        n\n",
       "6        n\n",
       "        ..\n",
       "39551    n\n",
       "39562    n\n",
       "39623    n\n",
       "39666    n\n",
       "39680    n\n",
       "Name: pymnt_plan, Length: 36433, dtype: object"
      ]
     },
     "execution_count": 48,
     "metadata": {},
     "output_type": "execute_result"
    }
   ],
   "source": [
    "loan.pymnt_plan"
   ]
  },
  {
   "cell_type": "code",
   "execution_count": 49,
   "metadata": {},
   "outputs": [],
   "source": [
    "#drop all the above columns we checked as it has same vlaue for all rows and wont help analysis.\n",
    "columns_tobe_dropped = ['pymnt_plan', 'delinq_amnt', 'initial_list_status', 'policy_code', 'application_type', 'acc_now_delinq']\n",
    "loan= loan.drop(columns_tobe_dropped,axis=1)"
   ]
  },
  {
   "cell_type": "code",
   "execution_count": 50,
   "metadata": {},
   "outputs": [
    {
     "data": {
      "text/plain": [
       "(36433, 44)"
      ]
     },
     "execution_count": 50,
     "metadata": {},
     "output_type": "execute_result"
    }
   ],
   "source": [
    "loan.shape\n"
   ]
  },
  {
   "cell_type": "code",
   "execution_count": 51,
   "metadata": {},
   "outputs": [
    {
     "data": {
      "text/plain": [
       "1        1077430\n",
       "3        1076863\n",
       "4        1075358\n",
       "5        1075269\n",
       "6        1069639\n",
       "          ...   \n",
       "39551     158706\n",
       "39562     154154\n",
       "39623     132892\n",
       "39666     119043\n",
       "39680     112496\n",
       "Name: id, Length: 36433, dtype: int64"
      ]
     },
     "execution_count": 51,
     "metadata": {},
     "output_type": "execute_result"
    }
   ],
   "source": [
    "loan.id"
   ]
  },
  {
   "cell_type": "code",
   "execution_count": 52,
   "metadata": {},
   "outputs": [
    {
     "data": {
      "text/plain": [
       "1        1314167\n",
       "3        1277178\n",
       "4        1311748\n",
       "5        1311441\n",
       "6        1304742\n",
       "          ...   \n",
       "39551     158450\n",
       "39562     151536\n",
       "39623     132889\n",
       "39666     119040\n",
       "39680     112493\n",
       "Name: member_id, Length: 36433, dtype: int64"
      ]
     },
     "execution_count": 52,
     "metadata": {},
     "output_type": "execute_result"
    }
   ],
   "source": [
    "loan.member_id"
   ]
  },
  {
   "cell_type": "code",
   "execution_count": 53,
   "metadata": {},
   "outputs": [],
   "source": [
    "#drop id and member id as its a unique num for each customer, nothing to do with default.\n",
    "columns_tobe_dropped = ['id', 'member_id']\n",
    "loan= loan.drop(columns_tobe_dropped,axis=1)"
   ]
  },
  {
   "cell_type": "code",
   "execution_count": 54,
   "metadata": {},
   "outputs": [
    {
     "data": {
      "text/plain": [
       "(36433, 42)"
      ]
     },
     "execution_count": 54,
     "metadata": {},
     "output_type": "execute_result"
    }
   ],
   "source": [
    "loan.shape"
   ]
  },
  {
   "cell_type": "code",
   "execution_count": 55,
   "metadata": {},
   "outputs": [
    {
     "data": {
      "text/plain": [
       "term                           2\n",
       "pub_rec_bankruptcies           3\n",
       "loan_status                    3\n",
       "verification_status            3\n",
       "home_ownership                 4\n",
       "pub_rec                        5\n",
       "grade                          7\n",
       "inq_last_6mths                 9\n",
       "emp_length                    11\n",
       "delinq_2yrs                   11\n",
       "purpose                       14\n",
       "sub_grade                     35\n",
       "open_acc                      38\n",
       "addr_state                    49\n",
       "issue_d                       52\n",
       "total_acc                     79\n",
       "last_credit_pull_d            96\n",
       "last_pymnt_d                  97\n",
       "int_rate                     334\n",
       "earliest_cr_line             510\n",
       "zip_code                     806\n",
       "loan_amnt                    863\n",
       "funded_amnt                 1024\n",
       "out_prncp                   1064\n",
       "out_prncp_inv               1065\n",
       "revol_util                  1082\n",
       "total_rec_late_fee          1194\n",
       "collection_recovery_fee     2386\n",
       "dti                         2857\n",
       "recoveries                  3585\n",
       "annual_inc                  4924\n",
       "total_rec_prncp             7254\n",
       "funded_amnt_inv             7474\n",
       "installment                14367\n",
       "title                      17954\n",
       "revol_bal                  20790\n",
       "emp_title                  28207\n",
       "last_pymnt_amnt            32467\n",
       "total_rec_int              32523\n",
       "total_pymnt_inv            34524\n",
       "total_pymnt                34802\n",
       "url                        36433\n",
       "dtype: int64"
      ]
     },
     "execution_count": 55,
     "metadata": {},
     "output_type": "execute_result"
    }
   ],
   "source": [
    "loan.nunique().sort_values()"
   ]
  },
  {
   "cell_type": "code",
   "execution_count": 56,
   "metadata": {},
   "outputs": [
    {
     "data": {
      "text/plain": [
       "1        https://lendingclub.com/browse/loanDetail.acti...\n",
       "3        https://lendingclub.com/browse/loanDetail.acti...\n",
       "4        https://lendingclub.com/browse/loanDetail.acti...\n",
       "5        https://lendingclub.com/browse/loanDetail.acti...\n",
       "6        https://lendingclub.com/browse/loanDetail.acti...\n",
       "                               ...                        \n",
       "39551    https://lendingclub.com/browse/loanDetail.acti...\n",
       "39562    https://lendingclub.com/browse/loanDetail.acti...\n",
       "39623    https://lendingclub.com/browse/loanDetail.acti...\n",
       "39666    https://lendingclub.com/browse/loanDetail.acti...\n",
       "39680    https://lendingclub.com/browse/loanDetail.acti...\n",
       "Name: url, Length: 36433, dtype: object"
      ]
     },
     "execution_count": 56,
     "metadata": {},
     "output_type": "execute_result"
    }
   ],
   "source": [
    "loan.url"
   ]
  },
  {
   "cell_type": "code",
   "execution_count": 57,
   "metadata": {},
   "outputs": [
    {
     "data": {
      "text/plain": [
       "1        309xx\n",
       "3        917xx\n",
       "4        972xx\n",
       "5        852xx\n",
       "6        280xx\n",
       "         ...  \n",
       "39551    201xx\n",
       "39562    226xx\n",
       "39623    207xx\n",
       "39666    201xx\n",
       "39680    479xx\n",
       "Name: zip_code, Length: 36433, dtype: object"
      ]
     },
     "execution_count": 57,
     "metadata": {},
     "output_type": "execute_result"
    }
   ],
   "source": [
    "loan.zip_code"
   ]
  },
  {
   "cell_type": "code",
   "execution_count": 58,
   "metadata": {},
   "outputs": [],
   "source": [
    "#lets remove url and zip code as well\n",
    "columns_tobe_dropped = ['url', 'zip_code']\n",
    "loan= loan.drop(columns_tobe_dropped,axis=1)"
   ]
  },
  {
   "cell_type": "code",
   "execution_count": 59,
   "metadata": {},
   "outputs": [
    {
     "data": {
      "text/plain": [
       "(36433, 40)"
      ]
     },
     "execution_count": 59,
     "metadata": {},
     "output_type": "execute_result"
    }
   ],
   "source": [
    "loan.shape"
   ]
  },
  {
   "cell_type": "code",
   "execution_count": null,
   "metadata": {},
   "outputs": [],
   "source": []
  },
  {
   "cell_type": "code",
   "execution_count": 60,
   "metadata": {},
   "outputs": [
    {
     "data": {
      "text/plain": [
       "term                           2\n",
       "pub_rec_bankruptcies           3\n",
       "loan_status                    3\n",
       "verification_status            3\n",
       "home_ownership                 4\n",
       "pub_rec                        5\n",
       "grade                          7\n",
       "inq_last_6mths                 9\n",
       "emp_length                    11\n",
       "delinq_2yrs                   11\n",
       "purpose                       14\n",
       "sub_grade                     35\n",
       "open_acc                      38\n",
       "addr_state                    49\n",
       "issue_d                       52\n",
       "total_acc                     79\n",
       "last_credit_pull_d            96\n",
       "last_pymnt_d                  97\n",
       "int_rate                     334\n",
       "earliest_cr_line             510\n",
       "loan_amnt                    863\n",
       "funded_amnt                 1024\n",
       "out_prncp                   1064\n",
       "out_prncp_inv               1065\n",
       "revol_util                  1082\n",
       "total_rec_late_fee          1194\n",
       "collection_recovery_fee     2386\n",
       "dti                         2857\n",
       "recoveries                  3585\n",
       "annual_inc                  4924\n",
       "total_rec_prncp             7254\n",
       "funded_amnt_inv             7474\n",
       "installment                14367\n",
       "title                      17954\n",
       "revol_bal                  20790\n",
       "emp_title                  28207\n",
       "last_pymnt_amnt            32467\n",
       "total_rec_int              32523\n",
       "total_pymnt_inv            34524\n",
       "total_pymnt                34802\n",
       "dtype: int64"
      ]
     },
     "execution_count": 60,
     "metadata": {},
     "output_type": "execute_result"
    }
   ],
   "source": [
    "#lets see if we can cleanup something more\n",
    "loan.nunique().sort_values()"
   ]
  },
  {
   "cell_type": "code",
   "execution_count": 61,
   "metadata": {},
   "outputs": [
    {
     "data": {
      "text/plain": [
       "1        Apr-99\n",
       "3        Feb-96\n",
       "4        Jan-96\n",
       "5        Nov-04\n",
       "6        Jul-05\n",
       "          ...  \n",
       "39551    Dec-00\n",
       "39562    Mar-00\n",
       "39623    Aug-97\n",
       "39666    Nov-92\n",
       "39680    Jul-00\n",
       "Name: earliest_cr_line, Length: 36433, dtype: object"
      ]
     },
     "execution_count": 61,
     "metadata": {},
     "output_type": "execute_result"
    }
   ],
   "source": [
    "loan.earliest_cr_line"
   ]
  },
  {
   "cell_type": "code",
   "execution_count": 62,
   "metadata": {},
   "outputs": [
    {
     "data": {
      "text/plain": [
       "1         1.00\n",
       "3        20.00\n",
       "4        17.94\n",
       "5        11.20\n",
       "6        23.51\n",
       "         ...  \n",
       "39551     9.23\n",
       "39562     7.51\n",
       "39623     5.08\n",
       "39666    13.50\n",
       "39680     7.47\n",
       "Name: dti, Length: 36433, dtype: float64"
      ]
     },
     "execution_count": 62,
     "metadata": {},
     "output_type": "execute_result"
    }
   ],
   "source": [
    "loan.dti"
   ]
  },
  {
   "cell_type": "code",
   "execution_count": 63,
   "metadata": {},
   "outputs": [
    {
     "data": {
      "text/plain": [
       "1         2500\n",
       "3        10000\n",
       "4         3000\n",
       "5         5000\n",
       "6         7000\n",
       "         ...  \n",
       "39551    12375\n",
       "39562     4800\n",
       "39623     9000\n",
       "39666    15450\n",
       "39680     3000\n",
       "Name: funded_amnt, Length: 36433, dtype: int64"
      ]
     },
     "execution_count": 63,
     "metadata": {},
     "output_type": "execute_result"
    }
   ],
   "source": [
    "loan.funded_amnt"
   ]
  },
  {
   "cell_type": "code",
   "execution_count": 64,
   "metadata": {},
   "outputs": [
    {
     "data": {
      "text/html": [
       "<div>\n",
       "<style scoped>\n",
       "    .dataframe tbody tr th:only-of-type {\n",
       "        vertical-align: middle;\n",
       "    }\n",
       "\n",
       "    .dataframe tbody tr th {\n",
       "        vertical-align: top;\n",
       "    }\n",
       "\n",
       "    .dataframe thead th {\n",
       "        text-align: right;\n",
       "    }\n",
       "</style>\n",
       "<table border=\"1\" class=\"dataframe\">\n",
       "  <thead>\n",
       "    <tr style=\"text-align: right;\">\n",
       "      <th></th>\n",
       "      <th>loan_amnt</th>\n",
       "      <th>funded_amnt</th>\n",
       "      <th>funded_amnt_inv</th>\n",
       "      <th>term</th>\n",
       "      <th>int_rate</th>\n",
       "      <th>installment</th>\n",
       "      <th>grade</th>\n",
       "      <th>sub_grade</th>\n",
       "      <th>emp_title</th>\n",
       "      <th>emp_length</th>\n",
       "      <th>...</th>\n",
       "      <th>total_pymnt_inv</th>\n",
       "      <th>total_rec_prncp</th>\n",
       "      <th>total_rec_int</th>\n",
       "      <th>total_rec_late_fee</th>\n",
       "      <th>recoveries</th>\n",
       "      <th>collection_recovery_fee</th>\n",
       "      <th>last_pymnt_d</th>\n",
       "      <th>last_pymnt_amnt</th>\n",
       "      <th>last_credit_pull_d</th>\n",
       "      <th>pub_rec_bankruptcies</th>\n",
       "    </tr>\n",
       "  </thead>\n",
       "  <tbody>\n",
       "    <tr>\n",
       "      <th>1</th>\n",
       "      <td>2500</td>\n",
       "      <td>2500</td>\n",
       "      <td>2500.0</td>\n",
       "      <td>60 months</td>\n",
       "      <td>15.27%</td>\n",
       "      <td>59.83</td>\n",
       "      <td>C</td>\n",
       "      <td>C4</td>\n",
       "      <td>Ryder</td>\n",
       "      <td>&lt; 1 year</td>\n",
       "      <td>...</td>\n",
       "      <td>1008.71</td>\n",
       "      <td>456.46</td>\n",
       "      <td>435.17</td>\n",
       "      <td>0.00</td>\n",
       "      <td>117.08</td>\n",
       "      <td>1.11</td>\n",
       "      <td>Apr-13</td>\n",
       "      <td>119.66</td>\n",
       "      <td>Sep-13</td>\n",
       "      <td>0.0</td>\n",
       "    </tr>\n",
       "    <tr>\n",
       "      <th>3</th>\n",
       "      <td>10000</td>\n",
       "      <td>10000</td>\n",
       "      <td>10000.0</td>\n",
       "      <td>36 months</td>\n",
       "      <td>13.49%</td>\n",
       "      <td>339.31</td>\n",
       "      <td>C</td>\n",
       "      <td>C1</td>\n",
       "      <td>AIR RESOURCES BOARD</td>\n",
       "      <td>10+ years</td>\n",
       "      <td>...</td>\n",
       "      <td>12231.89</td>\n",
       "      <td>10000.00</td>\n",
       "      <td>2214.92</td>\n",
       "      <td>16.97</td>\n",
       "      <td>0.00</td>\n",
       "      <td>0.00</td>\n",
       "      <td>Jan-15</td>\n",
       "      <td>357.48</td>\n",
       "      <td>Apr-16</td>\n",
       "      <td>0.0</td>\n",
       "    </tr>\n",
       "    <tr>\n",
       "      <th>4</th>\n",
       "      <td>3000</td>\n",
       "      <td>3000</td>\n",
       "      <td>3000.0</td>\n",
       "      <td>60 months</td>\n",
       "      <td>12.69%</td>\n",
       "      <td>67.79</td>\n",
       "      <td>B</td>\n",
       "      <td>B5</td>\n",
       "      <td>University Medical Group</td>\n",
       "      <td>1 year</td>\n",
       "      <td>...</td>\n",
       "      <td>3513.33</td>\n",
       "      <td>2475.94</td>\n",
       "      <td>1037.39</td>\n",
       "      <td>0.00</td>\n",
       "      <td>0.00</td>\n",
       "      <td>0.00</td>\n",
       "      <td>May-16</td>\n",
       "      <td>67.79</td>\n",
       "      <td>May-16</td>\n",
       "      <td>0.0</td>\n",
       "    </tr>\n",
       "    <tr>\n",
       "      <th>5</th>\n",
       "      <td>5000</td>\n",
       "      <td>5000</td>\n",
       "      <td>5000.0</td>\n",
       "      <td>36 months</td>\n",
       "      <td>7.90%</td>\n",
       "      <td>156.46</td>\n",
       "      <td>A</td>\n",
       "      <td>A4</td>\n",
       "      <td>Veolia Transportaton</td>\n",
       "      <td>3 years</td>\n",
       "      <td>...</td>\n",
       "      <td>5632.21</td>\n",
       "      <td>5000.00</td>\n",
       "      <td>632.21</td>\n",
       "      <td>0.00</td>\n",
       "      <td>0.00</td>\n",
       "      <td>0.00</td>\n",
       "      <td>Jan-15</td>\n",
       "      <td>161.03</td>\n",
       "      <td>Jan-16</td>\n",
       "      <td>0.0</td>\n",
       "    </tr>\n",
       "    <tr>\n",
       "      <th>6</th>\n",
       "      <td>7000</td>\n",
       "      <td>7000</td>\n",
       "      <td>7000.0</td>\n",
       "      <td>60 months</td>\n",
       "      <td>15.96%</td>\n",
       "      <td>170.08</td>\n",
       "      <td>C</td>\n",
       "      <td>C5</td>\n",
       "      <td>Southern Star Photography</td>\n",
       "      <td>8 years</td>\n",
       "      <td>...</td>\n",
       "      <td>10110.84</td>\n",
       "      <td>6985.61</td>\n",
       "      <td>3125.23</td>\n",
       "      <td>0.00</td>\n",
       "      <td>0.00</td>\n",
       "      <td>0.00</td>\n",
       "      <td>May-16</td>\n",
       "      <td>1313.76</td>\n",
       "      <td>May-16</td>\n",
       "      <td>0.0</td>\n",
       "    </tr>\n",
       "  </tbody>\n",
       "</table>\n",
       "<p>5 rows × 40 columns</p>\n",
       "</div>"
      ],
      "text/plain": [
       "   loan_amnt  funded_amnt  funded_amnt_inv        term int_rate  installment  \\\n",
       "1       2500         2500           2500.0   60 months   15.27%        59.83   \n",
       "3      10000        10000          10000.0   36 months   13.49%       339.31   \n",
       "4       3000         3000           3000.0   60 months   12.69%        67.79   \n",
       "5       5000         5000           5000.0   36 months    7.90%       156.46   \n",
       "6       7000         7000           7000.0   60 months   15.96%       170.08   \n",
       "\n",
       "  grade sub_grade                  emp_title emp_length  ... total_pymnt_inv  \\\n",
       "1     C        C4                      Ryder   < 1 year  ...         1008.71   \n",
       "3     C        C1        AIR RESOURCES BOARD  10+ years  ...        12231.89   \n",
       "4     B        B5   University Medical Group     1 year  ...         3513.33   \n",
       "5     A        A4       Veolia Transportaton    3 years  ...         5632.21   \n",
       "6     C        C5  Southern Star Photography    8 years  ...        10110.84   \n",
       "\n",
       "   total_rec_prncp total_rec_int total_rec_late_fee recoveries  \\\n",
       "1           456.46        435.17               0.00     117.08   \n",
       "3         10000.00       2214.92              16.97       0.00   \n",
       "4          2475.94       1037.39               0.00       0.00   \n",
       "5          5000.00        632.21               0.00       0.00   \n",
       "6          6985.61       3125.23               0.00       0.00   \n",
       "\n",
       "  collection_recovery_fee last_pymnt_d last_pymnt_amnt  last_credit_pull_d  \\\n",
       "1                    1.11       Apr-13          119.66              Sep-13   \n",
       "3                    0.00       Jan-15          357.48              Apr-16   \n",
       "4                    0.00       May-16           67.79              May-16   \n",
       "5                    0.00       Jan-15          161.03              Jan-16   \n",
       "6                    0.00       May-16         1313.76              May-16   \n",
       "\n",
       "   pub_rec_bankruptcies  \n",
       "1                   0.0  \n",
       "3                   0.0  \n",
       "4                   0.0  \n",
       "5                   0.0  \n",
       "6                   0.0  \n",
       "\n",
       "[5 rows x 40 columns]"
      ]
     },
     "execution_count": 64,
     "metadata": {},
     "output_type": "execute_result"
    }
   ],
   "source": [
    "loan.head()"
   ]
  },
  {
   "cell_type": "code",
   "execution_count": 65,
   "metadata": {},
   "outputs": [
    {
     "data": {
      "text/plain": [
       "10+ years    8407\n",
       "2 years      4178\n",
       "< 1 year     4052\n",
       "3 years      3914\n",
       "4 years      3297\n",
       "5 years      3129\n",
       "1 year       3026\n",
       "6 years      2121\n",
       "7 years      1697\n",
       "8 years      1405\n",
       "9 years      1207\n",
       "Name: emp_length, dtype: int64"
      ]
     },
     "execution_count": 65,
     "metadata": {},
     "output_type": "execute_result"
    }
   ],
   "source": [
    "loan.emp_length.value_counts()"
   ]
  },
  {
   "cell_type": "code",
   "execution_count": 66,
   "metadata": {},
   "outputs": [],
   "source": [
    "#modify 10+ with 10 and < 1 with 0 and remove year\n",
    "emp_length_dict = {\n",
    "    '< 1 year' : 0,\n",
    "    '1 year' : 1,\n",
    "    '2 years' : 2,\n",
    "    '3 years' : 3,\n",
    "    '4 years' : 4,\n",
    "    '5 years' : 5,\n",
    "    '6 years' : 6,\n",
    "    '7 years' : 7,\n",
    "    '8 years' : 8,\n",
    "    '9 years' : 9,\n",
    "    '10+ years' : 10\n",
    "}\n",
    "loan = loan.replace({\"emp_length\": emp_length_dict })"
   ]
  },
  {
   "cell_type": "code",
   "execution_count": 67,
   "metadata": {},
   "outputs": [
    {
     "data": {
      "text/plain": [
       "10    8407\n",
       "2     4178\n",
       "0     4052\n",
       "3     3914\n",
       "4     3297\n",
       "5     3129\n",
       "1     3026\n",
       "6     2121\n",
       "7     1697\n",
       "8     1405\n",
       "9     1207\n",
       "Name: emp_length, dtype: int64"
      ]
     },
     "execution_count": 67,
     "metadata": {},
     "output_type": "execute_result"
    }
   ],
   "source": [
    "loan.emp_length.value_counts()"
   ]
  },
  {
   "cell_type": "code",
   "execution_count": 68,
   "metadata": {},
   "outputs": [
    {
     "data": {
      "text/plain": [
       " 36 months    26377\n",
       " 60 months    10056\n",
       "Name: term, dtype: int64"
      ]
     },
     "execution_count": 68,
     "metadata": {},
     "output_type": "execute_result"
    }
   ],
   "source": [
    "loan.term.value_counts()"
   ]
  },
  {
   "cell_type": "code",
   "execution_count": 69,
   "metadata": {},
   "outputs": [],
   "source": [
    "#remove months from here\n",
    "loan['term'] = loan.term.apply(lambda x: x.split()[0])"
   ]
  },
  {
   "cell_type": "code",
   "execution_count": 70,
   "metadata": {},
   "outputs": [
    {
     "data": {
      "text/plain": [
       "36    26377\n",
       "60    10056\n",
       "Name: term, dtype: int64"
      ]
     },
     "execution_count": 70,
     "metadata": {},
     "output_type": "execute_result"
    }
   ],
   "source": [
    "loan.term.value_counts()"
   ]
  },
  {
   "cell_type": "code",
   "execution_count": 71,
   "metadata": {},
   "outputs": [
    {
     "data": {
      "text/html": [
       "<div>\n",
       "<style scoped>\n",
       "    .dataframe tbody tr th:only-of-type {\n",
       "        vertical-align: middle;\n",
       "    }\n",
       "\n",
       "    .dataframe tbody tr th {\n",
       "        vertical-align: top;\n",
       "    }\n",
       "\n",
       "    .dataframe thead th {\n",
       "        text-align: right;\n",
       "    }\n",
       "</style>\n",
       "<table border=\"1\" class=\"dataframe\">\n",
       "  <thead>\n",
       "    <tr style=\"text-align: right;\">\n",
       "      <th></th>\n",
       "      <th>loan_amnt</th>\n",
       "      <th>funded_amnt</th>\n",
       "      <th>funded_amnt_inv</th>\n",
       "      <th>term</th>\n",
       "      <th>int_rate</th>\n",
       "      <th>installment</th>\n",
       "      <th>grade</th>\n",
       "      <th>sub_grade</th>\n",
       "      <th>emp_title</th>\n",
       "      <th>emp_length</th>\n",
       "      <th>...</th>\n",
       "      <th>total_pymnt_inv</th>\n",
       "      <th>total_rec_prncp</th>\n",
       "      <th>total_rec_int</th>\n",
       "      <th>total_rec_late_fee</th>\n",
       "      <th>recoveries</th>\n",
       "      <th>collection_recovery_fee</th>\n",
       "      <th>last_pymnt_d</th>\n",
       "      <th>last_pymnt_amnt</th>\n",
       "      <th>last_credit_pull_d</th>\n",
       "      <th>pub_rec_bankruptcies</th>\n",
       "    </tr>\n",
       "  </thead>\n",
       "  <tbody>\n",
       "    <tr>\n",
       "      <th>1</th>\n",
       "      <td>2500</td>\n",
       "      <td>2500</td>\n",
       "      <td>2500.0</td>\n",
       "      <td>60</td>\n",
       "      <td>15.27%</td>\n",
       "      <td>59.83</td>\n",
       "      <td>C</td>\n",
       "      <td>C4</td>\n",
       "      <td>Ryder</td>\n",
       "      <td>0</td>\n",
       "      <td>...</td>\n",
       "      <td>1008.71</td>\n",
       "      <td>456.46</td>\n",
       "      <td>435.17</td>\n",
       "      <td>0.00</td>\n",
       "      <td>117.08</td>\n",
       "      <td>1.11</td>\n",
       "      <td>Apr-13</td>\n",
       "      <td>119.66</td>\n",
       "      <td>Sep-13</td>\n",
       "      <td>0.0</td>\n",
       "    </tr>\n",
       "    <tr>\n",
       "      <th>3</th>\n",
       "      <td>10000</td>\n",
       "      <td>10000</td>\n",
       "      <td>10000.0</td>\n",
       "      <td>36</td>\n",
       "      <td>13.49%</td>\n",
       "      <td>339.31</td>\n",
       "      <td>C</td>\n",
       "      <td>C1</td>\n",
       "      <td>AIR RESOURCES BOARD</td>\n",
       "      <td>10</td>\n",
       "      <td>...</td>\n",
       "      <td>12231.89</td>\n",
       "      <td>10000.00</td>\n",
       "      <td>2214.92</td>\n",
       "      <td>16.97</td>\n",
       "      <td>0.00</td>\n",
       "      <td>0.00</td>\n",
       "      <td>Jan-15</td>\n",
       "      <td>357.48</td>\n",
       "      <td>Apr-16</td>\n",
       "      <td>0.0</td>\n",
       "    </tr>\n",
       "    <tr>\n",
       "      <th>4</th>\n",
       "      <td>3000</td>\n",
       "      <td>3000</td>\n",
       "      <td>3000.0</td>\n",
       "      <td>60</td>\n",
       "      <td>12.69%</td>\n",
       "      <td>67.79</td>\n",
       "      <td>B</td>\n",
       "      <td>B5</td>\n",
       "      <td>University Medical Group</td>\n",
       "      <td>1</td>\n",
       "      <td>...</td>\n",
       "      <td>3513.33</td>\n",
       "      <td>2475.94</td>\n",
       "      <td>1037.39</td>\n",
       "      <td>0.00</td>\n",
       "      <td>0.00</td>\n",
       "      <td>0.00</td>\n",
       "      <td>May-16</td>\n",
       "      <td>67.79</td>\n",
       "      <td>May-16</td>\n",
       "      <td>0.0</td>\n",
       "    </tr>\n",
       "    <tr>\n",
       "      <th>5</th>\n",
       "      <td>5000</td>\n",
       "      <td>5000</td>\n",
       "      <td>5000.0</td>\n",
       "      <td>36</td>\n",
       "      <td>7.90%</td>\n",
       "      <td>156.46</td>\n",
       "      <td>A</td>\n",
       "      <td>A4</td>\n",
       "      <td>Veolia Transportaton</td>\n",
       "      <td>3</td>\n",
       "      <td>...</td>\n",
       "      <td>5632.21</td>\n",
       "      <td>5000.00</td>\n",
       "      <td>632.21</td>\n",
       "      <td>0.00</td>\n",
       "      <td>0.00</td>\n",
       "      <td>0.00</td>\n",
       "      <td>Jan-15</td>\n",
       "      <td>161.03</td>\n",
       "      <td>Jan-16</td>\n",
       "      <td>0.0</td>\n",
       "    </tr>\n",
       "    <tr>\n",
       "      <th>6</th>\n",
       "      <td>7000</td>\n",
       "      <td>7000</td>\n",
       "      <td>7000.0</td>\n",
       "      <td>60</td>\n",
       "      <td>15.96%</td>\n",
       "      <td>170.08</td>\n",
       "      <td>C</td>\n",
       "      <td>C5</td>\n",
       "      <td>Southern Star Photography</td>\n",
       "      <td>8</td>\n",
       "      <td>...</td>\n",
       "      <td>10110.84</td>\n",
       "      <td>6985.61</td>\n",
       "      <td>3125.23</td>\n",
       "      <td>0.00</td>\n",
       "      <td>0.00</td>\n",
       "      <td>0.00</td>\n",
       "      <td>May-16</td>\n",
       "      <td>1313.76</td>\n",
       "      <td>May-16</td>\n",
       "      <td>0.0</td>\n",
       "    </tr>\n",
       "  </tbody>\n",
       "</table>\n",
       "<p>5 rows × 40 columns</p>\n",
       "</div>"
      ],
      "text/plain": [
       "   loan_amnt  funded_amnt  funded_amnt_inv term int_rate  installment grade  \\\n",
       "1       2500         2500           2500.0   60   15.27%        59.83     C   \n",
       "3      10000        10000          10000.0   36   13.49%       339.31     C   \n",
       "4       3000         3000           3000.0   60   12.69%        67.79     B   \n",
       "5       5000         5000           5000.0   36    7.90%       156.46     A   \n",
       "6       7000         7000           7000.0   60   15.96%       170.08     C   \n",
       "\n",
       "  sub_grade                  emp_title  emp_length  ... total_pymnt_inv  \\\n",
       "1        C4                      Ryder           0  ...         1008.71   \n",
       "3        C1        AIR RESOURCES BOARD          10  ...        12231.89   \n",
       "4        B5   University Medical Group           1  ...         3513.33   \n",
       "5        A4       Veolia Transportaton           3  ...         5632.21   \n",
       "6        C5  Southern Star Photography           8  ...        10110.84   \n",
       "\n",
       "   total_rec_prncp total_rec_int total_rec_late_fee recoveries  \\\n",
       "1           456.46        435.17               0.00     117.08   \n",
       "3         10000.00       2214.92              16.97       0.00   \n",
       "4          2475.94       1037.39               0.00       0.00   \n",
       "5          5000.00        632.21               0.00       0.00   \n",
       "6          6985.61       3125.23               0.00       0.00   \n",
       "\n",
       "  collection_recovery_fee last_pymnt_d last_pymnt_amnt  last_credit_pull_d  \\\n",
       "1                    1.11       Apr-13          119.66              Sep-13   \n",
       "3                    0.00       Jan-15          357.48              Apr-16   \n",
       "4                    0.00       May-16           67.79              May-16   \n",
       "5                    0.00       Jan-15          161.03              Jan-16   \n",
       "6                    0.00       May-16         1313.76              May-16   \n",
       "\n",
       "   pub_rec_bankruptcies  \n",
       "1                   0.0  \n",
       "3                   0.0  \n",
       "4                   0.0  \n",
       "5                   0.0  \n",
       "6                   0.0  \n",
       "\n",
       "[5 rows x 40 columns]"
      ]
     },
     "execution_count": 71,
     "metadata": {},
     "output_type": "execute_result"
    }
   ],
   "source": [
    "loan.head()"
   ]
  },
  {
   "cell_type": "code",
   "execution_count": 72,
   "metadata": {},
   "outputs": [],
   "source": [
    "loan['int_rate'] = loan['int_rate'].str.strip('%').astype('float')"
   ]
  },
  {
   "cell_type": "code",
   "execution_count": 73,
   "metadata": {},
   "outputs": [
    {
     "data": {
      "text/html": [
       "<div>\n",
       "<style scoped>\n",
       "    .dataframe tbody tr th:only-of-type {\n",
       "        vertical-align: middle;\n",
       "    }\n",
       "\n",
       "    .dataframe tbody tr th {\n",
       "        vertical-align: top;\n",
       "    }\n",
       "\n",
       "    .dataframe thead th {\n",
       "        text-align: right;\n",
       "    }\n",
       "</style>\n",
       "<table border=\"1\" class=\"dataframe\">\n",
       "  <thead>\n",
       "    <tr style=\"text-align: right;\">\n",
       "      <th></th>\n",
       "      <th>loan_amnt</th>\n",
       "      <th>funded_amnt</th>\n",
       "      <th>funded_amnt_inv</th>\n",
       "      <th>term</th>\n",
       "      <th>int_rate</th>\n",
       "      <th>installment</th>\n",
       "      <th>grade</th>\n",
       "      <th>sub_grade</th>\n",
       "      <th>emp_title</th>\n",
       "      <th>emp_length</th>\n",
       "      <th>...</th>\n",
       "      <th>total_pymnt_inv</th>\n",
       "      <th>total_rec_prncp</th>\n",
       "      <th>total_rec_int</th>\n",
       "      <th>total_rec_late_fee</th>\n",
       "      <th>recoveries</th>\n",
       "      <th>collection_recovery_fee</th>\n",
       "      <th>last_pymnt_d</th>\n",
       "      <th>last_pymnt_amnt</th>\n",
       "      <th>last_credit_pull_d</th>\n",
       "      <th>pub_rec_bankruptcies</th>\n",
       "    </tr>\n",
       "  </thead>\n",
       "  <tbody>\n",
       "    <tr>\n",
       "      <th>1</th>\n",
       "      <td>2500</td>\n",
       "      <td>2500</td>\n",
       "      <td>2500.0</td>\n",
       "      <td>60</td>\n",
       "      <td>15.27</td>\n",
       "      <td>59.83</td>\n",
       "      <td>C</td>\n",
       "      <td>C4</td>\n",
       "      <td>Ryder</td>\n",
       "      <td>0</td>\n",
       "      <td>...</td>\n",
       "      <td>1008.71</td>\n",
       "      <td>456.46</td>\n",
       "      <td>435.17</td>\n",
       "      <td>0.00</td>\n",
       "      <td>117.08</td>\n",
       "      <td>1.11</td>\n",
       "      <td>Apr-13</td>\n",
       "      <td>119.66</td>\n",
       "      <td>Sep-13</td>\n",
       "      <td>0.0</td>\n",
       "    </tr>\n",
       "    <tr>\n",
       "      <th>3</th>\n",
       "      <td>10000</td>\n",
       "      <td>10000</td>\n",
       "      <td>10000.0</td>\n",
       "      <td>36</td>\n",
       "      <td>13.49</td>\n",
       "      <td>339.31</td>\n",
       "      <td>C</td>\n",
       "      <td>C1</td>\n",
       "      <td>AIR RESOURCES BOARD</td>\n",
       "      <td>10</td>\n",
       "      <td>...</td>\n",
       "      <td>12231.89</td>\n",
       "      <td>10000.00</td>\n",
       "      <td>2214.92</td>\n",
       "      <td>16.97</td>\n",
       "      <td>0.00</td>\n",
       "      <td>0.00</td>\n",
       "      <td>Jan-15</td>\n",
       "      <td>357.48</td>\n",
       "      <td>Apr-16</td>\n",
       "      <td>0.0</td>\n",
       "    </tr>\n",
       "    <tr>\n",
       "      <th>4</th>\n",
       "      <td>3000</td>\n",
       "      <td>3000</td>\n",
       "      <td>3000.0</td>\n",
       "      <td>60</td>\n",
       "      <td>12.69</td>\n",
       "      <td>67.79</td>\n",
       "      <td>B</td>\n",
       "      <td>B5</td>\n",
       "      <td>University Medical Group</td>\n",
       "      <td>1</td>\n",
       "      <td>...</td>\n",
       "      <td>3513.33</td>\n",
       "      <td>2475.94</td>\n",
       "      <td>1037.39</td>\n",
       "      <td>0.00</td>\n",
       "      <td>0.00</td>\n",
       "      <td>0.00</td>\n",
       "      <td>May-16</td>\n",
       "      <td>67.79</td>\n",
       "      <td>May-16</td>\n",
       "      <td>0.0</td>\n",
       "    </tr>\n",
       "    <tr>\n",
       "      <th>5</th>\n",
       "      <td>5000</td>\n",
       "      <td>5000</td>\n",
       "      <td>5000.0</td>\n",
       "      <td>36</td>\n",
       "      <td>7.90</td>\n",
       "      <td>156.46</td>\n",
       "      <td>A</td>\n",
       "      <td>A4</td>\n",
       "      <td>Veolia Transportaton</td>\n",
       "      <td>3</td>\n",
       "      <td>...</td>\n",
       "      <td>5632.21</td>\n",
       "      <td>5000.00</td>\n",
       "      <td>632.21</td>\n",
       "      <td>0.00</td>\n",
       "      <td>0.00</td>\n",
       "      <td>0.00</td>\n",
       "      <td>Jan-15</td>\n",
       "      <td>161.03</td>\n",
       "      <td>Jan-16</td>\n",
       "      <td>0.0</td>\n",
       "    </tr>\n",
       "    <tr>\n",
       "      <th>6</th>\n",
       "      <td>7000</td>\n",
       "      <td>7000</td>\n",
       "      <td>7000.0</td>\n",
       "      <td>60</td>\n",
       "      <td>15.96</td>\n",
       "      <td>170.08</td>\n",
       "      <td>C</td>\n",
       "      <td>C5</td>\n",
       "      <td>Southern Star Photography</td>\n",
       "      <td>8</td>\n",
       "      <td>...</td>\n",
       "      <td>10110.84</td>\n",
       "      <td>6985.61</td>\n",
       "      <td>3125.23</td>\n",
       "      <td>0.00</td>\n",
       "      <td>0.00</td>\n",
       "      <td>0.00</td>\n",
       "      <td>May-16</td>\n",
       "      <td>1313.76</td>\n",
       "      <td>May-16</td>\n",
       "      <td>0.0</td>\n",
       "    </tr>\n",
       "  </tbody>\n",
       "</table>\n",
       "<p>5 rows × 40 columns</p>\n",
       "</div>"
      ],
      "text/plain": [
       "   loan_amnt  funded_amnt  funded_amnt_inv term  int_rate  installment grade  \\\n",
       "1       2500         2500           2500.0   60     15.27        59.83     C   \n",
       "3      10000        10000          10000.0   36     13.49       339.31     C   \n",
       "4       3000         3000           3000.0   60     12.69        67.79     B   \n",
       "5       5000         5000           5000.0   36      7.90       156.46     A   \n",
       "6       7000         7000           7000.0   60     15.96       170.08     C   \n",
       "\n",
       "  sub_grade                  emp_title  emp_length  ... total_pymnt_inv  \\\n",
       "1        C4                      Ryder           0  ...         1008.71   \n",
       "3        C1        AIR RESOURCES BOARD          10  ...        12231.89   \n",
       "4        B5   University Medical Group           1  ...         3513.33   \n",
       "5        A4       Veolia Transportaton           3  ...         5632.21   \n",
       "6        C5  Southern Star Photography           8  ...        10110.84   \n",
       "\n",
       "   total_rec_prncp total_rec_int total_rec_late_fee recoveries  \\\n",
       "1           456.46        435.17               0.00     117.08   \n",
       "3         10000.00       2214.92              16.97       0.00   \n",
       "4          2475.94       1037.39               0.00       0.00   \n",
       "5          5000.00        632.21               0.00       0.00   \n",
       "6          6985.61       3125.23               0.00       0.00   \n",
       "\n",
       "  collection_recovery_fee last_pymnt_d last_pymnt_amnt  last_credit_pull_d  \\\n",
       "1                    1.11       Apr-13          119.66              Sep-13   \n",
       "3                    0.00       Jan-15          357.48              Apr-16   \n",
       "4                    0.00       May-16           67.79              May-16   \n",
       "5                    0.00       Jan-15          161.03              Jan-16   \n",
       "6                    0.00       May-16         1313.76              May-16   \n",
       "\n",
       "   pub_rec_bankruptcies  \n",
       "1                   0.0  \n",
       "3                   0.0  \n",
       "4                   0.0  \n",
       "5                   0.0  \n",
       "6                   0.0  \n",
       "\n",
       "[5 rows x 40 columns]"
      ]
     },
     "execution_count": 73,
     "metadata": {},
     "output_type": "execute_result"
    }
   ],
   "source": [
    "loan.head()"
   ]
  },
  {
   "cell_type": "code",
   "execution_count": 74,
   "metadata": {},
   "outputs": [
    {
     "data": {
      "text/plain": [
       "1         9.40%\n",
       "3           21%\n",
       "4        53.90%\n",
       "5        28.30%\n",
       "6        85.60%\n",
       "          ...  \n",
       "39551    96.50%\n",
       "39562    68.70%\n",
       "39623    62.90%\n",
       "39666    34.30%\n",
       "39680    70.90%\n",
       "Name: revol_util, Length: 36433, dtype: object"
      ]
     },
     "execution_count": 74,
     "metadata": {},
     "output_type": "execute_result"
    }
   ],
   "source": [
    "loan.revol_util\n"
   ]
  },
  {
   "cell_type": "code",
   "execution_count": 75,
   "metadata": {},
   "outputs": [
    {
     "data": {
      "text/html": [
       "<div>\n",
       "<style scoped>\n",
       "    .dataframe tbody tr th:only-of-type {\n",
       "        vertical-align: middle;\n",
       "    }\n",
       "\n",
       "    .dataframe tbody tr th {\n",
       "        vertical-align: top;\n",
       "    }\n",
       "\n",
       "    .dataframe thead th {\n",
       "        text-align: right;\n",
       "    }\n",
       "</style>\n",
       "<table border=\"1\" class=\"dataframe\">\n",
       "  <thead>\n",
       "    <tr style=\"text-align: right;\">\n",
       "      <th></th>\n",
       "      <th>loan_amnt</th>\n",
       "      <th>funded_amnt</th>\n",
       "      <th>funded_amnt_inv</th>\n",
       "      <th>int_rate</th>\n",
       "      <th>installment</th>\n",
       "      <th>emp_length</th>\n",
       "      <th>annual_inc</th>\n",
       "      <th>dti</th>\n",
       "      <th>delinq_2yrs</th>\n",
       "      <th>inq_last_6mths</th>\n",
       "      <th>...</th>\n",
       "      <th>out_prncp_inv</th>\n",
       "      <th>total_pymnt</th>\n",
       "      <th>total_pymnt_inv</th>\n",
       "      <th>total_rec_prncp</th>\n",
       "      <th>total_rec_int</th>\n",
       "      <th>total_rec_late_fee</th>\n",
       "      <th>recoveries</th>\n",
       "      <th>collection_recovery_fee</th>\n",
       "      <th>last_pymnt_amnt</th>\n",
       "      <th>pub_rec_bankruptcies</th>\n",
       "    </tr>\n",
       "  </thead>\n",
       "  <tbody>\n",
       "    <tr>\n",
       "      <th>count</th>\n",
       "      <td>36433.000000</td>\n",
       "      <td>36433.000000</td>\n",
       "      <td>36433.000000</td>\n",
       "      <td>36433.000000</td>\n",
       "      <td>36433.000000</td>\n",
       "      <td>36433.000000</td>\n",
       "      <td>3.643300e+04</td>\n",
       "      <td>36433.000000</td>\n",
       "      <td>36433.000000</td>\n",
       "      <td>36433.00000</td>\n",
       "      <td>...</td>\n",
       "      <td>36433.000000</td>\n",
       "      <td>36433.000000</td>\n",
       "      <td>36433.000000</td>\n",
       "      <td>36433.000000</td>\n",
       "      <td>36433.000000</td>\n",
       "      <td>36433.000000</td>\n",
       "      <td>36433.000000</td>\n",
       "      <td>36433.000000</td>\n",
       "      <td>36433.000000</td>\n",
       "      <td>36433.000000</td>\n",
       "    </tr>\n",
       "    <tr>\n",
       "      <th>mean</th>\n",
       "      <td>11307.679851</td>\n",
       "      <td>11032.834244</td>\n",
       "      <td>10601.325781</td>\n",
       "      <td>12.073862</td>\n",
       "      <td>326.186394</td>\n",
       "      <td>5.015645</td>\n",
       "      <td>6.930522e+04</td>\n",
       "      <td>13.444131</td>\n",
       "      <td>0.146131</td>\n",
       "      <td>0.86493</td>\n",
       "      <td>...</td>\n",
       "      <td>52.213313</td>\n",
       "      <td>12310.968657</td>\n",
       "      <td>11841.070656</td>\n",
       "      <td>9912.408471</td>\n",
       "      <td>2304.404937</td>\n",
       "      <td>1.299840</td>\n",
       "      <td>92.855490</td>\n",
       "      <td>11.677065</td>\n",
       "      <td>2742.955476</td>\n",
       "      <td>0.041418</td>\n",
       "    </tr>\n",
       "    <tr>\n",
       "      <th>std</th>\n",
       "      <td>7433.859357</td>\n",
       "      <td>7166.484281</td>\n",
       "      <td>7072.842604</td>\n",
       "      <td>3.734758</td>\n",
       "      <td>207.389943</td>\n",
       "      <td>3.542914</td>\n",
       "      <td>6.354244e+04</td>\n",
       "      <td>6.643308</td>\n",
       "      <td>0.492199</td>\n",
       "      <td>1.06343</td>\n",
       "      <td>...</td>\n",
       "      <td>378.443825</td>\n",
       "      <td>9048.420885</td>\n",
       "      <td>8911.319070</td>\n",
       "      <td>7053.212865</td>\n",
       "      <td>2629.542911</td>\n",
       "      <td>7.065629</td>\n",
       "      <td>682.047187</td>\n",
       "      <td>140.880327</td>\n",
       "      <td>4473.528922</td>\n",
       "      <td>0.200221</td>\n",
       "    </tr>\n",
       "    <tr>\n",
       "      <th>min</th>\n",
       "      <td>500.000000</td>\n",
       "      <td>500.000000</td>\n",
       "      <td>0.000000</td>\n",
       "      <td>5.420000</td>\n",
       "      <td>16.080000</td>\n",
       "      <td>0.000000</td>\n",
       "      <td>4.000000e+03</td>\n",
       "      <td>0.000000</td>\n",
       "      <td>0.000000</td>\n",
       "      <td>0.00000</td>\n",
       "      <td>...</td>\n",
       "      <td>0.000000</td>\n",
       "      <td>33.730000</td>\n",
       "      <td>0.000000</td>\n",
       "      <td>0.000000</td>\n",
       "      <td>6.220000</td>\n",
       "      <td>0.000000</td>\n",
       "      <td>0.000000</td>\n",
       "      <td>0.000000</td>\n",
       "      <td>0.010000</td>\n",
       "      <td>0.000000</td>\n",
       "    </tr>\n",
       "    <tr>\n",
       "      <th>25%</th>\n",
       "      <td>5600.000000</td>\n",
       "      <td>5500.000000</td>\n",
       "      <td>5000.000000</td>\n",
       "      <td>9.320000</td>\n",
       "      <td>168.900000</td>\n",
       "      <td>2.000000</td>\n",
       "      <td>4.200000e+04</td>\n",
       "      <td>8.360000</td>\n",
       "      <td>0.000000</td>\n",
       "      <td>0.00000</td>\n",
       "      <td>...</td>\n",
       "      <td>0.000000</td>\n",
       "      <td>5672.557913</td>\n",
       "      <td>5413.410000</td>\n",
       "      <td>4800.000000</td>\n",
       "      <td>678.010000</td>\n",
       "      <td>0.000000</td>\n",
       "      <td>0.000000</td>\n",
       "      <td>0.000000</td>\n",
       "      <td>226.280000</td>\n",
       "      <td>0.000000</td>\n",
       "    </tr>\n",
       "    <tr>\n",
       "      <th>50%</th>\n",
       "      <td>10000.000000</td>\n",
       "      <td>10000.000000</td>\n",
       "      <td>9202.846434</td>\n",
       "      <td>11.860000</td>\n",
       "      <td>283.280000</td>\n",
       "      <td>4.000000</td>\n",
       "      <td>6.000000e+04</td>\n",
       "      <td>13.540000</td>\n",
       "      <td>0.000000</td>\n",
       "      <td>1.00000</td>\n",
       "      <td>...</td>\n",
       "      <td>0.000000</td>\n",
       "      <td>10101.589360</td>\n",
       "      <td>9632.040000</td>\n",
       "      <td>8123.600000</td>\n",
       "      <td>1379.820000</td>\n",
       "      <td>0.000000</td>\n",
       "      <td>0.000000</td>\n",
       "      <td>0.000000</td>\n",
       "      <td>571.700000</td>\n",
       "      <td>0.000000</td>\n",
       "    </tr>\n",
       "    <tr>\n",
       "      <th>75%</th>\n",
       "      <td>15000.000000</td>\n",
       "      <td>15000.000000</td>\n",
       "      <td>14508.454150</td>\n",
       "      <td>14.650000</td>\n",
       "      <td>432.220000</td>\n",
       "      <td>9.000000</td>\n",
       "      <td>8.300000e+04</td>\n",
       "      <td>18.690000</td>\n",
       "      <td>0.000000</td>\n",
       "      <td>1.00000</td>\n",
       "      <td>...</td>\n",
       "      <td>0.000000</td>\n",
       "      <td>16700.719980</td>\n",
       "      <td>16094.490000</td>\n",
       "      <td>14000.000000</td>\n",
       "      <td>2891.860000</td>\n",
       "      <td>0.000000</td>\n",
       "      <td>0.000000</td>\n",
       "      <td>0.000000</td>\n",
       "      <td>3457.580000</td>\n",
       "      <td>0.000000</td>\n",
       "    </tr>\n",
       "    <tr>\n",
       "      <th>max</th>\n",
       "      <td>35000.000000</td>\n",
       "      <td>35000.000000</td>\n",
       "      <td>35000.000000</td>\n",
       "      <td>24.400000</td>\n",
       "      <td>1305.190000</td>\n",
       "      <td>10.000000</td>\n",
       "      <td>6.000000e+06</td>\n",
       "      <td>29.990000</td>\n",
       "      <td>11.000000</td>\n",
       "      <td>8.00000</td>\n",
       "      <td>...</td>\n",
       "      <td>6307.370000</td>\n",
       "      <td>58563.679930</td>\n",
       "      <td>58563.680000</td>\n",
       "      <td>35000.020000</td>\n",
       "      <td>23563.680000</td>\n",
       "      <td>180.200000</td>\n",
       "      <td>29623.350000</td>\n",
       "      <td>7002.190000</td>\n",
       "      <td>36115.200000</td>\n",
       "      <td>2.000000</td>\n",
       "    </tr>\n",
       "  </tbody>\n",
       "</table>\n",
       "<p>8 rows × 25 columns</p>\n",
       "</div>"
      ],
      "text/plain": [
       "          loan_amnt   funded_amnt  funded_amnt_inv      int_rate  \\\n",
       "count  36433.000000  36433.000000     36433.000000  36433.000000   \n",
       "mean   11307.679851  11032.834244     10601.325781     12.073862   \n",
       "std     7433.859357   7166.484281      7072.842604      3.734758   \n",
       "min      500.000000    500.000000         0.000000      5.420000   \n",
       "25%     5600.000000   5500.000000      5000.000000      9.320000   \n",
       "50%    10000.000000  10000.000000      9202.846434     11.860000   \n",
       "75%    15000.000000  15000.000000     14508.454150     14.650000   \n",
       "max    35000.000000  35000.000000     35000.000000     24.400000   \n",
       "\n",
       "        installment    emp_length    annual_inc           dti   delinq_2yrs  \\\n",
       "count  36433.000000  36433.000000  3.643300e+04  36433.000000  36433.000000   \n",
       "mean     326.186394      5.015645  6.930522e+04     13.444131      0.146131   \n",
       "std      207.389943      3.542914  6.354244e+04      6.643308      0.492199   \n",
       "min       16.080000      0.000000  4.000000e+03      0.000000      0.000000   \n",
       "25%      168.900000      2.000000  4.200000e+04      8.360000      0.000000   \n",
       "50%      283.280000      4.000000  6.000000e+04     13.540000      0.000000   \n",
       "75%      432.220000      9.000000  8.300000e+04     18.690000      0.000000   \n",
       "max     1305.190000     10.000000  6.000000e+06     29.990000     11.000000   \n",
       "\n",
       "       inq_last_6mths  ...  out_prncp_inv   total_pymnt  total_pymnt_inv  \\\n",
       "count     36433.00000  ...   36433.000000  36433.000000     36433.000000   \n",
       "mean          0.86493  ...      52.213313  12310.968657     11841.070656   \n",
       "std           1.06343  ...     378.443825   9048.420885      8911.319070   \n",
       "min           0.00000  ...       0.000000     33.730000         0.000000   \n",
       "25%           0.00000  ...       0.000000   5672.557913      5413.410000   \n",
       "50%           1.00000  ...       0.000000  10101.589360      9632.040000   \n",
       "75%           1.00000  ...       0.000000  16700.719980     16094.490000   \n",
       "max           8.00000  ...    6307.370000  58563.679930     58563.680000   \n",
       "\n",
       "       total_rec_prncp  total_rec_int  total_rec_late_fee    recoveries  \\\n",
       "count     36433.000000   36433.000000        36433.000000  36433.000000   \n",
       "mean       9912.408471    2304.404937            1.299840     92.855490   \n",
       "std        7053.212865    2629.542911            7.065629    682.047187   \n",
       "min           0.000000       6.220000            0.000000      0.000000   \n",
       "25%        4800.000000     678.010000            0.000000      0.000000   \n",
       "50%        8123.600000    1379.820000            0.000000      0.000000   \n",
       "75%       14000.000000    2891.860000            0.000000      0.000000   \n",
       "max       35000.020000   23563.680000          180.200000  29623.350000   \n",
       "\n",
       "       collection_recovery_fee  last_pymnt_amnt  pub_rec_bankruptcies  \n",
       "count             36433.000000     36433.000000          36433.000000  \n",
       "mean                 11.677065      2742.955476              0.041418  \n",
       "std                 140.880327      4473.528922              0.200221  \n",
       "min                   0.000000         0.010000              0.000000  \n",
       "25%                   0.000000       226.280000              0.000000  \n",
       "50%                   0.000000       571.700000              0.000000  \n",
       "75%                   0.000000      3457.580000              0.000000  \n",
       "max                7002.190000     36115.200000              2.000000  \n",
       "\n",
       "[8 rows x 25 columns]"
      ]
     },
     "execution_count": 75,
     "metadata": {},
     "output_type": "execute_result"
    }
   ],
   "source": [
    "loan.describe()"
   ]
  },
  {
   "cell_type": "code",
   "execution_count": 76,
   "metadata": {},
   "outputs": [],
   "source": [
    "loan['revol_util'] = loan['revol_util'].str.strip('%').astype('float')"
   ]
  },
  {
   "cell_type": "code",
   "execution_count": 77,
   "metadata": {},
   "outputs": [
    {
     "data": {
      "text/html": [
       "<div>\n",
       "<style scoped>\n",
       "    .dataframe tbody tr th:only-of-type {\n",
       "        vertical-align: middle;\n",
       "    }\n",
       "\n",
       "    .dataframe tbody tr th {\n",
       "        vertical-align: top;\n",
       "    }\n",
       "\n",
       "    .dataframe thead th {\n",
       "        text-align: right;\n",
       "    }\n",
       "</style>\n",
       "<table border=\"1\" class=\"dataframe\">\n",
       "  <thead>\n",
       "    <tr style=\"text-align: right;\">\n",
       "      <th></th>\n",
       "      <th>loan_amnt</th>\n",
       "      <th>funded_amnt</th>\n",
       "      <th>funded_amnt_inv</th>\n",
       "      <th>int_rate</th>\n",
       "      <th>installment</th>\n",
       "      <th>emp_length</th>\n",
       "      <th>annual_inc</th>\n",
       "      <th>dti</th>\n",
       "      <th>delinq_2yrs</th>\n",
       "      <th>inq_last_6mths</th>\n",
       "      <th>...</th>\n",
       "      <th>out_prncp_inv</th>\n",
       "      <th>total_pymnt</th>\n",
       "      <th>total_pymnt_inv</th>\n",
       "      <th>total_rec_prncp</th>\n",
       "      <th>total_rec_int</th>\n",
       "      <th>total_rec_late_fee</th>\n",
       "      <th>recoveries</th>\n",
       "      <th>collection_recovery_fee</th>\n",
       "      <th>last_pymnt_amnt</th>\n",
       "      <th>pub_rec_bankruptcies</th>\n",
       "    </tr>\n",
       "  </thead>\n",
       "  <tbody>\n",
       "    <tr>\n",
       "      <th>count</th>\n",
       "      <td>36433.000000</td>\n",
       "      <td>36433.000000</td>\n",
       "      <td>36433.000000</td>\n",
       "      <td>36433.000000</td>\n",
       "      <td>36433.000000</td>\n",
       "      <td>36433.000000</td>\n",
       "      <td>3.643300e+04</td>\n",
       "      <td>36433.000000</td>\n",
       "      <td>36433.000000</td>\n",
       "      <td>36433.00000</td>\n",
       "      <td>...</td>\n",
       "      <td>36433.000000</td>\n",
       "      <td>36433.000000</td>\n",
       "      <td>36433.000000</td>\n",
       "      <td>36433.000000</td>\n",
       "      <td>36433.000000</td>\n",
       "      <td>36433.000000</td>\n",
       "      <td>36433.000000</td>\n",
       "      <td>36433.000000</td>\n",
       "      <td>36433.000000</td>\n",
       "      <td>36433.000000</td>\n",
       "    </tr>\n",
       "    <tr>\n",
       "      <th>mean</th>\n",
       "      <td>11307.679851</td>\n",
       "      <td>11032.834244</td>\n",
       "      <td>10601.325781</td>\n",
       "      <td>12.073862</td>\n",
       "      <td>326.186394</td>\n",
       "      <td>5.015645</td>\n",
       "      <td>6.930522e+04</td>\n",
       "      <td>13.444131</td>\n",
       "      <td>0.146131</td>\n",
       "      <td>0.86493</td>\n",
       "      <td>...</td>\n",
       "      <td>52.213313</td>\n",
       "      <td>12310.968657</td>\n",
       "      <td>11841.070656</td>\n",
       "      <td>9912.408471</td>\n",
       "      <td>2304.404937</td>\n",
       "      <td>1.299840</td>\n",
       "      <td>92.855490</td>\n",
       "      <td>11.677065</td>\n",
       "      <td>2742.955476</td>\n",
       "      <td>0.041418</td>\n",
       "    </tr>\n",
       "    <tr>\n",
       "      <th>std</th>\n",
       "      <td>7433.859357</td>\n",
       "      <td>7166.484281</td>\n",
       "      <td>7072.842604</td>\n",
       "      <td>3.734758</td>\n",
       "      <td>207.389943</td>\n",
       "      <td>3.542914</td>\n",
       "      <td>6.354244e+04</td>\n",
       "      <td>6.643308</td>\n",
       "      <td>0.492199</td>\n",
       "      <td>1.06343</td>\n",
       "      <td>...</td>\n",
       "      <td>378.443825</td>\n",
       "      <td>9048.420885</td>\n",
       "      <td>8911.319070</td>\n",
       "      <td>7053.212865</td>\n",
       "      <td>2629.542911</td>\n",
       "      <td>7.065629</td>\n",
       "      <td>682.047187</td>\n",
       "      <td>140.880327</td>\n",
       "      <td>4473.528922</td>\n",
       "      <td>0.200221</td>\n",
       "    </tr>\n",
       "    <tr>\n",
       "      <th>min</th>\n",
       "      <td>500.000000</td>\n",
       "      <td>500.000000</td>\n",
       "      <td>0.000000</td>\n",
       "      <td>5.420000</td>\n",
       "      <td>16.080000</td>\n",
       "      <td>0.000000</td>\n",
       "      <td>4.000000e+03</td>\n",
       "      <td>0.000000</td>\n",
       "      <td>0.000000</td>\n",
       "      <td>0.00000</td>\n",
       "      <td>...</td>\n",
       "      <td>0.000000</td>\n",
       "      <td>33.730000</td>\n",
       "      <td>0.000000</td>\n",
       "      <td>0.000000</td>\n",
       "      <td>6.220000</td>\n",
       "      <td>0.000000</td>\n",
       "      <td>0.000000</td>\n",
       "      <td>0.000000</td>\n",
       "      <td>0.010000</td>\n",
       "      <td>0.000000</td>\n",
       "    </tr>\n",
       "    <tr>\n",
       "      <th>25%</th>\n",
       "      <td>5600.000000</td>\n",
       "      <td>5500.000000</td>\n",
       "      <td>5000.000000</td>\n",
       "      <td>9.320000</td>\n",
       "      <td>168.900000</td>\n",
       "      <td>2.000000</td>\n",
       "      <td>4.200000e+04</td>\n",
       "      <td>8.360000</td>\n",
       "      <td>0.000000</td>\n",
       "      <td>0.00000</td>\n",
       "      <td>...</td>\n",
       "      <td>0.000000</td>\n",
       "      <td>5672.557913</td>\n",
       "      <td>5413.410000</td>\n",
       "      <td>4800.000000</td>\n",
       "      <td>678.010000</td>\n",
       "      <td>0.000000</td>\n",
       "      <td>0.000000</td>\n",
       "      <td>0.000000</td>\n",
       "      <td>226.280000</td>\n",
       "      <td>0.000000</td>\n",
       "    </tr>\n",
       "    <tr>\n",
       "      <th>50%</th>\n",
       "      <td>10000.000000</td>\n",
       "      <td>10000.000000</td>\n",
       "      <td>9202.846434</td>\n",
       "      <td>11.860000</td>\n",
       "      <td>283.280000</td>\n",
       "      <td>4.000000</td>\n",
       "      <td>6.000000e+04</td>\n",
       "      <td>13.540000</td>\n",
       "      <td>0.000000</td>\n",
       "      <td>1.00000</td>\n",
       "      <td>...</td>\n",
       "      <td>0.000000</td>\n",
       "      <td>10101.589360</td>\n",
       "      <td>9632.040000</td>\n",
       "      <td>8123.600000</td>\n",
       "      <td>1379.820000</td>\n",
       "      <td>0.000000</td>\n",
       "      <td>0.000000</td>\n",
       "      <td>0.000000</td>\n",
       "      <td>571.700000</td>\n",
       "      <td>0.000000</td>\n",
       "    </tr>\n",
       "    <tr>\n",
       "      <th>75%</th>\n",
       "      <td>15000.000000</td>\n",
       "      <td>15000.000000</td>\n",
       "      <td>14508.454150</td>\n",
       "      <td>14.650000</td>\n",
       "      <td>432.220000</td>\n",
       "      <td>9.000000</td>\n",
       "      <td>8.300000e+04</td>\n",
       "      <td>18.690000</td>\n",
       "      <td>0.000000</td>\n",
       "      <td>1.00000</td>\n",
       "      <td>...</td>\n",
       "      <td>0.000000</td>\n",
       "      <td>16700.719980</td>\n",
       "      <td>16094.490000</td>\n",
       "      <td>14000.000000</td>\n",
       "      <td>2891.860000</td>\n",
       "      <td>0.000000</td>\n",
       "      <td>0.000000</td>\n",
       "      <td>0.000000</td>\n",
       "      <td>3457.580000</td>\n",
       "      <td>0.000000</td>\n",
       "    </tr>\n",
       "    <tr>\n",
       "      <th>max</th>\n",
       "      <td>35000.000000</td>\n",
       "      <td>35000.000000</td>\n",
       "      <td>35000.000000</td>\n",
       "      <td>24.400000</td>\n",
       "      <td>1305.190000</td>\n",
       "      <td>10.000000</td>\n",
       "      <td>6.000000e+06</td>\n",
       "      <td>29.990000</td>\n",
       "      <td>11.000000</td>\n",
       "      <td>8.00000</td>\n",
       "      <td>...</td>\n",
       "      <td>6307.370000</td>\n",
       "      <td>58563.679930</td>\n",
       "      <td>58563.680000</td>\n",
       "      <td>35000.020000</td>\n",
       "      <td>23563.680000</td>\n",
       "      <td>180.200000</td>\n",
       "      <td>29623.350000</td>\n",
       "      <td>7002.190000</td>\n",
       "      <td>36115.200000</td>\n",
       "      <td>2.000000</td>\n",
       "    </tr>\n",
       "  </tbody>\n",
       "</table>\n",
       "<p>8 rows × 26 columns</p>\n",
       "</div>"
      ],
      "text/plain": [
       "          loan_amnt   funded_amnt  funded_amnt_inv      int_rate  \\\n",
       "count  36433.000000  36433.000000     36433.000000  36433.000000   \n",
       "mean   11307.679851  11032.834244     10601.325781     12.073862   \n",
       "std     7433.859357   7166.484281      7072.842604      3.734758   \n",
       "min      500.000000    500.000000         0.000000      5.420000   \n",
       "25%     5600.000000   5500.000000      5000.000000      9.320000   \n",
       "50%    10000.000000  10000.000000      9202.846434     11.860000   \n",
       "75%    15000.000000  15000.000000     14508.454150     14.650000   \n",
       "max    35000.000000  35000.000000     35000.000000     24.400000   \n",
       "\n",
       "        installment    emp_length    annual_inc           dti   delinq_2yrs  \\\n",
       "count  36433.000000  36433.000000  3.643300e+04  36433.000000  36433.000000   \n",
       "mean     326.186394      5.015645  6.930522e+04     13.444131      0.146131   \n",
       "std      207.389943      3.542914  6.354244e+04      6.643308      0.492199   \n",
       "min       16.080000      0.000000  4.000000e+03      0.000000      0.000000   \n",
       "25%      168.900000      2.000000  4.200000e+04      8.360000      0.000000   \n",
       "50%      283.280000      4.000000  6.000000e+04     13.540000      0.000000   \n",
       "75%      432.220000      9.000000  8.300000e+04     18.690000      0.000000   \n",
       "max     1305.190000     10.000000  6.000000e+06     29.990000     11.000000   \n",
       "\n",
       "       inq_last_6mths  ...  out_prncp_inv   total_pymnt  total_pymnt_inv  \\\n",
       "count     36433.00000  ...   36433.000000  36433.000000     36433.000000   \n",
       "mean          0.86493  ...      52.213313  12310.968657     11841.070656   \n",
       "std           1.06343  ...     378.443825   9048.420885      8911.319070   \n",
       "min           0.00000  ...       0.000000     33.730000         0.000000   \n",
       "25%           0.00000  ...       0.000000   5672.557913      5413.410000   \n",
       "50%           1.00000  ...       0.000000  10101.589360      9632.040000   \n",
       "75%           1.00000  ...       0.000000  16700.719980     16094.490000   \n",
       "max           8.00000  ...    6307.370000  58563.679930     58563.680000   \n",
       "\n",
       "       total_rec_prncp  total_rec_int  total_rec_late_fee    recoveries  \\\n",
       "count     36433.000000   36433.000000        36433.000000  36433.000000   \n",
       "mean       9912.408471    2304.404937            1.299840     92.855490   \n",
       "std        7053.212865    2629.542911            7.065629    682.047187   \n",
       "min           0.000000       6.220000            0.000000      0.000000   \n",
       "25%        4800.000000     678.010000            0.000000      0.000000   \n",
       "50%        8123.600000    1379.820000            0.000000      0.000000   \n",
       "75%       14000.000000    2891.860000            0.000000      0.000000   \n",
       "max       35000.020000   23563.680000          180.200000  29623.350000   \n",
       "\n",
       "       collection_recovery_fee  last_pymnt_amnt  pub_rec_bankruptcies  \n",
       "count             36433.000000     36433.000000          36433.000000  \n",
       "mean                 11.677065      2742.955476              0.041418  \n",
       "std                 140.880327      4473.528922              0.200221  \n",
       "min                   0.000000         0.010000              0.000000  \n",
       "25%                   0.000000       226.280000              0.000000  \n",
       "50%                   0.000000       571.700000              0.000000  \n",
       "75%                   0.000000      3457.580000              0.000000  \n",
       "max                7002.190000     36115.200000              2.000000  \n",
       "\n",
       "[8 rows x 26 columns]"
      ]
     },
     "execution_count": 77,
     "metadata": {},
     "output_type": "execute_result"
    }
   ],
   "source": [
    "loan.describe()"
   ]
  },
  {
   "cell_type": "code",
   "execution_count": 78,
   "metadata": {},
   "outputs": [
    {
     "data": {
      "text/plain": [
       "term                           2\n",
       "pub_rec_bankruptcies           3\n",
       "loan_status                    3\n",
       "verification_status            3\n",
       "home_ownership                 4\n",
       "pub_rec                        5\n",
       "grade                          7\n",
       "inq_last_6mths                 9\n",
       "emp_length                    11\n",
       "delinq_2yrs                   11\n",
       "purpose                       14\n",
       "sub_grade                     35\n",
       "open_acc                      38\n",
       "addr_state                    49\n",
       "issue_d                       52\n",
       "total_acc                     79\n",
       "last_credit_pull_d            96\n",
       "last_pymnt_d                  97\n",
       "int_rate                     334\n",
       "earliest_cr_line             510\n",
       "loan_amnt                    863\n",
       "funded_amnt                 1024\n",
       "out_prncp                   1064\n",
       "out_prncp_inv               1065\n",
       "revol_util                  1082\n",
       "total_rec_late_fee          1194\n",
       "collection_recovery_fee     2386\n",
       "dti                         2857\n",
       "recoveries                  3585\n",
       "annual_inc                  4924\n",
       "total_rec_prncp             7254\n",
       "funded_amnt_inv             7474\n",
       "installment                14367\n",
       "title                      17954\n",
       "revol_bal                  20790\n",
       "emp_title                  28207\n",
       "last_pymnt_amnt            32467\n",
       "total_rec_int              32523\n",
       "total_pymnt_inv            34524\n",
       "total_pymnt                34802\n",
       "dtype: int64"
      ]
     },
     "execution_count": 78,
     "metadata": {},
     "output_type": "execute_result"
    }
   ],
   "source": [
    "loan.nunique().sort_values()"
   ]
  },
  {
   "cell_type": "code",
   "execution_count": 79,
   "metadata": {},
   "outputs": [
    {
     "data": {
      "text/html": [
       "<div>\n",
       "<style scoped>\n",
       "    .dataframe tbody tr th:only-of-type {\n",
       "        vertical-align: middle;\n",
       "    }\n",
       "\n",
       "    .dataframe tbody tr th {\n",
       "        vertical-align: top;\n",
       "    }\n",
       "\n",
       "    .dataframe thead th {\n",
       "        text-align: right;\n",
       "    }\n",
       "</style>\n",
       "<table border=\"1\" class=\"dataframe\">\n",
       "  <thead>\n",
       "    <tr style=\"text-align: right;\">\n",
       "      <th></th>\n",
       "      <th>loan_amnt</th>\n",
       "      <th>funded_amnt</th>\n",
       "      <th>funded_amnt_inv</th>\n",
       "      <th>term</th>\n",
       "      <th>int_rate</th>\n",
       "      <th>installment</th>\n",
       "      <th>grade</th>\n",
       "      <th>sub_grade</th>\n",
       "      <th>emp_title</th>\n",
       "      <th>emp_length</th>\n",
       "      <th>...</th>\n",
       "      <th>total_pymnt_inv</th>\n",
       "      <th>total_rec_prncp</th>\n",
       "      <th>total_rec_int</th>\n",
       "      <th>total_rec_late_fee</th>\n",
       "      <th>recoveries</th>\n",
       "      <th>collection_recovery_fee</th>\n",
       "      <th>last_pymnt_d</th>\n",
       "      <th>last_pymnt_amnt</th>\n",
       "      <th>last_credit_pull_d</th>\n",
       "      <th>pub_rec_bankruptcies</th>\n",
       "    </tr>\n",
       "  </thead>\n",
       "  <tbody>\n",
       "    <tr>\n",
       "      <th>1</th>\n",
       "      <td>2500</td>\n",
       "      <td>2500</td>\n",
       "      <td>2500.0</td>\n",
       "      <td>60</td>\n",
       "      <td>15.27</td>\n",
       "      <td>59.83</td>\n",
       "      <td>C</td>\n",
       "      <td>C4</td>\n",
       "      <td>Ryder</td>\n",
       "      <td>0</td>\n",
       "      <td>...</td>\n",
       "      <td>1008.71</td>\n",
       "      <td>456.46</td>\n",
       "      <td>435.17</td>\n",
       "      <td>0.00</td>\n",
       "      <td>117.08</td>\n",
       "      <td>1.11</td>\n",
       "      <td>Apr-13</td>\n",
       "      <td>119.66</td>\n",
       "      <td>Sep-13</td>\n",
       "      <td>0.0</td>\n",
       "    </tr>\n",
       "    <tr>\n",
       "      <th>3</th>\n",
       "      <td>10000</td>\n",
       "      <td>10000</td>\n",
       "      <td>10000.0</td>\n",
       "      <td>36</td>\n",
       "      <td>13.49</td>\n",
       "      <td>339.31</td>\n",
       "      <td>C</td>\n",
       "      <td>C1</td>\n",
       "      <td>AIR RESOURCES BOARD</td>\n",
       "      <td>10</td>\n",
       "      <td>...</td>\n",
       "      <td>12231.89</td>\n",
       "      <td>10000.00</td>\n",
       "      <td>2214.92</td>\n",
       "      <td>16.97</td>\n",
       "      <td>0.00</td>\n",
       "      <td>0.00</td>\n",
       "      <td>Jan-15</td>\n",
       "      <td>357.48</td>\n",
       "      <td>Apr-16</td>\n",
       "      <td>0.0</td>\n",
       "    </tr>\n",
       "    <tr>\n",
       "      <th>4</th>\n",
       "      <td>3000</td>\n",
       "      <td>3000</td>\n",
       "      <td>3000.0</td>\n",
       "      <td>60</td>\n",
       "      <td>12.69</td>\n",
       "      <td>67.79</td>\n",
       "      <td>B</td>\n",
       "      <td>B5</td>\n",
       "      <td>University Medical Group</td>\n",
       "      <td>1</td>\n",
       "      <td>...</td>\n",
       "      <td>3513.33</td>\n",
       "      <td>2475.94</td>\n",
       "      <td>1037.39</td>\n",
       "      <td>0.00</td>\n",
       "      <td>0.00</td>\n",
       "      <td>0.00</td>\n",
       "      <td>May-16</td>\n",
       "      <td>67.79</td>\n",
       "      <td>May-16</td>\n",
       "      <td>0.0</td>\n",
       "    </tr>\n",
       "    <tr>\n",
       "      <th>5</th>\n",
       "      <td>5000</td>\n",
       "      <td>5000</td>\n",
       "      <td>5000.0</td>\n",
       "      <td>36</td>\n",
       "      <td>7.90</td>\n",
       "      <td>156.46</td>\n",
       "      <td>A</td>\n",
       "      <td>A4</td>\n",
       "      <td>Veolia Transportaton</td>\n",
       "      <td>3</td>\n",
       "      <td>...</td>\n",
       "      <td>5632.21</td>\n",
       "      <td>5000.00</td>\n",
       "      <td>632.21</td>\n",
       "      <td>0.00</td>\n",
       "      <td>0.00</td>\n",
       "      <td>0.00</td>\n",
       "      <td>Jan-15</td>\n",
       "      <td>161.03</td>\n",
       "      <td>Jan-16</td>\n",
       "      <td>0.0</td>\n",
       "    </tr>\n",
       "    <tr>\n",
       "      <th>6</th>\n",
       "      <td>7000</td>\n",
       "      <td>7000</td>\n",
       "      <td>7000.0</td>\n",
       "      <td>60</td>\n",
       "      <td>15.96</td>\n",
       "      <td>170.08</td>\n",
       "      <td>C</td>\n",
       "      <td>C5</td>\n",
       "      <td>Southern Star Photography</td>\n",
       "      <td>8</td>\n",
       "      <td>...</td>\n",
       "      <td>10110.84</td>\n",
       "      <td>6985.61</td>\n",
       "      <td>3125.23</td>\n",
       "      <td>0.00</td>\n",
       "      <td>0.00</td>\n",
       "      <td>0.00</td>\n",
       "      <td>May-16</td>\n",
       "      <td>1313.76</td>\n",
       "      <td>May-16</td>\n",
       "      <td>0.0</td>\n",
       "    </tr>\n",
       "    <tr>\n",
       "      <th>...</th>\n",
       "      <td>...</td>\n",
       "      <td>...</td>\n",
       "      <td>...</td>\n",
       "      <td>...</td>\n",
       "      <td>...</td>\n",
       "      <td>...</td>\n",
       "      <td>...</td>\n",
       "      <td>...</td>\n",
       "      <td>...</td>\n",
       "      <td>...</td>\n",
       "      <td>...</td>\n",
       "      <td>...</td>\n",
       "      <td>...</td>\n",
       "      <td>...</td>\n",
       "      <td>...</td>\n",
       "      <td>...</td>\n",
       "      <td>...</td>\n",
       "      <td>...</td>\n",
       "      <td>...</td>\n",
       "      <td>...</td>\n",
       "      <td>...</td>\n",
       "    </tr>\n",
       "    <tr>\n",
       "      <th>39551</th>\n",
       "      <td>12375</td>\n",
       "      <td>12375</td>\n",
       "      <td>1000.0</td>\n",
       "      <td>36</td>\n",
       "      <td>10.91</td>\n",
       "      <td>404.62</td>\n",
       "      <td>C</td>\n",
       "      <td>C3</td>\n",
       "      <td>Fullmoon Software</td>\n",
       "      <td>2</td>\n",
       "      <td>...</td>\n",
       "      <td>1161.29</td>\n",
       "      <td>12375.00</td>\n",
       "      <td>1995.92</td>\n",
       "      <td>0.00</td>\n",
       "      <td>0.00</td>\n",
       "      <td>0.00</td>\n",
       "      <td>Feb-10</td>\n",
       "      <td>4259.11</td>\n",
       "      <td>May-14</td>\n",
       "      <td>1.0</td>\n",
       "    </tr>\n",
       "    <tr>\n",
       "      <th>39562</th>\n",
       "      <td>4800</td>\n",
       "      <td>4800</td>\n",
       "      <td>1100.0</td>\n",
       "      <td>36</td>\n",
       "      <td>10.28</td>\n",
       "      <td>155.52</td>\n",
       "      <td>C</td>\n",
       "      <td>C1</td>\n",
       "      <td>E.E. Wine Inc</td>\n",
       "      <td>1</td>\n",
       "      <td>...</td>\n",
       "      <td>1176.56</td>\n",
       "      <td>4800.00</td>\n",
       "      <td>334.09</td>\n",
       "      <td>0.00</td>\n",
       "      <td>0.00</td>\n",
       "      <td>0.00</td>\n",
       "      <td>Aug-08</td>\n",
       "      <td>3891.08</td>\n",
       "      <td>Aug-08</td>\n",
       "      <td>1.0</td>\n",
       "    </tr>\n",
       "    <tr>\n",
       "      <th>39623</th>\n",
       "      <td>9000</td>\n",
       "      <td>9000</td>\n",
       "      <td>700.0</td>\n",
       "      <td>36</td>\n",
       "      <td>12.49</td>\n",
       "      <td>301.04</td>\n",
       "      <td>D</td>\n",
       "      <td>D3</td>\n",
       "      <td>Maximus</td>\n",
       "      <td>8</td>\n",
       "      <td>...</td>\n",
       "      <td>311.64</td>\n",
       "      <td>1496.83</td>\n",
       "      <td>609.26</td>\n",
       "      <td>0.00</td>\n",
       "      <td>1909.87</td>\n",
       "      <td>668.36</td>\n",
       "      <td>May-08</td>\n",
       "      <td>301.05</td>\n",
       "      <td>May-16</td>\n",
       "      <td>1.0</td>\n",
       "    </tr>\n",
       "    <tr>\n",
       "      <th>39666</th>\n",
       "      <td>15450</td>\n",
       "      <td>15450</td>\n",
       "      <td>600.0</td>\n",
       "      <td>36</td>\n",
       "      <td>11.22</td>\n",
       "      <td>507.46</td>\n",
       "      <td>C</td>\n",
       "      <td>C4</td>\n",
       "      <td>ARIN</td>\n",
       "      <td>2</td>\n",
       "      <td>...</td>\n",
       "      <td>451.73</td>\n",
       "      <td>8688.59</td>\n",
       "      <td>2659.96</td>\n",
       "      <td>0.00</td>\n",
       "      <td>304.20</td>\n",
       "      <td>3.09</td>\n",
       "      <td>Oct-09</td>\n",
       "      <td>1016.15</td>\n",
       "      <td>Mar-10</td>\n",
       "      <td>1.0</td>\n",
       "    </tr>\n",
       "    <tr>\n",
       "      <th>39680</th>\n",
       "      <td>3000</td>\n",
       "      <td>3000</td>\n",
       "      <td>525.0</td>\n",
       "      <td>36</td>\n",
       "      <td>11.86</td>\n",
       "      <td>99.44</td>\n",
       "      <td>D</td>\n",
       "      <td>D1</td>\n",
       "      <td>Fairfield Manufacturing</td>\n",
       "      <td>2</td>\n",
       "      <td>...</td>\n",
       "      <td>626.44</td>\n",
       "      <td>3000.00</td>\n",
       "      <td>579.66</td>\n",
       "      <td>0.00</td>\n",
       "      <td>0.00</td>\n",
       "      <td>0.00</td>\n",
       "      <td>Aug-10</td>\n",
       "      <td>101.51</td>\n",
       "      <td>Jul-10</td>\n",
       "      <td>1.0</td>\n",
       "    </tr>\n",
       "  </tbody>\n",
       "</table>\n",
       "<p>36433 rows × 40 columns</p>\n",
       "</div>"
      ],
      "text/plain": [
       "       loan_amnt  funded_amnt  funded_amnt_inv term  int_rate  installment  \\\n",
       "1           2500         2500           2500.0   60     15.27        59.83   \n",
       "3          10000        10000          10000.0   36     13.49       339.31   \n",
       "4           3000         3000           3000.0   60     12.69        67.79   \n",
       "5           5000         5000           5000.0   36      7.90       156.46   \n",
       "6           7000         7000           7000.0   60     15.96       170.08   \n",
       "...          ...          ...              ...  ...       ...          ...   \n",
       "39551      12375        12375           1000.0   36     10.91       404.62   \n",
       "39562       4800         4800           1100.0   36     10.28       155.52   \n",
       "39623       9000         9000            700.0   36     12.49       301.04   \n",
       "39666      15450        15450            600.0   36     11.22       507.46   \n",
       "39680       3000         3000            525.0   36     11.86        99.44   \n",
       "\n",
       "      grade sub_grade                  emp_title  emp_length  ...  \\\n",
       "1         C        C4                      Ryder           0  ...   \n",
       "3         C        C1        AIR RESOURCES BOARD          10  ...   \n",
       "4         B        B5   University Medical Group           1  ...   \n",
       "5         A        A4       Veolia Transportaton           3  ...   \n",
       "6         C        C5  Southern Star Photography           8  ...   \n",
       "...     ...       ...                        ...         ...  ...   \n",
       "39551     C        C3          Fullmoon Software           2  ...   \n",
       "39562     C        C1              E.E. Wine Inc           1  ...   \n",
       "39623     D        D3                    Maximus           8  ...   \n",
       "39666     C        C4                       ARIN           2  ...   \n",
       "39680     D        D1    Fairfield Manufacturing           2  ...   \n",
       "\n",
       "      total_pymnt_inv  total_rec_prncp total_rec_int total_rec_late_fee  \\\n",
       "1             1008.71           456.46        435.17               0.00   \n",
       "3            12231.89         10000.00       2214.92              16.97   \n",
       "4             3513.33          2475.94       1037.39               0.00   \n",
       "5             5632.21          5000.00        632.21               0.00   \n",
       "6            10110.84          6985.61       3125.23               0.00   \n",
       "...               ...              ...           ...                ...   \n",
       "39551         1161.29         12375.00       1995.92               0.00   \n",
       "39562         1176.56          4800.00        334.09               0.00   \n",
       "39623          311.64          1496.83        609.26               0.00   \n",
       "39666          451.73          8688.59       2659.96               0.00   \n",
       "39680          626.44          3000.00        579.66               0.00   \n",
       "\n",
       "      recoveries collection_recovery_fee last_pymnt_d last_pymnt_amnt  \\\n",
       "1         117.08                    1.11       Apr-13          119.66   \n",
       "3           0.00                    0.00       Jan-15          357.48   \n",
       "4           0.00                    0.00       May-16           67.79   \n",
       "5           0.00                    0.00       Jan-15          161.03   \n",
       "6           0.00                    0.00       May-16         1313.76   \n",
       "...          ...                     ...          ...             ...   \n",
       "39551       0.00                    0.00       Feb-10         4259.11   \n",
       "39562       0.00                    0.00       Aug-08         3891.08   \n",
       "39623    1909.87                  668.36       May-08          301.05   \n",
       "39666     304.20                    3.09       Oct-09         1016.15   \n",
       "39680       0.00                    0.00       Aug-10          101.51   \n",
       "\n",
       "       last_credit_pull_d  pub_rec_bankruptcies  \n",
       "1                  Sep-13                   0.0  \n",
       "3                  Apr-16                   0.0  \n",
       "4                  May-16                   0.0  \n",
       "5                  Jan-16                   0.0  \n",
       "6                  May-16                   0.0  \n",
       "...                   ...                   ...  \n",
       "39551              May-14                   1.0  \n",
       "39562              Aug-08                   1.0  \n",
       "39623              May-16                   1.0  \n",
       "39666              Mar-10                   1.0  \n",
       "39680              Jul-10                   1.0  \n",
       "\n",
       "[36433 rows x 40 columns]"
      ]
     },
     "execution_count": 79,
     "metadata": {},
     "output_type": "execute_result"
    }
   ],
   "source": [
    "loan"
   ]
  },
  {
   "cell_type": "code",
   "execution_count": 80,
   "metadata": {},
   "outputs": [
    {
     "data": {
      "text/plain": [
       "1        Apr-99\n",
       "3        Feb-96\n",
       "4        Jan-96\n",
       "5        Nov-04\n",
       "6        Jul-05\n",
       "          ...  \n",
       "39551    Dec-00\n",
       "39562    Mar-00\n",
       "39623    Aug-97\n",
       "39666    Nov-92\n",
       "39680    Jul-00\n",
       "Name: earliest_cr_line, Length: 36433, dtype: object"
      ]
     },
     "execution_count": 80,
     "metadata": {},
     "output_type": "execute_result"
    }
   ],
   "source": [
    "loan.earliest_cr_line"
   ]
  },
  {
   "cell_type": "code",
   "execution_count": 81,
   "metadata": {},
   "outputs": [
    {
     "data": {
      "text/plain": [
       "1        Dec-11\n",
       "3        Dec-11\n",
       "4        Dec-11\n",
       "5        Dec-11\n",
       "6        Dec-11\n",
       "          ...  \n",
       "39551    Dec-07\n",
       "39562    Nov-07\n",
       "39623    Oct-07\n",
       "39666    Aug-07\n",
       "39680    Aug-07\n",
       "Name: issue_d, Length: 36433, dtype: object"
      ]
     },
     "execution_count": 81,
     "metadata": {},
     "output_type": "execute_result"
    }
   ],
   "source": [
    "loan.issue_d"
   ]
  },
  {
   "cell_type": "code",
   "execution_count": 82,
   "metadata": {},
   "outputs": [
    {
     "data": {
      "text/plain": [
       "1        Apr-13\n",
       "3        Jan-15\n",
       "4        May-16\n",
       "5        Jan-15\n",
       "6        May-16\n",
       "          ...  \n",
       "39551    Feb-10\n",
       "39562    Aug-08\n",
       "39623    May-08\n",
       "39666    Oct-09\n",
       "39680    Aug-10\n",
       "Name: last_pymnt_d, Length: 36433, dtype: object"
      ]
     },
     "execution_count": 82,
     "metadata": {},
     "output_type": "execute_result"
    }
   ],
   "source": [
    "loan.last_pymnt_d"
   ]
  },
  {
   "cell_type": "code",
   "execution_count": 83,
   "metadata": {},
   "outputs": [
    {
     "data": {
      "text/plain": [
       "1        Sep-13\n",
       "3        Apr-16\n",
       "4        May-16\n",
       "5        Jan-16\n",
       "6        May-16\n",
       "          ...  \n",
       "39551    May-14\n",
       "39562    Aug-08\n",
       "39623    May-16\n",
       "39666    Mar-10\n",
       "39680    Jul-10\n",
       "Name: last_credit_pull_d, Length: 36433, dtype: object"
      ]
     },
     "execution_count": 83,
     "metadata": {},
     "output_type": "execute_result"
    }
   ],
   "source": [
    "loan.last_credit_pull_d"
   ]
  },
  {
   "cell_type": "code",
   "execution_count": 84,
   "metadata": {},
   "outputs": [
    {
     "name": "stdout",
     "output_type": "stream",
     "text": [
      "<class 'pandas.core.frame.DataFrame'>\n",
      "Int64Index: 36433 entries, 1 to 39680\n",
      "Data columns (total 4 columns):\n",
      " #   Column              Non-Null Count  Dtype \n",
      "---  ------              --------------  ----- \n",
      " 0   issue_d             36433 non-null  object\n",
      " 1   earliest_cr_line    36433 non-null  object\n",
      " 2   last_pymnt_d        36433 non-null  object\n",
      " 3   last_credit_pull_d  36433 non-null  object\n",
      "dtypes: object(4)\n",
      "memory usage: 1.4+ MB\n"
     ]
    }
   ],
   "source": [
    "datetime_colmns=['issue_d','earliest_cr_line','last_pymnt_d','last_credit_pull_d']\n",
    "loan[datetime_colmns].info()"
   ]
  },
  {
   "cell_type": "code",
   "execution_count": 85,
   "metadata": {},
   "outputs": [],
   "source": [
    "#converting to date time format\n",
    "loan.issue_d = pd.to_datetime(clean_loan.issue_d, format='%b-%y')\n",
    "loan.earliest_cr_line = pd.to_datetime(clean_loan.earliest_cr_line, format='%b-%y')\n",
    "loan.last_pymnt_d = pd.to_datetime(clean_loan.last_pymnt_d, format='%b-%y')\n",
    "loan.last_credit_pull_d = pd.to_datetime(clean_loan.last_credit_pull_d, format='%b-%y')"
   ]
  },
  {
   "cell_type": "code",
   "execution_count": 86,
   "metadata": {},
   "outputs": [
    {
     "name": "stdout",
     "output_type": "stream",
     "text": [
      "<class 'pandas.core.frame.DataFrame'>\n",
      "Int64Index: 36433 entries, 1 to 39680\n",
      "Data columns (total 4 columns):\n",
      " #   Column              Non-Null Count  Dtype         \n",
      "---  ------              --------------  -----         \n",
      " 0   issue_d             36433 non-null  datetime64[ns]\n",
      " 1   earliest_cr_line    36433 non-null  datetime64[ns]\n",
      " 2   last_pymnt_d        36433 non-null  datetime64[ns]\n",
      " 3   last_credit_pull_d  36433 non-null  datetime64[ns]\n",
      "dtypes: datetime64[ns](4)\n",
      "memory usage: 1.4 MB\n"
     ]
    }
   ],
   "source": [
    "loan[datetime_colmns].info()"
   ]
  },
  {
   "cell_type": "code",
   "execution_count": 87,
   "metadata": {},
   "outputs": [],
   "source": [
    "loan['earliest_cr_line_month'] = loan['earliest_cr_line'].dt.month\n",
    "loan['earliest_cr_line_year'] = loan['earliest_cr_line'].dt.year"
   ]
  },
  {
   "cell_type": "code",
   "execution_count": 88,
   "metadata": {},
   "outputs": [],
   "source": [
    "loan['issue_d_month'] = loan['issue_d'].dt.month\n",
    "loan['issue_d_year'] = loan['issue_d'].dt.year"
   ]
  },
  {
   "cell_type": "code",
   "execution_count": 89,
   "metadata": {},
   "outputs": [
    {
     "data": {
      "text/html": [
       "<div>\n",
       "<style scoped>\n",
       "    .dataframe tbody tr th:only-of-type {\n",
       "        vertical-align: middle;\n",
       "    }\n",
       "\n",
       "    .dataframe tbody tr th {\n",
       "        vertical-align: top;\n",
       "    }\n",
       "\n",
       "    .dataframe thead th {\n",
       "        text-align: right;\n",
       "    }\n",
       "</style>\n",
       "<table border=\"1\" class=\"dataframe\">\n",
       "  <thead>\n",
       "    <tr style=\"text-align: right;\">\n",
       "      <th></th>\n",
       "      <th>loan_amnt</th>\n",
       "      <th>funded_amnt</th>\n",
       "      <th>funded_amnt_inv</th>\n",
       "      <th>int_rate</th>\n",
       "      <th>installment</th>\n",
       "      <th>emp_length</th>\n",
       "      <th>annual_inc</th>\n",
       "      <th>dti</th>\n",
       "      <th>delinq_2yrs</th>\n",
       "      <th>inq_last_6mths</th>\n",
       "      <th>...</th>\n",
       "      <th>total_rec_int</th>\n",
       "      <th>total_rec_late_fee</th>\n",
       "      <th>recoveries</th>\n",
       "      <th>collection_recovery_fee</th>\n",
       "      <th>last_pymnt_amnt</th>\n",
       "      <th>pub_rec_bankruptcies</th>\n",
       "      <th>earliest_cr_line_month</th>\n",
       "      <th>earliest_cr_line_year</th>\n",
       "      <th>issue_d_month</th>\n",
       "      <th>issue_d_year</th>\n",
       "    </tr>\n",
       "  </thead>\n",
       "  <tbody>\n",
       "    <tr>\n",
       "      <th>count</th>\n",
       "      <td>36433.000000</td>\n",
       "      <td>36433.000000</td>\n",
       "      <td>36433.000000</td>\n",
       "      <td>36433.000000</td>\n",
       "      <td>36433.000000</td>\n",
       "      <td>36433.000000</td>\n",
       "      <td>3.643300e+04</td>\n",
       "      <td>36433.000000</td>\n",
       "      <td>36433.000000</td>\n",
       "      <td>36433.00000</td>\n",
       "      <td>...</td>\n",
       "      <td>36433.000000</td>\n",
       "      <td>36433.000000</td>\n",
       "      <td>36433.000000</td>\n",
       "      <td>36433.000000</td>\n",
       "      <td>36433.000000</td>\n",
       "      <td>36433.000000</td>\n",
       "      <td>36433.000000</td>\n",
       "      <td>36433.000000</td>\n",
       "      <td>36433.000000</td>\n",
       "      <td>36433.000000</td>\n",
       "    </tr>\n",
       "    <tr>\n",
       "      <th>mean</th>\n",
       "      <td>11307.679851</td>\n",
       "      <td>11032.834244</td>\n",
       "      <td>10601.325781</td>\n",
       "      <td>12.073862</td>\n",
       "      <td>326.186394</td>\n",
       "      <td>5.015645</td>\n",
       "      <td>6.930522e+04</td>\n",
       "      <td>13.444131</td>\n",
       "      <td>0.146131</td>\n",
       "      <td>0.86493</td>\n",
       "      <td>...</td>\n",
       "      <td>2304.404937</td>\n",
       "      <td>1.299840</td>\n",
       "      <td>92.855490</td>\n",
       "      <td>11.677065</td>\n",
       "      <td>2742.955476</td>\n",
       "      <td>0.041418</td>\n",
       "      <td>6.897318</td>\n",
       "      <td>1996.910603</td>\n",
       "      <td>7.210606</td>\n",
       "      <td>2010.373535</td>\n",
       "    </tr>\n",
       "    <tr>\n",
       "      <th>std</th>\n",
       "      <td>7433.859357</td>\n",
       "      <td>7166.484281</td>\n",
       "      <td>7072.842604</td>\n",
       "      <td>3.734758</td>\n",
       "      <td>207.389943</td>\n",
       "      <td>3.542914</td>\n",
       "      <td>6.354244e+04</td>\n",
       "      <td>6.643308</td>\n",
       "      <td>0.492199</td>\n",
       "      <td>1.06343</td>\n",
       "      <td>...</td>\n",
       "      <td>2629.542911</td>\n",
       "      <td>7.065629</td>\n",
       "      <td>682.047187</td>\n",
       "      <td>140.880327</td>\n",
       "      <td>4473.528922</td>\n",
       "      <td>0.200221</td>\n",
       "      <td>3.542471</td>\n",
       "      <td>6.940984</td>\n",
       "      <td>3.357084</td>\n",
       "      <td>0.807599</td>\n",
       "    </tr>\n",
       "    <tr>\n",
       "      <th>min</th>\n",
       "      <td>500.000000</td>\n",
       "      <td>500.000000</td>\n",
       "      <td>0.000000</td>\n",
       "      <td>5.420000</td>\n",
       "      <td>16.080000</td>\n",
       "      <td>0.000000</td>\n",
       "      <td>4.000000e+03</td>\n",
       "      <td>0.000000</td>\n",
       "      <td>0.000000</td>\n",
       "      <td>0.00000</td>\n",
       "      <td>...</td>\n",
       "      <td>6.220000</td>\n",
       "      <td>0.000000</td>\n",
       "      <td>0.000000</td>\n",
       "      <td>0.000000</td>\n",
       "      <td>0.010000</td>\n",
       "      <td>0.000000</td>\n",
       "      <td>1.000000</td>\n",
       "      <td>1969.000000</td>\n",
       "      <td>1.000000</td>\n",
       "      <td>2007.000000</td>\n",
       "    </tr>\n",
       "    <tr>\n",
       "      <th>25%</th>\n",
       "      <td>5600.000000</td>\n",
       "      <td>5500.000000</td>\n",
       "      <td>5000.000000</td>\n",
       "      <td>9.320000</td>\n",
       "      <td>168.900000</td>\n",
       "      <td>2.000000</td>\n",
       "      <td>4.200000e+04</td>\n",
       "      <td>8.360000</td>\n",
       "      <td>0.000000</td>\n",
       "      <td>0.00000</td>\n",
       "      <td>...</td>\n",
       "      <td>678.010000</td>\n",
       "      <td>0.000000</td>\n",
       "      <td>0.000000</td>\n",
       "      <td>0.000000</td>\n",
       "      <td>226.280000</td>\n",
       "      <td>0.000000</td>\n",
       "      <td>4.000000</td>\n",
       "      <td>1994.000000</td>\n",
       "      <td>4.000000</td>\n",
       "      <td>2010.000000</td>\n",
       "    </tr>\n",
       "    <tr>\n",
       "      <th>50%</th>\n",
       "      <td>10000.000000</td>\n",
       "      <td>10000.000000</td>\n",
       "      <td>9202.846434</td>\n",
       "      <td>11.860000</td>\n",
       "      <td>283.280000</td>\n",
       "      <td>4.000000</td>\n",
       "      <td>6.000000e+04</td>\n",
       "      <td>13.540000</td>\n",
       "      <td>0.000000</td>\n",
       "      <td>1.00000</td>\n",
       "      <td>...</td>\n",
       "      <td>1379.820000</td>\n",
       "      <td>0.000000</td>\n",
       "      <td>0.000000</td>\n",
       "      <td>0.000000</td>\n",
       "      <td>571.700000</td>\n",
       "      <td>0.000000</td>\n",
       "      <td>7.000000</td>\n",
       "      <td>1998.000000</td>\n",
       "      <td>7.000000</td>\n",
       "      <td>2011.000000</td>\n",
       "    </tr>\n",
       "    <tr>\n",
       "      <th>75%</th>\n",
       "      <td>15000.000000</td>\n",
       "      <td>15000.000000</td>\n",
       "      <td>14508.454150</td>\n",
       "      <td>14.650000</td>\n",
       "      <td>432.220000</td>\n",
       "      <td>9.000000</td>\n",
       "      <td>8.300000e+04</td>\n",
       "      <td>18.690000</td>\n",
       "      <td>0.000000</td>\n",
       "      <td>1.00000</td>\n",
       "      <td>...</td>\n",
       "      <td>2891.860000</td>\n",
       "      <td>0.000000</td>\n",
       "      <td>0.000000</td>\n",
       "      <td>0.000000</td>\n",
       "      <td>3457.580000</td>\n",
       "      <td>0.000000</td>\n",
       "      <td>10.000000</td>\n",
       "      <td>2001.000000</td>\n",
       "      <td>10.000000</td>\n",
       "      <td>2011.000000</td>\n",
       "    </tr>\n",
       "    <tr>\n",
       "      <th>max</th>\n",
       "      <td>35000.000000</td>\n",
       "      <td>35000.000000</td>\n",
       "      <td>35000.000000</td>\n",
       "      <td>24.400000</td>\n",
       "      <td>1305.190000</td>\n",
       "      <td>10.000000</td>\n",
       "      <td>6.000000e+06</td>\n",
       "      <td>29.990000</td>\n",
       "      <td>11.000000</td>\n",
       "      <td>8.00000</td>\n",
       "      <td>...</td>\n",
       "      <td>23563.680000</td>\n",
       "      <td>180.200000</td>\n",
       "      <td>29623.350000</td>\n",
       "      <td>7002.190000</td>\n",
       "      <td>36115.200000</td>\n",
       "      <td>2.000000</td>\n",
       "      <td>12.000000</td>\n",
       "      <td>2068.000000</td>\n",
       "      <td>12.000000</td>\n",
       "      <td>2011.000000</td>\n",
       "    </tr>\n",
       "  </tbody>\n",
       "</table>\n",
       "<p>8 rows × 30 columns</p>\n",
       "</div>"
      ],
      "text/plain": [
       "          loan_amnt   funded_amnt  funded_amnt_inv      int_rate  \\\n",
       "count  36433.000000  36433.000000     36433.000000  36433.000000   \n",
       "mean   11307.679851  11032.834244     10601.325781     12.073862   \n",
       "std     7433.859357   7166.484281      7072.842604      3.734758   \n",
       "min      500.000000    500.000000         0.000000      5.420000   \n",
       "25%     5600.000000   5500.000000      5000.000000      9.320000   \n",
       "50%    10000.000000  10000.000000      9202.846434     11.860000   \n",
       "75%    15000.000000  15000.000000     14508.454150     14.650000   \n",
       "max    35000.000000  35000.000000     35000.000000     24.400000   \n",
       "\n",
       "        installment    emp_length    annual_inc           dti   delinq_2yrs  \\\n",
       "count  36433.000000  36433.000000  3.643300e+04  36433.000000  36433.000000   \n",
       "mean     326.186394      5.015645  6.930522e+04     13.444131      0.146131   \n",
       "std      207.389943      3.542914  6.354244e+04      6.643308      0.492199   \n",
       "min       16.080000      0.000000  4.000000e+03      0.000000      0.000000   \n",
       "25%      168.900000      2.000000  4.200000e+04      8.360000      0.000000   \n",
       "50%      283.280000      4.000000  6.000000e+04     13.540000      0.000000   \n",
       "75%      432.220000      9.000000  8.300000e+04     18.690000      0.000000   \n",
       "max     1305.190000     10.000000  6.000000e+06     29.990000     11.000000   \n",
       "\n",
       "       inq_last_6mths  ...  total_rec_int  total_rec_late_fee    recoveries  \\\n",
       "count     36433.00000  ...   36433.000000        36433.000000  36433.000000   \n",
       "mean          0.86493  ...    2304.404937            1.299840     92.855490   \n",
       "std           1.06343  ...    2629.542911            7.065629    682.047187   \n",
       "min           0.00000  ...       6.220000            0.000000      0.000000   \n",
       "25%           0.00000  ...     678.010000            0.000000      0.000000   \n",
       "50%           1.00000  ...    1379.820000            0.000000      0.000000   \n",
       "75%           1.00000  ...    2891.860000            0.000000      0.000000   \n",
       "max           8.00000  ...   23563.680000          180.200000  29623.350000   \n",
       "\n",
       "       collection_recovery_fee  last_pymnt_amnt  pub_rec_bankruptcies  \\\n",
       "count             36433.000000     36433.000000          36433.000000   \n",
       "mean                 11.677065      2742.955476              0.041418   \n",
       "std                 140.880327      4473.528922              0.200221   \n",
       "min                   0.000000         0.010000              0.000000   \n",
       "25%                   0.000000       226.280000              0.000000   \n",
       "50%                   0.000000       571.700000              0.000000   \n",
       "75%                   0.000000      3457.580000              0.000000   \n",
       "max                7002.190000     36115.200000              2.000000   \n",
       "\n",
       "       earliest_cr_line_month  earliest_cr_line_year  issue_d_month  \\\n",
       "count            36433.000000           36433.000000   36433.000000   \n",
       "mean                 6.897318            1996.910603       7.210606   \n",
       "std                  3.542471               6.940984       3.357084   \n",
       "min                  1.000000            1969.000000       1.000000   \n",
       "25%                  4.000000            1994.000000       4.000000   \n",
       "50%                  7.000000            1998.000000       7.000000   \n",
       "75%                 10.000000            2001.000000      10.000000   \n",
       "max                 12.000000            2068.000000      12.000000   \n",
       "\n",
       "       issue_d_year  \n",
       "count  36433.000000  \n",
       "mean    2010.373535  \n",
       "std        0.807599  \n",
       "min     2007.000000  \n",
       "25%     2010.000000  \n",
       "50%     2011.000000  \n",
       "75%     2011.000000  \n",
       "max     2011.000000  \n",
       "\n",
       "[8 rows x 30 columns]"
      ]
     },
     "execution_count": 89,
     "metadata": {},
     "output_type": "execute_result"
    }
   ],
   "source": [
    "loan.describe()"
   ]
  },
  {
   "cell_type": "code",
   "execution_count": 90,
   "metadata": {},
   "outputs": [],
   "source": [
    "loan.to_csv('loan_ready_for_analysis.csv', encoding='utf-8', index=False)"
   ]
  },
  {
   "cell_type": "code",
   "execution_count": 91,
   "metadata": {},
   "outputs": [
    {
     "data": {
      "text/plain": [
       "(36433, 44)"
      ]
     },
     "execution_count": 91,
     "metadata": {},
     "output_type": "execute_result"
    }
   ],
   "source": [
    "loan.shape"
   ]
  },
  {
   "cell_type": "code",
   "execution_count": 92,
   "metadata": {},
   "outputs": [
    {
     "data": {
      "text/plain": [
       "Fully Paid     30424\n",
       "Charged Off     4943\n",
       "Current         1066\n",
       "Name: loan_status, dtype: int64"
      ]
     },
     "execution_count": 92,
     "metadata": {},
     "output_type": "execute_result"
    }
   ],
   "source": [
    "loan.loan_status.value_counts()"
   ]
  },
  {
   "cell_type": "code",
   "execution_count": 93,
   "metadata": {},
   "outputs": [],
   "source": [
    "#Since we need to understand differences in the features between loans that have been fully paid or charged off.\n",
    "#Let's not consider loans that are current. So we only keep the loans with status \"Fully Paid\" or \"Charged Off.\"\n",
    "loan = loan[loan['loan_status'].isin(['Fully Paid','Charged Off'])]"
   ]
  },
  {
   "cell_type": "code",
   "execution_count": 94,
   "metadata": {},
   "outputs": [
    {
     "data": {
      "text/plain": [
       "(35367, 44)"
      ]
     },
     "execution_count": 94,
     "metadata": {},
     "output_type": "execute_result"
    }
   ],
   "source": [
    "loan.shape"
   ]
  },
  {
   "cell_type": "code",
   "execution_count": 95,
   "metadata": {},
   "outputs": [],
   "source": [
    "## Wonderful solution to show labels in bar plots - copied from https://stackoverflow.com/a/48372659 and edited\n",
    "def showLabels(ax, d=None):\n",
    "    plt.margins(0.2, 0.2)\n",
    "    rects = ax.patches\n",
    "    i = 0\n",
    "    locs, labels = plt.xticks() \n",
    "    counts = {}\n",
    "    if not d is None:\n",
    "        for key, value in d.items():\n",
    "            counts[str(key)] = value\n",
    "\n",
    "    # For each bar: Place a label\n",
    "    for rect in rects:\n",
    "        # Get X and Y placement of label from rect.\n",
    "        y_value = rect.get_height()\n",
    "        x_value = rect.get_x() + rect.get_width() / 2\n",
    "\n",
    "        # Number of points between bar and label. Change to your liking.\n",
    "        space = 5\n",
    "        # Vertical alignment for positive values\n",
    "        va = 'bottom'\n",
    "\n",
    "        # If value of bar is negative: Place label below bar\n",
    "        if y_value < 0:\n",
    "            # Invert space to place label below\n",
    "            space *= -1\n",
    "            # Vertically align label at top\n",
    "            va = 'top'\n",
    "\n",
    "        # Use Y value as label and format number with one decimal place\n",
    "        if d is None:\n",
    "            label = \"{:.1f}%\".format(y_value)\n",
    "        else:\n",
    "            try:\n",
    "                label = \"{:.1f}%\".format(y_value) + \"\\nof \" + str(counts[str(labels[i].get_text())])\n",
    "            except:\n",
    "                label = \"{:.1f}%\".format(y_value)\n",
    "        \n",
    "        i = i+1\n",
    "\n",
    "        # Create annotation\n",
    "        plt.annotate(\n",
    "            label,                      # Use `label` as label\n",
    "            (x_value, y_value),         # Place label at end of the bar\n",
    "            xytext=(0, space),          # Vertically shift label by `space`\n",
    "            textcoords=\"offset points\", # Interpret `xytext` as offset in points\n",
    "            ha='center',                # Horizontally center label\n",
    "            va=va)                      # Vertically align label differently for\n",
    "                                        # positive and negative values."
   ]
  },
  {
   "cell_type": "code",
   "execution_count": 96,
   "metadata": {},
   "outputs": [],
   "source": [
    "# This function plots a given column buckets against loan_status (default = 'Charged Off')\n",
    "# The plots are in percentages \n",
    "# (absolute numbers do not make sense -> category values can have very different absolute numbers)\n",
    "# We want to see what are the chances of some category leading to loan default\n",
    "# Absolute numbers are also printed to assess level of confidence in a % value. \n",
    "def plotLoanStatus(dataframe, by, loanstatus='Charged Off'):\n",
    "    grp = dataframe.groupby(['loan_status',by])[by].count()\n",
    "    cnt = dataframe.groupby(by)[by].count()\n",
    "    #print(grp)\n",
    "    percentages = grp.unstack() * 100 / cnt.T\n",
    "    #print(percentages)\n",
    "    ax = percentages.loc[loanstatus].plot.bar(color=sns.color_palette('husl', 16))\n",
    "    ax.set_ylabel('% of loans ' + loanstatus)\n",
    "    showLabels(ax, grp[loanstatus].to_dict())\n",
    "    plt.margins(0.2, 0.2)\n",
    "    plt.tight_layout()\n",
    "    return ax"
   ]
  },
  {
   "cell_type": "code",
   "execution_count": 97,
   "metadata": {},
   "outputs": [],
   "source": [
    "# This method plots a distribution of target column, and its boxplot against loan_status column\n",
    "def plot_distribution(dataframe, col):\n",
    "    plt.figure(figsize=(15,5))\n",
    "    plt.subplot(1, 2, 1)\n",
    "    ax = sns.distplot(dataframe[col])\n",
    "    plt.subplot(1, 2, 2)\n",
    "    sns.boxplot(x=dataframe[col], y=dataframe['loan_status'], data=dataframe)\n",
    "    plt.show()"
   ]
  },
  {
   "cell_type": "code",
   "execution_count": 98,
   "metadata": {},
   "outputs": [],
   "source": [
    "#This method prints two plots side by side \n",
    "# Left one is percentage of a categorical variable in the entire dataset \n",
    "# Right one is percentage for Charged Off loans \n",
    "# Significant changes in percentage from left to right can indicate a value of interest\n",
    "def plot_percentages(dataframe, by, sortbyindex=False):\n",
    "    plt.subplot(1, 2, 1)\n",
    "    values = (loan[by].value_counts(normalize=True)*100)\n",
    "    if sortbyindex:\n",
    "        values = values.sort_index()\n",
    "    ax = values.plot.bar(color=sns.color_palette('husl', 16))\n",
    "    ax.set_ylabel('% in dataset', fontsize=16)\n",
    "    ax.set_xlabel(by, fontsize=12)\n",
    "    showLabels(ax)\n",
    "    plt.subplot(1, 2, 2)\n",
    "    #ax = loan.groupby('loan_status')['term'].value_counts(normalize=True).loc[:'Charged Off'].plot.bar(color=sns.color_palette('husl', 16))\n",
    "    values = (loan.loc[loan['loan_status']=='Charged Off'][by].value_counts(normalize=True)*100)\n",
    "    if sortbyindex:\n",
    "        values = values.sort_index()\n",
    "    ax = values.plot.bar(color=sns.color_palette('husl', 16))\n",
    "    ax.set_ylabel('% in Charged Off loans', fontsize=16)\n",
    "    f\n",
    "    showLabels(ax)"
   ]
  },
  {
   "cell_type": "code",
   "execution_count": 99,
   "metadata": {},
   "outputs": [
    {
     "data": {
      "text/plain": [
       "A    25.843300\n",
       "B    30.305087\n",
       "C    20.304238\n",
       "D    13.184607\n",
       "E     7.015014\n",
       "F     2.550400\n",
       "G     0.797353\n",
       "Name: grade, dtype: float64"
      ]
     },
     "execution_count": 99,
     "metadata": {},
     "output_type": "execute_result"
    }
   ],
   "source": [
    "(loan['grade'].value_counts(normalize=True)*100).sort_index()"
   ]
  },
  {
   "cell_type": "code",
   "execution_count": 100,
   "metadata": {},
   "outputs": [
    {
     "data": {
      "image/png": "[encoded data removed]",
      "text/plain": [
       "<Figure size 360x504 with 1 Axes>"
      ]
     },
     "metadata": {
      "needs_background": "light"
     },
     "output_type": "display_data"
    }
   ],
   "source": [
    "plt.figure(figsize=(5,7))\n",
    "ax = loan.groupby('loan_status').loan_amnt.count().plot.bar()\n",
    "showLabels(ax)\n",
    "plt.show()"
   ]
  },
  {
   "cell_type": "code",
   "execution_count": 101,
   "metadata": {},
   "outputs": [
    {
     "name": "stdout",
     "output_type": "stream",
     "text": [
      "13.98\n"
     ]
    }
   ],
   "source": [
    "print(\"%.2f\" % (loan.loc[loan['loan_status'] == 'Charged Off'].loan_status.count() * 100/len(loan)))"
   ]
  },
  {
   "cell_type": "code",
   "execution_count": 102,
   "metadata": {},
   "outputs": [
    {
     "data": {
      "image/png": "[encoded data removed]",
      "text/plain": [
       "<Figure size 360x504 with 1 Axes>"
      ]
     },
     "metadata": {
      "needs_background": "light"
     },
     "output_type": "display_data"
    }
   ],
   "source": [
    "#Approximately 14% of loans in the dataset are defaulted.\n",
    "#looking into loan recovered now.\n",
    "plt.figure(figsize=(5,7))\n",
    "ax = (loan.groupby('loan_status').total_pymnt.sum() * 100 / loan.groupby('loan_status').loan_amnt.sum()).plot.bar()\n",
    "ax.set_ylabel('% loan recovered', fontsize=16)\n",
    "plt.margins(0.2, 0.2)\n",
    "showLabels(ax)"
   ]
  },
  {
   "cell_type": "code",
   "execution_count": 103,
   "metadata": {},
   "outputs": [
    {
     "data": {
      "image/png": "[encoded data removed]",
      "text/plain": [
       "<Figure size 1080x360 with 2 Axes>"
      ]
     },
     "metadata": {
      "needs_background": "light"
     },
     "output_type": "display_data"
    }
   ],
   "source": [
    "#Lending Club only recovers 57% of the loan amount when loans are defaulted. On fully paid up loans, the company makes 17% profit.\n",
    "plot_distribution(loan, 'loan_amnt')"
   ]
  },
  {
   "cell_type": "code",
   "execution_count": 104,
   "metadata": {},
   "outputs": [
    {
     "data": {
      "text/html": [
       "<div>\n",
       "<style scoped>\n",
       "    .dataframe tbody tr th:only-of-type {\n",
       "        vertical-align: middle;\n",
       "    }\n",
       "\n",
       "    .dataframe tbody tr th {\n",
       "        vertical-align: top;\n",
       "    }\n",
       "\n",
       "    .dataframe thead th {\n",
       "        text-align: right;\n",
       "    }\n",
       "</style>\n",
       "<table border=\"1\" class=\"dataframe\">\n",
       "  <thead>\n",
       "    <tr style=\"text-align: right;\">\n",
       "      <th></th>\n",
       "      <th>count</th>\n",
       "      <th>mean</th>\n",
       "      <th>std</th>\n",
       "      <th>min</th>\n",
       "      <th>25%</th>\n",
       "      <th>50%</th>\n",
       "      <th>75%</th>\n",
       "      <th>max</th>\n",
       "    </tr>\n",
       "    <tr>\n",
       "      <th>loan_status</th>\n",
       "      <th></th>\n",
       "      <th></th>\n",
       "      <th></th>\n",
       "      <th></th>\n",
       "      <th></th>\n",
       "      <th></th>\n",
       "      <th></th>\n",
       "      <th></th>\n",
       "    </tr>\n",
       "  </thead>\n",
       "  <tbody>\n",
       "    <tr>\n",
       "      <th>Charged Off</th>\n",
       "      <td>4943.0</td>\n",
       "      <td>12286.147077</td>\n",
       "      <td>8064.255961</td>\n",
       "      <td>1000.0</td>\n",
       "      <td>6000.0</td>\n",
       "      <td>10000.0</td>\n",
       "      <td>17000.0</td>\n",
       "      <td>35000.0</td>\n",
       "    </tr>\n",
       "    <tr>\n",
       "      <th>Fully Paid</th>\n",
       "      <td>30424.0</td>\n",
       "      <td>10945.731166</td>\n",
       "      <td>7181.867451</td>\n",
       "      <td>500.0</td>\n",
       "      <td>5500.0</td>\n",
       "      <td>9600.0</td>\n",
       "      <td>15000.0</td>\n",
       "      <td>35000.0</td>\n",
       "    </tr>\n",
       "  </tbody>\n",
       "</table>\n",
       "</div>"
      ],
      "text/plain": [
       "               count          mean          std     min     25%      50%  \\\n",
       "loan_status                                                                \n",
       "Charged Off   4943.0  12286.147077  8064.255961  1000.0  6000.0  10000.0   \n",
       "Fully Paid   30424.0  10945.731166  7181.867451   500.0  5500.0   9600.0   \n",
       "\n",
       "                 75%      max  \n",
       "loan_status                    \n",
       "Charged Off  17000.0  35000.0  \n",
       "Fully Paid   15000.0  35000.0  "
      ]
     },
     "execution_count": 104,
     "metadata": {},
     "output_type": "execute_result"
    }
   ],
   "source": [
    "loan.groupby('loan_status')['loan_amnt'].describe()"
   ]
  },
  {
   "cell_type": "code",
   "execution_count": 105,
   "metadata": {},
   "outputs": [],
   "source": [
    "\n",
    "#Observation:\n",
    "\n",
    "#Overall, the applied loan amount distribution is slightly right-skewed with mean greater than the median. Most of the loans granted are below 15000 (75 percentile value)\n",
    "#Funding amounts see a spike around each 5000 boundary. We will use 5000 as bucket size for later analysis.\n",
    "#Charged off loans are shifted towards higher average loan amount request.\n"
   ]
  },
  {
   "cell_type": "code",
   "execution_count": 106,
   "metadata": {},
   "outputs": [
    {
     "name": "stderr",
     "output_type": "stream",
     "text": [
      "<ipython-input-106-1b5f75bd2075>:2: SettingWithCopyWarning: \n",
      "A value is trying to be set on a copy of a slice from a DataFrame.\n",
      "Try using .loc[row_indexer,col_indexer] = value instead\n",
      "\n",
      "See the caveats in the documentation: https://pandas.pydata.org/pandas-docs/stable/user_guide/indexing.html#returning-a-view-versus-a-copy\n",
      "  loan['loan_amnt_bin'] = pd.cut(loan['loan_amnt'],\n"
     ]
    }
   ],
   "source": [
    "#Create Derived categorical variable\n",
    "loan['loan_amnt_bin'] = pd.cut(loan['loan_amnt'], \n",
    "                                      [x for x in range(0, 36000, 5000)], labels=[str(x)+'-'+str(x+5)+'k' for x in range (0, 35, 5)])\n"
   ]
  },
  {
   "cell_type": "code",
   "execution_count": 107,
   "metadata": {},
   "outputs": [
    {
     "data": {
      "text/plain": [
       "<matplotlib.axes._subplots.AxesSubplot at 0x27a82591f40>"
      ]
     },
     "execution_count": 107,
     "metadata": {},
     "output_type": "execute_result"
    },
    {
     "data": {
      "image/png": "[encoded data removed]",
      "text/plain": [
       "<Figure size 432x288 with 1 Axes>"
      ]
     },
     "metadata": {
      "needs_background": "light"
     },
     "output_type": "display_data"
    }
   ],
   "source": [
    "plotLoanStatus(loan, 'loan_amnt_bin')"
   ]
  },
  {
   "cell_type": "code",
   "execution_count": 108,
   "metadata": {},
   "outputs": [],
   "source": [
    "#The % of charged off loans increases substancially as we go up the loan amount buckets. Most loans are below 20000 amount. \n",
    "#The higher loans, though lesser in number, carry a substantially higher risk of default."
   ]
  },
  {
   "cell_type": "code",
   "execution_count": 109,
   "metadata": {},
   "outputs": [],
   "source": [
    "def categoricalBarPlots(df, arr):\n",
    "    rows = int(len(arr)/2)\n",
    "    for idx, val in enumerate(arr, start=1):\n",
    "        plt.subplot(rows, 2, idx)\n",
    "        ax = df.groupby(val).loan_amnt.count().plot.bar(color=sns.color_palette('husl', 16))\n",
    "        showLabels(ax)\n",
    "\n",
    "    plt.tight_layout()"
   ]
  },
  {
   "cell_type": "code",
   "execution_count": 110,
   "metadata": {},
   "outputs": [
    {
     "data": {
      "image/png": "[encoded data removed]",
      "text/plain": [
       "<Figure size 1080x1080 with 6 Axes>"
      ]
     },
     "metadata": {
      "needs_background": "light"
     },
     "output_type": "display_data"
    }
   ],
   "source": [
    "plt.figure(figsize=(15,15))\n",
    "\n",
    "categoricalBarPlots(loan, ['home_ownership', 'term', 'verification_status', 'purpose', 'grade', 'pub_rec_bankruptcies'])"
   ]
  },
  {
   "cell_type": "code",
   "execution_count": 111,
   "metadata": {},
   "outputs": [],
   "source": [
    "#Most loans are for 36 month term\n",
    "#Very few loans are extended to people with prior record of bankruptcy\n",
    "#debt_consolidation is by far the largest 'purpose' for seeking a loan\n",
    "#Most approved loans are high grade\n",
    "#We should investigate the frequencies of defaults by term, purpose and prior record of bankruptcy"
   ]
  },
  {
   "cell_type": "code",
   "execution_count": 112,
   "metadata": {},
   "outputs": [
    {
     "data": {
      "image/png": "[encoded data removed]",
      "text/plain": [
       "<Figure size 1080x360 with 3 Axes>"
      ]
     },
     "metadata": {
      "needs_background": "light"
     },
     "output_type": "display_data"
    }
   ],
   "source": [
    "#Let's see if some of these variables follow the famous power law.\n",
    "plt.figure(figsize=(15,5))\n",
    "plt.subplot(1, 3, 1)\n",
    "loan.groupby('grade').loan_amnt.count().sort_values(ascending=False).plot(kind='line', logy=True, marker='o', color='b')\n",
    "plt.subplot(1, 3, 2)\n",
    "loan.groupby('purpose').loan_amnt.count().sort_values(ascending=False).plot(kind='line', logy=True, marker='o', color='b')\n",
    "plt.subplot(1, 3, 3)\n",
    "loan.groupby('verification_status').loan_amnt.count().sort_values(ascending=False).plot(kind='line', logy=True, marker='o', color='b')\n",
    "plt.tight_layout()"
   ]
  },
  {
   "cell_type": "code",
   "execution_count": 113,
   "metadata": {},
   "outputs": [],
   "source": [
    "#purpose and verification_status follow the power law"
   ]
  },
  {
   "cell_type": "code",
   "execution_count": 114,
   "metadata": {},
   "outputs": [
    {
     "ename": "NameError",
     "evalue": "name 'f' is not defined",
     "output_type": "error",
     "traceback": [
      "\u001b[1;31m---------------------------------------------------------------------------\u001b[0m",
      "\u001b[1;31mNameError\u001b[0m                                 Traceback (most recent call last)",
      "\u001b[1;32m<ipython-input-114-66797d967a9f>\u001b[0m in \u001b[0;36m<module>\u001b[1;34m\u001b[0m\n\u001b[0;32m      1\u001b[0m \u001b[0mplt\u001b[0m\u001b[1;33m.\u001b[0m\u001b[0mfigure\u001b[0m\u001b[1;33m(\u001b[0m\u001b[0mfigsize\u001b[0m\u001b[1;33m=\u001b[0m\u001b[1;33m(\u001b[0m\u001b[1;36m10\u001b[0m\u001b[1;33m,\u001b[0m\u001b[1;36m5\u001b[0m\u001b[1;33m)\u001b[0m\u001b[1;33m)\u001b[0m\u001b[1;33m\u001b[0m\u001b[1;33m\u001b[0m\u001b[0m\n\u001b[1;32m----> 2\u001b[1;33m \u001b[0mplot_percentages\u001b[0m\u001b[1;33m(\u001b[0m\u001b[0mloan\u001b[0m\u001b[1;33m,\u001b[0m \u001b[1;34m'term'\u001b[0m\u001b[1;33m)\u001b[0m\u001b[1;33m\u001b[0m\u001b[1;33m\u001b[0m\u001b[0m\n\u001b[0m",
      "\u001b[1;32m<ipython-input-98-0db54c792194>\u001b[0m in \u001b[0;36mplot_percentages\u001b[1;34m(dataframe, by, sortbyindex)\u001b[0m\n\u001b[0;32m     19\u001b[0m     \u001b[0max\u001b[0m \u001b[1;33m=\u001b[0m \u001b[0mvalues\u001b[0m\u001b[1;33m.\u001b[0m\u001b[0mplot\u001b[0m\u001b[1;33m.\u001b[0m\u001b[0mbar\u001b[0m\u001b[1;33m(\u001b[0m\u001b[0mcolor\u001b[0m\u001b[1;33m=\u001b[0m\u001b[0msns\u001b[0m\u001b[1;33m.\u001b[0m\u001b[0mcolor_palette\u001b[0m\u001b[1;33m(\u001b[0m\u001b[1;34m'husl'\u001b[0m\u001b[1;33m,\u001b[0m \u001b[1;36m16\u001b[0m\u001b[1;33m)\u001b[0m\u001b[1;33m)\u001b[0m\u001b[1;33m\u001b[0m\u001b[1;33m\u001b[0m\u001b[0m\n\u001b[0;32m     20\u001b[0m     \u001b[0max\u001b[0m\u001b[1;33m.\u001b[0m\u001b[0mset_ylabel\u001b[0m\u001b[1;33m(\u001b[0m\u001b[1;34m'% in Charged Off loans'\u001b[0m\u001b[1;33m,\u001b[0m \u001b[0mfontsize\u001b[0m\u001b[1;33m=\u001b[0m\u001b[1;36m16\u001b[0m\u001b[1;33m)\u001b[0m\u001b[1;33m\u001b[0m\u001b[1;33m\u001b[0m\u001b[0m\n\u001b[1;32m---> 21\u001b[1;33m     \u001b[0mf\u001b[0m\u001b[1;33m\u001b[0m\u001b[1;33m\u001b[0m\u001b[0m\n\u001b[0m\u001b[0;32m     22\u001b[0m     \u001b[0mshowLabels\u001b[0m\u001b[1;33m(\u001b[0m\u001b[0max\u001b[0m\u001b[1;33m)\u001b[0m\u001b[1;33m\u001b[0m\u001b[1;33m\u001b[0m\u001b[0m\n",
      "\u001b[1;31mNameError\u001b[0m: name 'f' is not defined"
     ]
    },
    {
     "data": {
      "image/png": "[encoded data removed]",
      "text/plain": [
       "<Figure size 720x360 with 2 Axes>"
      ]
     },
     "metadata": {
      "needs_background": "light"
     },
     "output_type": "display_data"
    }
   ],
   "source": [
    "plt.figure(figsize=(10,5))\n",
    "plot_percentages(loan, 'term')"
   ]
  },
  {
   "cell_type": "code",
   "execution_count": null,
   "metadata": {},
   "outputs": [],
   "source": [
    "#Around 75% of the total loans are given for duration of 3 years. while just 25% of the loans are those given for 5 years.\n",
    "#Among Charged Off loans, percentage of term 60 months rises to 45%. The higher term loans have a higher chance of default."
   ]
  },
  {
   "cell_type": "code",
   "execution_count": 115,
   "metadata": {},
   "outputs": [
    {
     "ename": "NameError",
     "evalue": "name 'f' is not defined",
     "output_type": "error",
     "traceback": [
      "\u001b[1;31m---------------------------------------------------------------------------\u001b[0m",
      "\u001b[1;31mNameError\u001b[0m                                 Traceback (most recent call last)",
      "\u001b[1;32m<ipython-input-115-cd597e5f265d>\u001b[0m in \u001b[0;36m<module>\u001b[1;34m\u001b[0m\n\u001b[0;32m      1\u001b[0m \u001b[0mplt\u001b[0m\u001b[1;33m.\u001b[0m\u001b[0mfigure\u001b[0m\u001b[1;33m(\u001b[0m\u001b[0mfigsize\u001b[0m\u001b[1;33m=\u001b[0m\u001b[1;33m(\u001b[0m\u001b[1;36m15\u001b[0m\u001b[1;33m,\u001b[0m\u001b[1;36m5\u001b[0m\u001b[1;33m)\u001b[0m\u001b[1;33m)\u001b[0m\u001b[1;33m\u001b[0m\u001b[1;33m\u001b[0m\u001b[0m\n\u001b[1;32m----> 2\u001b[1;33m \u001b[0mplot_percentages\u001b[0m\u001b[1;33m(\u001b[0m\u001b[0mloan\u001b[0m\u001b[1;33m,\u001b[0m \u001b[1;34m'purpose'\u001b[0m\u001b[1;33m)\u001b[0m\u001b[1;33m\u001b[0m\u001b[1;33m\u001b[0m\u001b[0m\n\u001b[0m",
      "\u001b[1;32m<ipython-input-98-0db54c792194>\u001b[0m in \u001b[0;36mplot_percentages\u001b[1;34m(dataframe, by, sortbyindex)\u001b[0m\n\u001b[0;32m     19\u001b[0m     \u001b[0max\u001b[0m \u001b[1;33m=\u001b[0m \u001b[0mvalues\u001b[0m\u001b[1;33m.\u001b[0m\u001b[0mplot\u001b[0m\u001b[1;33m.\u001b[0m\u001b[0mbar\u001b[0m\u001b[1;33m(\u001b[0m\u001b[0mcolor\u001b[0m\u001b[1;33m=\u001b[0m\u001b[0msns\u001b[0m\u001b[1;33m.\u001b[0m\u001b[0mcolor_palette\u001b[0m\u001b[1;33m(\u001b[0m\u001b[1;34m'husl'\u001b[0m\u001b[1;33m,\u001b[0m \u001b[1;36m16\u001b[0m\u001b[1;33m)\u001b[0m\u001b[1;33m)\u001b[0m\u001b[1;33m\u001b[0m\u001b[1;33m\u001b[0m\u001b[0m\n\u001b[0;32m     20\u001b[0m     \u001b[0max\u001b[0m\u001b[1;33m.\u001b[0m\u001b[0mset_ylabel\u001b[0m\u001b[1;33m(\u001b[0m\u001b[1;34m'% in Charged Off loans'\u001b[0m\u001b[1;33m,\u001b[0m \u001b[0mfontsize\u001b[0m\u001b[1;33m=\u001b[0m\u001b[1;36m16\u001b[0m\u001b[1;33m)\u001b[0m\u001b[1;33m\u001b[0m\u001b[1;33m\u001b[0m\u001b[0m\n\u001b[1;32m---> 21\u001b[1;33m     \u001b[0mf\u001b[0m\u001b[1;33m\u001b[0m\u001b[1;33m\u001b[0m\u001b[0m\n\u001b[0m\u001b[0;32m     22\u001b[0m     \u001b[0mshowLabels\u001b[0m\u001b[1;33m(\u001b[0m\u001b[0max\u001b[0m\u001b[1;33m)\u001b[0m\u001b[1;33m\u001b[0m\u001b[1;33m\u001b[0m\u001b[0m\n",
      "\u001b[1;31mNameError\u001b[0m: name 'f' is not defined"
     ]
    },
    {
     "data": {
      "image/png": "[encoded data removed]",
      "text/plain": [
       "<Figure size 1080x360 with 2 Axes>"
      ]
     },
     "metadata": {
      "needs_background": "light"
     },
     "output_type": "display_data"
    }
   ],
   "source": [
    "plt.figure(figsize=(15,5))\n",
    "plot_percentages(loan, 'purpose')"
   ]
  },
  {
   "cell_type": "code",
   "execution_count": 116,
   "metadata": {},
   "outputs": [
    {
     "data": {
      "text/plain": [
       "<matplotlib.axes._subplots.AxesSubplot at 0x27a87bf5850>"
      ]
     },
     "execution_count": 116,
     "metadata": {},
     "output_type": "execute_result"
    },
    {
     "data": {
      "image/png": "[encoded data removed]",
      "text/plain": [
       "<Figure size 720x360 with 1 Axes>"
      ]
     },
     "metadata": {
      "needs_background": "light"
     },
     "output_type": "display_data"
    }
   ],
   "source": [
    "plt.figure(figsize=(10, 5))\n",
    "plotLoanStatus(loan, 'purpose')"
   ]
  },
  {
   "cell_type": "code",
   "execution_count": null,
   "metadata": {},
   "outputs": [],
   "source": [
    "#26% of loans for small business are Charged Off. Making them the most risky purpose.\n",
    "#Approximately ~49% of the loans are issued for the purpose of dept consolidation.\n",
    "#17% of the loans for renewable_enrgy are charged Off, but the number is too less to be of significance."
   ]
  },
  {
   "cell_type": "code",
   "execution_count": 117,
   "metadata": {},
   "outputs": [
    {
     "data": {
      "text/plain": [
       "<matplotlib.axes._subplots.AxesSubplot at 0x27a80dde7f0>"
      ]
     },
     "execution_count": 117,
     "metadata": {},
     "output_type": "execute_result"
    },
    {
     "data": {
      "image/png": "[encoded data removed]",
      "text/plain": [
       "<Figure size 504x360 with 1 Axes>"
      ]
     },
     "metadata": {
      "needs_background": "light"
     },
     "output_type": "display_data"
    }
   ],
   "source": [
    "plt.figure(figsize=(7,5))\n",
    "plotLoanStatus(loan, 'pub_rec_bankruptcies')"
   ]
  },
  {
   "cell_type": "code",
   "execution_count": null,
   "metadata": {},
   "outputs": [],
   "source": [
    "loan.int_rate.describe()"
   ]
  },
  {
   "cell_type": "code",
   "execution_count": null,
   "metadata": {},
   "outputs": [],
   "source": []
  }
 ],
 "metadata": {
  "kernelspec": {
   "display_name": "Python 3",
   "language": "python",
   "name": "python3"
  },
  "language_info": {
   "codemirror_mode": {
    "name": "ipython",
    "version": 3
   },
   "file_extension": ".py",
   "mimetype": "text/x-python",
   "name": "python",
   "nbconvert_exporter": "python",
   "pygments_lexer": "ipython3",
   "version": "3.8.3"
  }
 },
 "nbformat": 4,
 "nbformat_minor": 4
}
